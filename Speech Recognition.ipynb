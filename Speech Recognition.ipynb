{
 "cells": [
  {
   "cell_type": "code",
   "execution_count": 2,
   "metadata": {},
   "outputs": [],
   "source": [
    "import sys\n",
    "import os\n",
    "import speech_recognition as sr\n",
    "from pydub import AudioSegment\n",
    "import pandas as pd\n",
    "from pathlib import Path\n",
    "from sklearn.metrics import jaccard_score\n",
    "import re\n",
    "os.environ[\"GOOGLE_APPLICATION_CREDENTIALS\"]=\"Key/SpeechReg-2b5d8171274a.json\""
   ]
  },
  {
   "cell_type": "markdown",
   "metadata": {},
   "source": [
    "# Example Speech to text"
   ]
  },
  {
   "cell_type": "code",
   "execution_count": 4,
   "metadata": {},
   "outputs": [
    {
     "name": "stdout",
     "output_type": "stream",
     "text": [
      "--------------------------------------------------------------------------------\n",
      "Transcript: Hello, you have called virtual bank. This is Linda speaking. How may I help you? Hi Linda. I was just at your bill branch and I think I left my debit card in the ATM machine. Okay. Do you have your debit card number? I don't know. Okay. Well, do you have the checking account number associated with the debit card, but I do have are you ready? I will give you what I have got 760-545-6789. Okay. That's +765-450-600-7089. Correct? What is your identification number? 774-589-6589 665 okay. I have +774-580-960-5896 65 and what is your name sir? It is Robert. Appel board. Okay.\n",
      "Confidence: 72%\n",
      "  0.000 |   0.400 | Hello,\n",
      "  0.400 |   1.200 | you\n",
      "  1.200 |   1.300 | have\n",
      "  1.300 |   1.800 | called\n",
      "  1.800 |   2.200 | virtual\n",
      "  2.200 |   2.400 | bank.\n",
      "  2.400 |   3.200 | This\n",
      "  3.200 |   3.400 | is\n",
      "  3.400 |   3.800 | Linda\n",
      "  3.800 |   4.300 | speaking.\n",
      "  4.300 |   5.300 | How\n",
      "  5.300 |   5.300 | may\n",
      "  5.300 |   5.500 | I\n",
      "  5.500 |   5.700 | help\n",
      "  5.700 |   5.900 | you?\n",
      "  6.200 |   6.800 | Hi\n",
      "  6.800 |   7.200 | Linda.\n",
      "  7.200 |   8.000 | I\n",
      "  8.000 |   8.200 | was\n",
      "  8.200 |   8.300 | just\n",
      "  8.300 |   8.700 | at\n",
      "  8.700 |   8.800 | your\n",
      "  8.800 |   9.000 | bill\n",
      "  9.000 |   9.500 | branch\n",
      "  9.500 |   9.800 | and\n",
      "  9.800 |   9.800 | I\n",
      "  9.800 |  10.000 | think\n",
      " 10.000 |  10.200 | I\n",
      " 10.200 |  10.400 | left\n",
      " 10.400 |  10.700 | my\n",
      " 10.700 |  11.100 | debit\n",
      " 11.100 |  11.200 | card\n",
      " 11.200 |  11.600 | in\n",
      " 11.600 |  11.700 | the\n",
      " 11.700 |  11.800 | ATM\n",
      " 11.800 |  12.300 | machine.\n",
      " 12.300 |  13.100 | Okay.\n",
      " 13.100 |  14.200 | Do\n",
      " 14.200 |  14.200 | you\n",
      " 14.200 |  14.400 | have\n",
      " 14.400 |  14.600 | your\n",
      " 14.600 |  15.000 | debit\n",
      " 15.000 |  15.100 | card\n",
      " 15.100 |  15.400 | number?\n",
      " 15.400 |  16.400 | I\n",
      " 16.400 |  16.500 | don't\n",
      " 16.500 |  16.700 | know.\n",
      " 16.700 |  18.200 | Okay.\n",
      " 18.200 |  18.900 | Well,\n",
      " 18.900 |  19.200 | do\n",
      " 19.200 |  19.300 | you\n",
      " 19.300 |  19.400 | have\n",
      " 19.400 |  19.600 | the\n",
      " 19.600 |  19.900 | checking\n",
      " 19.900 |  20.500 | account\n",
      " 20.500 |  20.800 | number\n",
      " 20.800 |  21.100 | associated\n",
      " 21.100 |  21.800 | with\n",
      " 21.800 |  21.900 | the\n",
      " 21.900 |  22.300 | debit\n",
      " 22.300 |  22.400 | card,\n",
      " 22.400 |  23.100 | but\n",
      " 23.100 |  23.300 | I\n",
      " 23.300 |  23.400 | do\n",
      " 23.400 |  23.600 | have\n",
      " 23.600 |  24.600 | are\n",
      " 24.600 |  24.800 | you\n",
      " 24.800 |  25.100 | ready?\n",
      " 25.100 |  25.900 | I\n",
      " 25.900 |  26.100 | will\n",
      " 26.100 |  26.200 | give\n",
      " 26.200 |  26.500 | you\n",
      " 26.500 |  26.600 | what\n",
      " 26.600 |  26.700 | I\n",
      " 26.700 |  26.800 | have\n",
      " 26.800 |  27.200 | got\n",
      " 27.200 |  30.600 | 760-545-6789.\n",
      " 30.600 |  31.800 | Okay.\n",
      " 31.800 |  32.700 | That's\n",
      " 32.700 |  35.700 | +765-450-600-7089.\n",
      " 36.000 |  36.700 | Correct?\n",
      " 36.800 |  37.200 | What\n",
      " 37.200 |  37.300 | is\n",
      " 37.300 |  37.500 | your\n",
      " 37.500 |  38.100 | identification\n",
      " 38.100 |  38.900 | number?\n",
      " 38.900 |  42.700 | 774-589-6589\n",
      " 42.700 |  43.700 | 665\n",
      " 43.700 |  44.500 | okay.\n",
      " 44.500 |  45.200 | I\n",
      " 45.200 |  45.400 | have\n",
      " 45.400 |  49.000 | +774-580-960-5896\n",
      " 49.000 |  49.500 | 65\n",
      " 49.500 |  50.200 | and\n",
      " 50.200 |  50.300 | what\n",
      " 50.300 |  50.400 | is\n",
      " 50.400 |  50.600 | your\n",
      " 50.600 |  50.700 | name\n",
      " 50.700 |  51.100 | sir?\n",
      " 51.100 |  51.800 | It\n",
      " 51.800 |  51.900 | is\n",
      " 51.900 |  52.300 | Robert.\n",
      " 52.300 |  52.700 | Appel\n",
      " 52.700 |  53.000 | board.\n",
      " 53.000 |  53.800 | Okay.\n",
      "--------------------------------------------------------------------------------\n",
      "Transcript: I have Robert Applebaum yet. And what is your date of birth Mr. Appelbaum, July 7th, 1974. Okay, July 7th, 1974. Yes, and your phone number. It is 610-265-1715. Okay, I have 610-265-1715. Yes. Okay, Mr. Appelbaum. I have just this pended your card. If it is in the machine, we will contact you as lift the suspension 00. Thank you, sir. Thank you.\n",
      "Confidence: 70%\n",
      " 54.400 |  54.400 | I\n",
      " 54.400 |  55.000 | have\n",
      " 55.000 |  55.400 | Robert\n",
      " 55.400 |  56.000 | Applebaum\n",
      " 56.000 |  57.100 | yet.\n",
      " 57.100 |  58.300 | And\n",
      " 58.300 |  58.400 | what\n",
      " 58.400 |  58.500 | is\n",
      " 58.500 |  58.700 | your\n",
      " 58.700 |  58.900 | date\n",
      " 58.900 |  59.100 | of\n",
      " 59.100 |  59.300 | birth\n",
      " 59.300 |  59.800 | Mr.\n",
      " 59.800 |  60.300 | Appelbaum,\n",
      " 60.300 |  61.600 | July\n",
      " 61.600 |  62.100 | 7th,\n",
      " 62.100 |  63.500 | 1974.\n",
      " 63.800 |  64.900 | Okay,\n",
      " 64.900 |  66.000 | July\n",
      " 66.000 |  66.600 | 7th,\n",
      " 66.600 |  68.300 | 1974.\n",
      " 68.600 |  69.300 | Yes,\n",
      " 69.300 |  70.300 | and\n",
      " 70.300 |  70.400 | your\n",
      " 70.400 |  70.700 | phone\n",
      " 70.700 |  71.100 | number.\n",
      " 71.100 |  71.900 | It\n",
      " 71.900 |  71.900 | is\n",
      " 71.900 |  75.400 | 610-265-1715.\n",
      " 75.400 |  76.000 | Okay,\n",
      " 76.000 |  76.400 | I\n",
      " 76.400 |  77.400 | have\n",
      " 77.400 |  80.700 | 610-265-1715.\n",
      " 81.000 |  81.400 | Yes.\n",
      " 81.600 |  82.600 | Okay,\n",
      " 82.600 |  83.100 | Mr.\n",
      " 83.100 |  83.600 | Appelbaum.\n",
      " 83.600 |  84.500 | I\n",
      " 84.500 |  84.800 | have\n",
      " 84.800 |  85.200 | just\n",
      " 85.200 |  85.300 | this\n",
      " 85.300 |  85.800 | pended\n",
      " 85.800 |  85.900 | your\n",
      " 85.900 |  86.400 | card.\n",
      " 86.400 |  87.200 | If\n",
      " 87.200 |  87.400 | it\n",
      " 87.400 |  87.500 | is\n",
      " 87.500 |  87.600 | in\n",
      " 87.600 |  87.700 | the\n",
      " 87.700 |  87.900 | machine,\n",
      " 87.900 |  88.800 | we\n",
      " 88.800 |  89.000 | will\n",
      " 89.000 |  89.400 | contact\n",
      " 89.400 |  89.800 | you\n",
      " 89.800 |  89.900 | as\n",
      " 89.900 |  90.300 | lift\n",
      " 90.300 |  90.400 | the\n",
      " 90.400 |  90.500 | suspension\n",
      " 90.500 |  91.700 | 00.\n",
      " 91.700 |  92.400 | Thank\n",
      " 92.400 |  92.500 | you,\n",
      " 92.500 |  93.400 | sir.\n",
      " 93.400 |  94.500 | Thank\n",
      " 94.500 |  94.700 | you.\n"
     ]
    }
   ],
   "source": [
    "from google.cloud import speech\n",
    "\n",
    "audio = speech.RecognitionAudio(uri=\"gs://voicedata_speech/Voice/conversation 2.wav\")\n",
    "config = speech.RecognitionConfig(\n",
    "            sample_rate_hertz=16000,\n",
    "            language_code=\"en-US\",\n",
    "            enable_automatic_punctuation=True,\n",
    "            enable_word_time_offsets=True,\n",
    "            model=\"phone_call\")\n",
    "\n",
    "data = []\n",
    "start_all = []\n",
    "end_all = []\n",
    "word_all = []\n",
    "\n",
    "def speech_to_text(config, audio):\n",
    "    client = speech.SpeechClient()\n",
    "    operation = client.long_running_recognize(config=config, audio=audio)\n",
    "    response = operation.result(timeout=90)\n",
    "    return print_sentences(response)\n",
    "\n",
    "def print_sentences(response):\n",
    "    for result in response.results:\n",
    "        best_alternative = result.alternatives[0]\n",
    "        transcript = best_alternative.transcript\n",
    "        confidence = best_alternative.confidence\n",
    "        data.append(transcript)\n",
    "        print(\"-\" * 80)\n",
    "        print(f\"Transcript: {transcript}\")\n",
    "        print(f\"Confidence: {confidence:.0%}\")\n",
    "        print_word_offsets(best_alternative)\n",
    "        \n",
    "def print_word_offsets(alternative):\n",
    "    start,end,words = [],[],[]\n",
    "    for word in alternative.words:\n",
    "        start_s = word.start_time.total_seconds()\n",
    "        start.append(start_s)\n",
    "        end_s = word.end_time.total_seconds()\n",
    "        end.append(end_s)\n",
    "        word = word.word\n",
    "        words.append(word)\n",
    "        print(f\"{start_s:>7.3f} | {end_s:>7.3f} | {word}\")\n",
    "        \n",
    "        start_all.append(start_s)\n",
    "        end_all.append(end_s)\n",
    "        word_all.append(word)\n",
    "    trans = ''.join(data)\n",
    "    resultdict = {'transcript':trans,'values':{'start':start_all,'end':end_all,'word':word_all}}\n",
    "    return resultdict\n",
    "speech_to_text(config, audio)"
   ]
  },
  {
   "cell_type": "code",
   "execution_count": 10,
   "metadata": {},
   "outputs": [
    {
     "name": "stdout",
     "output_type": "stream",
     "text": [
      "{'transcript': \"Hello, you have called virtual bank. This is Linda speaking. How may I help you? Hi Linda. I was just at your bill branch and I think I left my debit card in the ATM machine. Okay. Do you have your debit card number? I don't know. Okay. Well, do you have the checking account number associated with the debit card, but I do have are you ready? I will give you what I have got 760-545-6789. Okay. That's +765-450-600-7089. Correct? What is your identification number? 774-589-6589 665 okay. I have +774-580-960-5896 65 and what is your name sir? It is Robert. Appel board. Okay.I have Robert Applebaum yet. And what is your date of birth Mr. Appelbaum, July 7th, 1974. Okay, July 7th, 1974. Yes, and your phone number. It is 610-265-1715. Okay, I have 610-265-1715. Yes. Okay, Mr. Appelbaum. I have just this pended your card. If it is in the machine, we will contact you as lift the suspension 00. Thank you, sir. Thank you.\", 'values': {'word': ['Hello,', 'you', 'have', 'called', 'virtual', 'bank.', 'This', 'is', 'Linda', 'speaking.', 'How', 'may', 'I', 'help', 'you?', 'Hi', 'Linda.', 'I', 'was', 'just', 'at', 'your', 'bill', 'branch', 'and', 'I', 'think', 'I', 'left', 'my', 'debit', 'card', 'in', 'the', 'ATM', 'machine.', 'Okay.', 'Do', 'you', 'have', 'your', 'debit', 'card', 'number?', 'I', \"don't\", 'know.', 'Okay.', 'Well,', 'do', 'you', 'have', 'the', 'checking', 'account', 'number', 'associated', 'with', 'the', 'debit', 'card,', 'but', 'I', 'do', 'have', 'are', 'you', 'ready?', 'I', 'will', 'give', 'you', 'what', 'I', 'have', 'got', '760-545-6789.', 'Okay.', \"That's\", '+765-450-600-7089.', 'Correct?', 'What', 'is', 'your', 'identification', 'number?', '774-589-6589', '665', 'okay.', 'I', 'have', '+774-580-960-5896', '65', 'and', 'what', 'is', 'your', 'name', 'sir?', 'It', 'is', 'Robert.', 'Appel', 'board.', 'Okay.', 'I', 'have', 'Robert', 'Applebaum', 'yet.', 'And', 'what', 'is', 'your', 'date', 'of', 'birth', 'Mr.', 'Appelbaum,', 'July', '7th,', '1974.', 'Okay,', 'July', '7th,', '1974.', 'Yes,', 'and', 'your', 'phone', 'number.', 'It', 'is', '610-265-1715.', 'Okay,', 'I', 'have', '610-265-1715.', 'Yes.', 'Okay,', 'Mr.', 'Appelbaum.', 'I', 'have', 'just', 'this', 'pended', 'your', 'card.', 'If', 'it', 'is', 'in', 'the', 'machine,', 'we', 'will', 'contact', 'you', 'as', 'lift', 'the', 'suspension', '00.', 'Thank', 'you,', 'sir.', 'Thank', 'you.'], 'start': [0.0, 0.4, 1.2, 1.3, 1.8, 2.2, 2.4, 3.2, 3.4, 3.8, 4.3, 5.3, 5.3, 5.5, 5.7, 6.2, 6.8, 7.2, 8.0, 8.2, 8.3, 8.7, 8.8, 9.0, 9.5, 9.8, 9.8, 10.0, 10.2, 10.4, 10.7, 11.1, 11.2, 11.6, 11.7, 11.8, 12.3, 13.1, 14.2, 14.2, 14.4, 14.6, 15.0, 15.1, 15.4, 16.4, 16.5, 16.7, 18.2, 18.9, 19.2, 19.3, 19.4, 19.6, 19.9, 20.5, 20.8, 21.1, 21.8, 21.9, 22.3, 22.4, 23.1, 23.3, 23.4, 23.6, 24.6, 24.8, 25.1, 25.9, 26.1, 26.2, 26.5, 26.6, 26.7, 26.8, 27.2, 30.6, 31.8, 32.7, 36.0, 36.8, 37.2, 37.3, 37.5, 38.1, 38.9, 42.7, 43.7, 44.5, 45.2, 45.4, 49.0, 49.5, 50.2, 50.3, 50.4, 50.6, 50.7, 51.1, 51.8, 51.9, 52.3, 52.7, 53.0, 54.4, 54.4, 55.0, 55.4, 56.0, 57.1, 58.3, 58.4, 58.5, 58.7, 58.9, 59.1, 59.3, 59.8, 60.3, 61.6, 62.1, 63.8, 64.9, 66.0, 66.6, 68.6, 69.3, 70.3, 70.4, 70.7, 71.1, 71.9, 71.9, 75.4, 76.0, 76.4, 77.4, 81.0, 81.6, 82.6, 83.1, 83.6, 84.5, 84.8, 85.2, 85.3, 85.8, 85.9, 86.4, 87.2, 87.4, 87.5, 87.6, 87.7, 87.9, 88.8, 89.0, 89.4, 89.8, 89.9, 90.3, 90.4, 90.5, 91.7, 92.4, 92.5, 93.4, 94.5], 'end': [0.4, 1.2, 1.3, 1.8, 2.2, 2.4, 3.2, 3.4, 3.8, 4.3, 5.3, 5.3, 5.5, 5.7, 5.9, 6.8, 7.2, 8.0, 8.2, 8.3, 8.7, 8.8, 9.0, 9.5, 9.8, 9.8, 10.0, 10.2, 10.4, 10.7, 11.1, 11.2, 11.6, 11.7, 11.8, 12.3, 13.1, 14.2, 14.2, 14.4, 14.6, 15.0, 15.1, 15.4, 16.4, 16.5, 16.7, 18.2, 18.9, 19.2, 19.3, 19.4, 19.6, 19.9, 20.5, 20.8, 21.1, 21.8, 21.9, 22.3, 22.4, 23.1, 23.3, 23.4, 23.6, 24.6, 24.8, 25.1, 25.9, 26.1, 26.2, 26.5, 26.6, 26.7, 26.8, 27.2, 30.6, 31.8, 32.7, 35.7, 36.7, 37.2, 37.3, 37.5, 38.1, 38.9, 42.7, 43.7, 44.5, 45.2, 45.4, 49.0, 49.5, 50.2, 50.3, 50.4, 50.6, 50.7, 51.1, 51.8, 51.9, 52.3, 52.7, 53.0, 53.8, 54.4, 55.0, 55.4, 56.0, 57.1, 58.3, 58.4, 58.5, 58.7, 58.9, 59.1, 59.3, 59.8, 60.3, 61.6, 62.1, 63.5, 64.9, 66.0, 66.6, 68.3, 69.3, 70.3, 70.4, 70.7, 71.1, 71.9, 71.9, 75.4, 76.0, 76.4, 77.4, 80.7, 81.4, 82.6, 83.1, 83.6, 84.5, 84.8, 85.2, 85.3, 85.8, 85.9, 86.4, 87.2, 87.4, 87.5, 87.6, 87.7, 87.9, 88.8, 89.0, 89.4, 89.8, 89.9, 90.3, 90.4, 90.5, 91.7, 92.4, 92.5, 93.4, 94.5, 94.7]}}\n"
     ]
    }
   ],
   "source": [
    "trans = ''.join(data)\n",
    "resultdict = {'transcript':trans,'values':{'word':word_all, 'start':start_all,'end':end_all}}\n",
    "print(resultdict)"
   ]
  },
  {
   "cell_type": "code",
   "execution_count": 7,
   "metadata": {},
   "outputs": [
    {
     "data": {
      "text/html": [
       "<div>\n",
       "<style scoped>\n",
       "    .dataframe tbody tr th:only-of-type {\n",
       "        vertical-align: middle;\n",
       "    }\n",
       "\n",
       "    .dataframe tbody tr th {\n",
       "        vertical-align: top;\n",
       "    }\n",
       "\n",
       "    .dataframe thead th {\n",
       "        text-align: right;\n",
       "    }\n",
       "</style>\n",
       "<table border=\"1\" class=\"dataframe\">\n",
       "  <thead>\n",
       "    <tr style=\"text-align: right;\">\n",
       "      <th></th>\n",
       "      <th>word</th>\n",
       "      <th>start_times</th>\n",
       "      <th>end_times</th>\n",
       "    </tr>\n",
       "  </thead>\n",
       "  <tbody>\n",
       "    <tr>\n",
       "      <td>0</td>\n",
       "      <td>Hello,</td>\n",
       "      <td>0.0</td>\n",
       "      <td>0.4</td>\n",
       "    </tr>\n",
       "    <tr>\n",
       "      <td>1</td>\n",
       "      <td>you</td>\n",
       "      <td>0.4</td>\n",
       "      <td>1.2</td>\n",
       "    </tr>\n",
       "    <tr>\n",
       "      <td>2</td>\n",
       "      <td>have</td>\n",
       "      <td>1.2</td>\n",
       "      <td>1.3</td>\n",
       "    </tr>\n",
       "    <tr>\n",
       "      <td>3</td>\n",
       "      <td>called</td>\n",
       "      <td>1.3</td>\n",
       "      <td>1.8</td>\n",
       "    </tr>\n",
       "    <tr>\n",
       "      <td>4</td>\n",
       "      <td>virtual</td>\n",
       "      <td>1.8</td>\n",
       "      <td>2.2</td>\n",
       "    </tr>\n",
       "    <tr>\n",
       "      <td>...</td>\n",
       "      <td>...</td>\n",
       "      <td>...</td>\n",
       "      <td>...</td>\n",
       "    </tr>\n",
       "    <tr>\n",
       "      <td>164</td>\n",
       "      <td>Thank</td>\n",
       "      <td>91.7</td>\n",
       "      <td>92.4</td>\n",
       "    </tr>\n",
       "    <tr>\n",
       "      <td>165</td>\n",
       "      <td>you,</td>\n",
       "      <td>92.4</td>\n",
       "      <td>92.5</td>\n",
       "    </tr>\n",
       "    <tr>\n",
       "      <td>166</td>\n",
       "      <td>sir.</td>\n",
       "      <td>92.5</td>\n",
       "      <td>93.4</td>\n",
       "    </tr>\n",
       "    <tr>\n",
       "      <td>167</td>\n",
       "      <td>Thank</td>\n",
       "      <td>93.4</td>\n",
       "      <td>94.5</td>\n",
       "    </tr>\n",
       "    <tr>\n",
       "      <td>168</td>\n",
       "      <td>you.</td>\n",
       "      <td>94.5</td>\n",
       "      <td>94.7</td>\n",
       "    </tr>\n",
       "  </tbody>\n",
       "</table>\n",
       "<p>169 rows × 3 columns</p>\n",
       "</div>"
      ],
      "text/plain": [
       "        word  start_times  end_times\n",
       "0     Hello,          0.0        0.4\n",
       "1        you          0.4        1.2\n",
       "2       have          1.2        1.3\n",
       "3     called          1.3        1.8\n",
       "4    virtual          1.8        2.2\n",
       "..       ...          ...        ...\n",
       "164    Thank         91.7       92.4\n",
       "165     you,         92.4       92.5\n",
       "166     sir.         92.5       93.4\n",
       "167    Thank         93.4       94.5\n",
       "168     you.         94.5       94.7\n",
       "\n",
       "[169 rows x 3 columns]"
      ]
     },
     "execution_count": 7,
     "metadata": {},
     "output_type": "execute_result"
    }
   ],
   "source": [
    "resultdict2 = {'word':word_all, 'start_times':start_all, 'end_times':end_all}\n",
    "df = pd.DataFrame.from_dict(resultdict2)\n",
    "df"
   ]
  },
  {
   "cell_type": "code",
   "execution_count": 234,
   "metadata": {},
   "outputs": [
    {
     "data": {
      "text/plain": [
       "\"Hello, you have called virtual bank. This is Linda speaking. How may I help you? Hi Linda. I was just at your bill branch and I think I left my debit card in the ATM machine. Okay. Do you have your debit card number? I don't know. Okay. Well, do you have the checking account number associated with the debit card, but I do have are you ready? I will give you what I have got 760-545-6789. Okay. That's +765-450-600-7089. Correct? What is your identification number? 774-589-6589 665 okay. I have +774-580-960-5896 65 and what is your name sir? It is Robert. Appel board. Okay.I have Robert Applebaum yet. And what is your date of birth Mr. Appelbaum, July 7th, 1974. Okay, July 7th, 1974. Yes, and your phone number. It is 610-265-1715. Okay, I have 610-265-1715. Yes. Okay, Mr. Appelbaum. I have just this pended your card. If it is in the machine, we will contact you as lift the suspension 00. Thank you, sir. Thank you.\""
      ]
     },
     "execution_count": 234,
     "metadata": {},
     "output_type": "execute_result"
    }
   ],
   "source": [
    "dict_ = resultdict['transcript']\n",
    "dict_"
   ]
  },
  {
   "cell_type": "code",
   "execution_count": 231,
   "metadata": {},
   "outputs": [],
   "source": [
    "# replace . and a space with only a space.\n",
    "def clean_text(dict_):\n",
    "    # replace . and a space with only a space.\n",
    "    text = dict_.replace(\".\", \" \").replace(\",\", \"\").replace(\"\\'\", \"\").replace(\"’\", \"\").replace(\"-\", \"\").replace(\"+\", \"\")\n",
    "    # get rid of the . at the end of each line. \n",
    "    cleaned_text = re.sub(\"\\.$\",\"\", text)\n",
    "    \n",
    "    return cleaned_text"
   ]
  },
  {
   "cell_type": "code",
   "execution_count": 232,
   "metadata": {},
   "outputs": [
    {
     "data": {
      "text/plain": [
       "'Hello you have called virtual bank  This is Linda speaking  How may I help you? Hi Linda  I was just at your bill branch and I think I left my debit card in the ATM machine  Okay  Do you have your debit card number? I dont know  Okay  Well do you have the checking account number associated with the debit card but I do have are you ready? I will give you what I have got 7605456789  Okay  Thats 7654506007089  Correct? What is your identification number? 7745896589 665 okay  I have 7745809605896 65 and what is your name sir? It is Robert  Appel board  Okay I have Robert Applebaum yet  And what is your date of birth Mr  Appelbaum July 7th 1974  Okay July 7th 1974  Yes and your phone number  It is 6102651715  Okay I have 6102651715  Yes  Okay Mr  Appelbaum  I have just this pended your card  If it is in the machine we will contact you as lift the suspension 00  Thank you sir  Thank you '"
      ]
     },
     "execution_count": 232,
     "metadata": {},
     "output_type": "execute_result"
    }
   ],
   "source": [
    "clean_text(dict_)"
   ]
  },
  {
   "cell_type": "code",
   "execution_count": 235,
   "metadata": {},
   "outputs": [
    {
     "data": {
      "text/plain": [
       "'Hello, you have called virtual bank, this is Linda speaking. How may I help you? Hi Linda. I was just at your Ville branch and I think I left my Debit card in the ATM machine. Okay. Do you have your Debit card number? I don’t have. Okay, well do you have the checking account number associated with the Debit card? That I do have. Are you ready? I will give you what I have got. 765-456-789. Okay. That’s 765-456-789. Correct. What is your identification number? 774-589-658-9665. Okay, I have 774-589-658-9665 and what is your name sir? It is Robert Applebaum. Okay. I have Robert Applebaum. Yes. And what is your date of birth Mr. Applebaum? July 7th, 1974. Okay. July 7th, 1974. Yes. And your phone number? It is 610-265-1715. Okay. I have 610-2651715. Yes. Okay Mr. Applebaum. I have just suspended your card. If it is in the machine, we will contact you and lift the suspension. Oh, thank you, Sure. Thank you.'"
      ]
     },
     "execution_count": 235,
     "metadata": {},
     "output_type": "execute_result"
    }
   ],
   "source": [
    "ori_text = open('data/Text files/Conversation 2.txt').read()\n",
    "ori_text"
   ]
  },
  {
   "cell_type": "code",
   "execution_count": 226,
   "metadata": {},
   "outputs": [],
   "source": [
    "# replace . and a space with only a space, then make all words lower case.\n",
    "def clean_text1(ori_text):\n",
    "    # replace . and a space with only a space, then make all words lower case.\n",
    "    text = ori_text.replace(\".\", \" \").replace(\",\", \"\").replace(\"\\'\", \"\").replace(\"’\", \"\").replace(\"-\", \"\").replace(\"+\", \"\")\n",
    "    # get rid of the . at the end of each line. \n",
    "    cleaned_text = re.sub(\"\\.$\",\"\", text)\n",
    "    \n",
    "    return cleaned_text"
   ]
  },
  {
   "cell_type": "code",
   "execution_count": 228,
   "metadata": {},
   "outputs": [
    {
     "data": {
      "text/plain": [
       "'Hello you have called virtual bank this is Linda speaking  How may I help you? Hi Linda  I was just at your Ville branch and I think I left my Debit card in the ATM machine  Okay  Do you have your Debit card number? I dont have  Okay well do you have the checking account number associated with the Debit card? That I do have  Are you ready? I will give you what I have got  765456789  Okay  Thats 765456789  Correct  What is your identification number? 7745896589665  Okay I have 7745896589665 and what is your name sir? It is Robert Applebaum  Okay  I have Robert Applebaum  Yes  And what is your date of birth Mr  Applebaum? July 7th 1974  Okay  July 7th 1974  Yes  And your phone number? It is 6102651715  Okay  I have 6102651715  Yes  Okay Mr  Applebaum  I have just suspended your card  If it is in the machine we will contact you and lift the suspension  Oh thank you Sure  Thank you '"
      ]
     },
     "execution_count": 228,
     "metadata": {},
     "output_type": "execute_result"
    }
   ],
   "source": [
    "clean_text1(ori_text)"
   ]
  },
  {
   "cell_type": "code",
   "execution_count": 189,
   "metadata": {},
   "outputs": [],
   "source": [
    "def Jaccard_Similarity(doc1, doc2): \n",
    "    \n",
    "    words_doc1 = set(doc1.lower().split()) \n",
    "    words_doc2 = set(doc2.lower().split())\n",
    "    \n",
    "    intersection = set(words_doc1).intersection(set(words_doc2))\n",
    "    union = words_doc1.union(words_doc2)\n",
    "        \n",
    "    return float(len(intersection)) / len(union)"
   ]
  },
  {
   "cell_type": "code",
   "execution_count": 233,
   "metadata": {},
   "outputs": [
    {
     "name": "stdout",
     "output_type": "stream",
     "text": [
      "Accuracy of the conversation: 71.43 %\n"
     ]
    }
   ],
   "source": [
    "acc = Jaccard_Similarity(clean_text(dict_)/\n",
    "    , clean_text1(ori_text))\n",
    "acc = acc*100\n",
    "\n",
    "print('Accuracy of the conversation:', '%.2f' %acc, '%')"
   ]
  },
  {
   "cell_type": "code",
   "execution_count": 9,
   "metadata": {},
   "outputs": [],
   "source": [
    "import json\n",
    "with open('data/GG_Speech/conversation 2.json', 'w') as outfile:\n",
    "    json.dump(resultdict, outfile)"
   ]
  },
  {
   "cell_type": "code",
   "execution_count": null,
   "metadata": {},
   "outputs": [],
   "source": []
  }
 ],
 "metadata": {
  "kernelspec": {
   "display_name": "Python 3",
   "language": "python",
   "name": "python3"
  },
  "language_info": {
   "codemirror_mode": {
    "name": "ipython",
    "version": 3
   },
   "file_extension": ".py",
   "mimetype": "text/x-python",
   "name": "python",
   "nbconvert_exporter": "python",
   "pygments_lexer": "ipython3",
   "version": "3.8.3"
  }
 },
 "nbformat": 4,
 "nbformat_minor": 4
}
