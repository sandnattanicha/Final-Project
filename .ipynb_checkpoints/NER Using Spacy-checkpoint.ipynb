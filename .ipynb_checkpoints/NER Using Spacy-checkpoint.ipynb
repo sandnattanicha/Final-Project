{
 "cells": [
  {
   "cell_type": "code",
   "execution_count": 1,
   "metadata": {},
   "outputs": [],
   "source": [
    "import spacy\n",
    "from spacy import displacy"
   ]
  },
  {
   "cell_type": "code",
   "execution_count": 2,
   "metadata": {},
   "outputs": [],
   "source": [
    "nlp = spacy.load(r'C:/Users/Namwater/anaconda3/Lib/site-packages/en_core_web_sm/en_core_web_sm-2.3.1')"
   ]
  },
  {
   "cell_type": "code",
   "execution_count": 3,
   "metadata": {},
   "outputs": [],
   "source": [
    "text = \"\"\"Hello, you have called Virtual bank, this is Helen speaking. How may I help you?\n",
    "Hi Helen. I want to report a lost credit card.\n",
    "Okay. Do you have your Debit card number?\n",
    "Oh yes, that is 8574562111234522.\n",
    "Okay. That is 8574562111234522.\n",
    "Yes.\n",
    "What is your identification number?\n",
    "1145824598874.\n",
    "Okay, I have 1145824598874. And what is your name sir?\n",
    "My name is Sakai Jinn.\n",
    "Okay. Do you want me to permanent suspend your card sir?\n",
    "Yes, please. \n",
    "Okay, and your ledger balance in the account is 56,000 dollars, is that correct?\n",
    "Yes.\n",
    "Okay, I just permanent suspended your card. Thank you for using our service. Have a good day sir.\n",
    "Thank you.\"\"\""
   ]
  },
  {
   "cell_type": "markdown",
   "metadata": {},
   "source": [
    "### Predefined named entities"
   ]
  },
  {
   "cell_type": "code",
   "execution_count": 5,
   "metadata": {},
   "outputs": [
    {
     "name": "stdout",
     "output_type": "stream",
     "text": [
      "PERSON     - Helen\n",
      "PERSON     - Helen\n",
      "DATE       - 8574562111234522\n",
      "DATE       - 8574562111234522\n",
      "DATE       - 1145824598874\n",
      "DATE       - 1145824598874\n",
      "PERSON     - Sakai Jinn\n",
      "MONEY      - 56,000 dollars\n",
      "DATE       - a good day\n"
     ]
    }
   ],
   "source": [
    "ts = nlp(text)\n",
    "\n",
    "for ent in ts.ents:\n",
    "    print(f'{ent.label_.upper():{10}} - {ent.text}')"
   ]
  },
  {
   "cell_type": "code",
   "execution_count": 9,
   "metadata": {},
   "outputs": [
    {
     "name": "stdout",
     "output_type": "stream",
     "text": [
      "PERSON - People, including fictional\n",
      "GPE    - Countries, cities, states\n",
      "DATE   - Absolute or relative dates or periods\n",
      "MONEY  - Monetary values, including unit\n"
     ]
    }
   ],
   "source": [
    "# Explanation of all ner\n",
    "print(f'PERSON - {spacy.explain(\"PERSON\")}')\n",
    "print(f'GPE    - {spacy.explain(\"GPE\")}')\n",
    "print(f'DATE   - {spacy.explain(\"DATE\")}')\n",
    "print(f'MONEY  - {spacy.explain(\"MONEY\")}')"
   ]
  },
  {
   "cell_type": "markdown",
   "metadata": {},
   "source": [
    "### Creating custom NER"
   ]
  },
  {
   "cell_type": "code",
   "execution_count": 8,
   "metadata": {},
   "outputs": [
    {
     "name": "stdout",
     "output_type": "stream",
     "text": [
      "PERSON     - Helen\n",
      "PERSON     - Helen\n",
      "PERSON     - Sakai Jinn\n"
     ]
    }
   ],
   "source": [
    "# Extracting all PERSON named entities.\n",
    "\n",
    "for ent in ts.ents:\n",
    "    if ent.label_.upper() == 'PERSON':\n",
    "        print(f'{ent.label_.upper():{10}} - {ent.text}')"
   ]
  },
  {
   "cell_type": "code",
   "execution_count": null,
   "metadata": {},
   "outputs": [],
   "source": []
  }
 ],
 "metadata": {
  "kernelspec": {
   "display_name": "Python 3",
   "language": "python",
   "name": "python3"
  },
  "language_info": {
   "codemirror_mode": {
    "name": "ipython",
    "version": 3
   },
   "file_extension": ".py",
   "mimetype": "text/x-python",
   "name": "python",
   "nbconvert_exporter": "python",
   "pygments_lexer": "ipython3",
   "version": "3.8.3"
  }
 },
 "nbformat": 4,
 "nbformat_minor": 4
}
