{
 "cells": [
  {
   "cell_type": "markdown",
   "metadata": {},
   "source": [
    "# Detecting PII (Personally Identifiable Information)\n",
    "\n",
    "**Using NLTK Library**"
   ]
  },
  {
   "cell_type": "code",
   "execution_count": 27,
   "metadata": {},
   "outputs": [],
   "source": [
    "import json\n",
    "\n",
    "import pandas as pd\n",
    "\n",
    "from string import punctuation\n",
    "\n",
    "import nltk, re\n",
    "import nltk.corpus\n",
    "from nltk.corpus import brown\n",
    "from nltk.tokenize import sent_tokenize, word_tokenize, PunktSentenceTokenizer\n",
    "from nltk.probability import FreqDist\n",
    "from nltk.corpus import stopwords, state_union\n",
    "from nltk.stem import PorterStemmer\n",
    "from nltk.stem.wordnet import WordNetLemmatizer\n",
    "from nltk.tag.stanford import StanfordNERTagger\n",
    "from nltk import ne_chunk, pos_tag\n",
    "from nltk.tree import Tree\n",
    "from nltk import RegexpParser\n",
    "from nltk.chunk.api import ChunkParserI\n",
    "\n",
    "import matplotlib.pyplot as plt\n",
    "import seaborn as sns\n",
    "sns.set(palette='Set2', )\n",
    "%matplotlib inline\n",
    "\n",
    "from sklearn.model_selection import train_test_split\n",
    "\n",
    "# from faker import Faker"
   ]
  },
  {
   "cell_type": "code",
   "execution_count": null,
   "metadata": {},
   "outputs": [],
   "source": [
    "# with open('D:/DSBA/Year3 Term2/Project/Datasets/conversation.json', 'r') as json_file:\n",
    "#     f = json_file.read()\n",
    "# data = json.loads(f)\n",
    "# data"
   ]
  },
  {
   "cell_type": "code",
   "execution_count": null,
   "metadata": {},
   "outputs": [],
   "source": [
    "# for i in data['conversations']:\n",
    "#    print(i)"
   ]
  },
  {
   "cell_type": "markdown",
   "metadata": {},
   "source": [
    "***"
   ]
  },
  {
   "cell_type": "code",
   "execution_count": 2,
   "metadata": {},
   "outputs": [],
   "source": [
    "sentence = \"\"\"Hello, you have called Virtual bank, this is Nancy speaking. How may I help you?\n",
    "Oh, I just had withdrawn some cash from the ATM machine and ATM transaction failed but money got debited. Can you fix this problem?\n",
    "Sure. What is your account number?\n",
    "It is 111236669.\n",
    "Just a moment …. Okay and what is your name ma’am?\n",
    "My name is Sandra Reed.\n",
    "Okay, Miss Reed. Can I have your identify number?\n",
    "Okay. 5589766523663.\n",
    "Okay. I have 5589766523663.\n",
    "Correct.\n",
    "Where is the ATM machine that you had withdraw the cash?\n",
    "I do not know where exactly it is, but it is in the Pattaya beach.\n",
    "That is fine, we will check your withdrawal transaction and we will refund the money to your account. Do you want to receive the message when we refunding the money?\n",
    "Yes, please.\n",
    "Okay, what is your phone number ma’am?\n",
    "8779526987.\n",
    "Okay, I have 8779526987. We will send the message when we refunding the money to your account.\n",
    "Thanks, Nancy.\n",
    "Have a good day ma’am. Thank you.\n",
    "\"\"\""
   ]
  },
  {
   "cell_type": "code",
   "execution_count": 3,
   "metadata": {},
   "outputs": [
    {
     "data": {
      "text/plain": [
       "'Hello, you have called Virtual bank, this is Nancy speaking. How may I help you?\\nOh, I just had withdrawn some cash from the ATM machine and ATM transaction failed but money got debited. Can you fix this problem?\\nSure. What is your account number?\\nIt is 111236669.\\nJust a moment …. Okay and what is your name ma’am?\\nMy name is Sandra Reed.\\nOkay, Miss Reed. Can I have your identify number?\\nOkay. 5589766523663.\\nOkay. I have 5589766523663.\\nCorrect.\\nWhere is the ATM machine that you had withdraw the cash?\\nI do not know where exactly it is, but it is in the Pattaya beach.\\nThat is fine, we will check your withdrawal transaction and we will refund the money to your account. Do you want to receive the message when we refunding the money?\\nYes, please.\\nOkay, what is your phone number ma’am?\\n8779526987.\\nOkay, I have 8779526987. We will send the message when we refunding the money to your account.\\nThanks, Nancy.\\nHave a good day ma’am. Thank you.\\n'"
      ]
     },
     "execution_count": 3,
     "metadata": {},
     "output_type": "execute_result"
    }
   ],
   "source": [
    "sentence"
   ]
  },
  {
   "cell_type": "code",
   "execution_count": 4,
   "metadata": {},
   "outputs": [
    {
     "data": {
      "text/plain": [
       "str"
      ]
     },
     "execution_count": 4,
     "metadata": {},
     "output_type": "execute_result"
    }
   ],
   "source": [
    "type(sentence)"
   ]
  },
  {
   "cell_type": "markdown",
   "metadata": {},
   "source": [
    "***"
   ]
  },
  {
   "cell_type": "markdown",
   "metadata": {},
   "source": [
    "## Tokenization\n",
    "\n",
    "    Tokenization is the first step in text analytics. The process of breaking down a text paragraph into smaller chunks such as words or sentence is \n",
    "    called Tokenization. Token is a single entity that is building blocks for sentence or paragraph."
   ]
  },
  {
   "cell_type": "markdown",
   "metadata": {},
   "source": [
    "**Sentences tokenization:** the process of splitting up strings into “sentences”"
   ]
  },
  {
   "cell_type": "code",
   "execution_count": 5,
   "metadata": {},
   "outputs": [],
   "source": [
    "tokenized_sent = sent_tokenize(sentence)"
   ]
  },
  {
   "cell_type": "code",
   "execution_count": 6,
   "metadata": {},
   "outputs": [
    {
     "data": {
      "text/plain": [
       "['Hello, you have called Virtual bank, this is Nancy speaking.',\n",
       " 'How may I help you?',\n",
       " 'Oh, I just had withdrawn some cash from the ATM machine and ATM transaction failed but money got debited.',\n",
       " 'Can you fix this problem?',\n",
       " 'Sure.',\n",
       " 'What is your account number?',\n",
       " 'It is 111236669.',\n",
       " 'Just a moment ….',\n",
       " 'Okay and what is your name ma’am?',\n",
       " 'My name is Sandra Reed.',\n",
       " 'Okay, Miss Reed.',\n",
       " 'Can I have your identify number?',\n",
       " 'Okay.',\n",
       " '5589766523663.',\n",
       " 'Okay.',\n",
       " 'I have 5589766523663.',\n",
       " 'Correct.',\n",
       " 'Where is the ATM machine that you had withdraw the cash?',\n",
       " 'I do not know where exactly it is, but it is in the Pattaya beach.',\n",
       " 'That is fine, we will check your withdrawal transaction and we will refund the money to your account.',\n",
       " 'Do you want to receive the message when we refunding the money?',\n",
       " 'Yes, please.',\n",
       " 'Okay, what is your phone number ma’am?',\n",
       " '8779526987.',\n",
       " 'Okay, I have 8779526987.',\n",
       " 'We will send the message when we refunding the money to your account.',\n",
       " 'Thanks, Nancy.',\n",
       " 'Have a good day ma’am.',\n",
       " 'Thank you.']"
      ]
     },
     "execution_count": 6,
     "metadata": {},
     "output_type": "execute_result"
    }
   ],
   "source": [
    "tokenized_sent"
   ]
  },
  {
   "cell_type": "markdown",
   "metadata": {},
   "source": [
    "**Word Tokenization:** the process of splitting up “sentences” into “words”"
   ]
  },
  {
   "cell_type": "code",
   "execution_count": 7,
   "metadata": {},
   "outputs": [
    {
     "name": "stdout",
     "output_type": "stream",
     "text": [
      "[['Hello', ',', 'you', 'have', 'called', 'Virtual', 'bank', ',', 'this', 'is', 'Nancy', 'speaking', '.'], ['How', 'may', 'I', 'help', 'you', '?'], ['Oh', ',', 'I', 'just', 'had', 'withdrawn', 'some', 'cash', 'from', 'the', 'ATM', 'machine', 'and', 'ATM', 'transaction', 'failed', 'but', 'money', 'got', 'debited', '.'], ['Can', 'you', 'fix', 'this', 'problem', '?'], ['Sure', '.'], ['What', 'is', 'your', 'account', 'number', '?'], ['It', 'is', '111236669', '.'], ['Just', 'a', 'moment', '…', '.'], ['Okay', 'and', 'what', 'is', 'your', 'name', 'ma', '’', 'am', '?'], ['My', 'name', 'is', 'Sandra', 'Reed', '.'], ['Okay', ',', 'Miss', 'Reed', '.'], ['Can', 'I', 'have', 'your', 'identify', 'number', '?'], ['Okay', '.'], ['5589766523663', '.'], ['Okay', '.'], ['I', 'have', '5589766523663', '.'], ['Correct', '.'], ['Where', 'is', 'the', 'ATM', 'machine', 'that', 'you', 'had', 'withdraw', 'the', 'cash', '?'], ['I', 'do', 'not', 'know', 'where', 'exactly', 'it', 'is', ',', 'but', 'it', 'is', 'in', 'the', 'Pattaya', 'beach', '.'], ['That', 'is', 'fine', ',', 'we', 'will', 'check', 'your', 'withdrawal', 'transaction', 'and', 'we', 'will', 'refund', 'the', 'money', 'to', 'your', 'account', '.'], ['Do', 'you', 'want', 'to', 'receive', 'the', 'message', 'when', 'we', 'refunding', 'the', 'money', '?'], ['Yes', ',', 'please', '.'], ['Okay', ',', 'what', 'is', 'your', 'phone', 'number', 'ma', '’', 'am', '?'], ['8779526987', '.'], ['Okay', ',', 'I', 'have', '8779526987', '.'], ['We', 'will', 'send', 'the', 'message', 'when', 'we', 'refunding', 'the', 'money', 'to', 'your', 'account', '.'], ['Thanks', ',', 'Nancy', '.'], ['Have', 'a', 'good', 'day', 'ma', '’', 'am', '.'], ['Thank', 'you', '.']]\n"
     ]
    }
   ],
   "source": [
    "tokenized_word = []\n",
    "\n",
    "for sent in tokenized_sent:\n",
    "    tokenized_word.append(word_tokenize(sent))\n",
    "print(tokenized_word)"
   ]
  },
  {
   "cell_type": "markdown",
   "metadata": {},
   "source": [
    "***"
   ]
  },
  {
   "cell_type": "markdown",
   "metadata": {},
   "source": [
    "## Lowercasing"
   ]
  },
  {
   "cell_type": "code",
   "execution_count": 8,
   "metadata": {},
   "outputs": [
    {
     "name": "stdout",
     "output_type": "stream",
     "text": [
      "[['hello', ',', 'you', 'have', 'called', 'virtual', 'bank', ',', 'this', 'is', 'nancy', 'speaking', '.'], ['how', 'may', 'i', 'help', 'you', '?'], ['oh', ',', 'i', 'just', 'had', 'withdrawn', 'some', 'cash', 'from', 'the', 'atm', 'machine', 'and', 'atm', 'transaction', 'failed', 'but', 'money', 'got', 'debited', '.'], ['can', 'you', 'fix', 'this', 'problem', '?'], ['sure', '.'], ['what', 'is', 'your', 'account', 'number', '?'], ['it', 'is', '111236669', '.'], ['just', 'a', 'moment', '…', '.'], ['okay', 'and', 'what', 'is', 'your', 'name', 'ma', '’', 'am', '?'], ['my', 'name', 'is', 'sandra', 'reed', '.'], ['okay', ',', 'miss', 'reed', '.'], ['can', 'i', 'have', 'your', 'identify', 'number', '?'], ['okay', '.'], ['5589766523663', '.'], ['okay', '.'], ['i', 'have', '5589766523663', '.'], ['correct', '.'], ['where', 'is', 'the', 'atm', 'machine', 'that', 'you', 'had', 'withdraw', 'the', 'cash', '?'], ['i', 'do', 'not', 'know', 'where', 'exactly', 'it', 'is', ',', 'but', 'it', 'is', 'in', 'the', 'pattaya', 'beach', '.'], ['that', 'is', 'fine', ',', 'we', 'will', 'check', 'your', 'withdrawal', 'transaction', 'and', 'we', 'will', 'refund', 'the', 'money', 'to', 'your', 'account', '.'], ['do', 'you', 'want', 'to', 'receive', 'the', 'message', 'when', 'we', 'refunding', 'the', 'money', '?'], ['yes', ',', 'please', '.'], ['okay', ',', 'what', 'is', 'your', 'phone', 'number', 'ma', '’', 'am', '?'], ['8779526987', '.'], ['okay', ',', 'i', 'have', '8779526987', '.'], ['we', 'will', 'send', 'the', 'message', 'when', 'we', 'refunding', 'the', 'money', 'to', 'your', 'account', '.'], ['thanks', ',', 'nancy', '.'], ['have', 'a', 'good', 'day', 'ma', '’', 'am', '.'], ['thank', 'you', '.']]\n"
     ]
    }
   ],
   "source": [
    "tokenized_word_lower = []\n",
    "\n",
    "for sent in tokenized_sent:\n",
    "    tokenized_word_lower.append([word.lower() for word in word_tokenize(sent)])\n",
    "print(tokenized_word_lower)"
   ]
  },
  {
   "cell_type": "markdown",
   "metadata": {},
   "source": [
    "## Frequency Distribution"
   ]
  },
  {
   "cell_type": "code",
   "execution_count": 10,
   "metadata": {},
   "outputs": [],
   "source": [
    "# Distinct words\n",
    "fdist = FreqDist(word_tokenize(sentence))"
   ]
  },
  {
   "cell_type": "code",
   "execution_count": 11,
   "metadata": {},
   "outputs": [
    {
     "name": "stdout",
     "output_type": "stream",
     "text": [
      "<FreqDist with 98 samples and 217 outcomes>\n"
     ]
    }
   ],
   "source": [
    "print(fdist)"
   ]
  },
  {
   "cell_type": "code",
   "execution_count": 13,
   "metadata": {},
   "outputs": [
    {
     "data": {
      "text/plain": [
       "FreqDist({'.': 42, ',': 20, 'is': 20, 'the': 18, '?': 16, 'your': 14, 'you': 12, 'have': 9, 'we': 9, 'money': 8, ...})"
      ]
     },
     "execution_count": 13,
     "metadata": {},
     "output_type": "execute_result"
    }
   ],
   "source": [
    "for i in word_tokenize(sentence):\n",
    "    fdist[i.lower()]+=1\n",
    "fdist"
   ]
  },
  {
   "cell_type": "code",
   "execution_count": 14,
   "metadata": {},
   "outputs": [
    {
     "data": {
      "text/plain": [
       "117"
      ]
     },
     "execution_count": 14,
     "metadata": {},
     "output_type": "execute_result"
    }
   ],
   "source": [
    "# checking distinct tokens\n",
    "len(fdist)"
   ]
  },
  {
   "cell_type": "code",
   "execution_count": 17,
   "metadata": {},
   "outputs": [
    {
     "data": {
      "text/plain": [
       "[('.', 42),\n",
       " (',', 20),\n",
       " ('is', 20),\n",
       " ('the', 18),\n",
       " ('?', 16),\n",
       " ('your', 14),\n",
       " ('you', 12),\n",
       " ('have', 9),\n",
       " ('we', 9),\n",
       " ('money', 8)]"
      ]
     },
     "execution_count": 17,
     "metadata": {},
     "output_type": "execute_result"
    }
   ],
   "source": [
    "fdist.most_common(10)"
   ]
  },
  {
   "cell_type": "code",
   "execution_count": 18,
   "metadata": {},
   "outputs": [
    {
     "name": "stdout",
     "output_type": "stream",
     "text": [
      "[('.', 42), (',', 20), ('is', 20), ('the', 18), ('?', 16), ('your', 14), ('you', 12), ('have', 9), ('we', 9), ('money', 8), ('I', 6), ('and', 6), ('account', 6), ('number', 6), ('Okay', 6), ('ma', 6), ('’', 6), ('am', 6), ('will', 6), ('to', 6), ('i', 6), ('okay', 6), ('what', 5), ('it', 5), ('this', 4), ('had', 4), ('cash', 4), ('machine', 4), ('transaction', 4), ('but', 4), ('a', 4), ('name', 4), ('5589766523663', 4), ('message', 4), ('when', 4), ('refunding', 4), ('8779526987', 4), ('just', 3), ('ATM', 3), ('that', 3), ('do', 3), ('where', 3), ('atm', 3), ('called', 2), ('bank', 2), ('Nancy', 2), ('speaking', 2), ('may', 2), ('help', 2), ('withdrawn', 2), ('some', 2), ('from', 2), ('failed', 2), ('got', 2), ('debited', 2), ('Can', 2), ('fix', 2), ('problem', 2), ('111236669', 2), ('moment', 2), ('…', 2), ('Reed', 2), ('identify', 2), ('withdraw', 2), ('not', 2), ('know', 2), ('exactly', 2), ('in', 2), ('beach', 2), ('fine', 2), ('check', 2), ('withdrawal', 2), ('refund', 2), ('want', 2), ('receive', 2), ('please', 2), ('phone', 2), ('send', 2), ('good', 2), ('day', 2), ('nancy', 2), ('can', 2), ('reed', 2), ('Hello', 1), ('Virtual', 1), ('How', 1), ('Oh', 1), ('Sure', 1), ('What', 1), ('It', 1), ('Just', 1), ('My', 1), ('Sandra', 1), ('Miss', 1), ('Correct', 1), ('Where', 1), ('Pattaya', 1), ('That', 1), ('Do', 1), ('Yes', 1), ('We', 1), ('Thanks', 1), ('Have', 1), ('Thank', 1), ('hello', 1), ('virtual', 1), ('how', 1), ('oh', 1), ('sure', 1), ('my', 1), ('sandra', 1), ('miss', 1), ('correct', 1), ('pattaya', 1), ('yes', 1), ('thanks', 1), ('thank', 1)]\n"
     ]
    }
   ],
   "source": [
    "print(fdist.most_common())"
   ]
  },
  {
   "cell_type": "code",
   "execution_count": 19,
   "metadata": {
    "scrolled": false
   },
   "outputs": [
    {
     "data": {
      "image/png": "[encoded data removed]",
      "text/plain": [
       "<Figure size 1440x504 with 1 Axes>"
      ]
     },
     "metadata": {
      "needs_background": "light"
     },
     "output_type": "display_data"
    }
   ],
   "source": [
    "# Frequency Distribution Plot\n",
    "plt.figure(figsize = (20,7))\n",
    "fdist.plot(30, cumulative = False)\n",
    "plt.show()"
   ]
  },
  {
   "cell_type": "markdown",
   "metadata": {},
   "source": [
    "***"
   ]
  },
  {
   "cell_type": "markdown",
   "metadata": {},
   "source": [
    "## Stop words and Punctuations\n",
    "\n",
    "    Stopwords considered as noise in the text. Text may contain stop words such as is, am, are, this, a, an, the, etc.\n",
    "    \n",
    "    In NLTK for removing stopwords, you need to create a list of stopwords and filter out your list of tokens from these words."
   ]
  },
  {
   "cell_type": "code",
   "execution_count": 24,
   "metadata": {},
   "outputs": [
    {
     "name": "stdout",
     "output_type": "stream",
     "text": [
      "{'d', 'there', 'was', 'having', 'does', 'while', 'me', 'do', 'not', 'below', \"wasn't\", 'at', 'any', 'his', 'won', 'here', \"you'd\", 'out', 'both', 'our', 'being', 'between', 'and', 'isn', 'until', 'mustn', 'hers', 'y', \"isn't\", 'hadn', \"don't\", 'll', 'most', 'what', 'no', 's', 'other', 'where', 'why', 'has', 'be', 'shouldn', 'ours', \"you're\", 'you', 'this', 't', 'a', 'themselves', 'aren', 'above', \"didn't\", 'to', 'yourselves', 'in', 'their', \"that'll\", 'didn', 'same', 'myself', 'couldn', 'herself', 'during', 'himself', 'them', 'off', 'some', \"hadn't\", 'then', 'weren', 'more', 'with', 'haven', 'he', 'that', 'few', 'once', 'now', \"you've\", 'had', \"hasn't\", \"it's\", \"should've\", 'of', 'theirs', 'have', 'can', \"doesn't\", 'they', 'under', 'all', 'over', 'those', 're', \"shan't\", 'whom', 'by', 'yours', 'after', 'been', 'which', 'needn', 'its', 'were', 'did', \"wouldn't\", 'further', 'it', 'an', \"she's\", 'because', 'him', 'when', 'than', \"haven't\", 'we', 'who', 'such', \"mightn't\", 'before', 'should', 'doesn', 'for', 'own', \"couldn't\", 'on', 'she', 'shan', 'from', 'will', 'through', 'if', 'i', 'each', 'nor', 'are', \"aren't\", 'how', 'against', 'my', 'so', 'or', 'again', 'just', 'itself', \"needn't\", 'doing', 'wasn', 'into', 'o', \"mustn't\", 'as', 'm', 'is', 'down', 'only', 'don', 'these', 'very', 've', \"weren't\", 'ourselves', 'too', 'about', 'the', 'hasn', \"you'll\", 'your', \"won't\", 'wouldn', 'ma', \"shouldn't\", 'yourself', 'mightn', 'up', 'am', 'her', 'but', 'ain'}\n"
     ]
    }
   ],
   "source": [
    "stop_words = set(stopwords.words(\"english\")) # Set checking is faster in Python than list.\n",
    "print(stop_words)"
   ]
  },
  {
   "cell_type": "code",
   "execution_count": 25,
   "metadata": {},
   "outputs": [
    {
     "name": "stdout",
     "output_type": "stream",
     "text": [
      "['hello', ',', 'you', 'have', 'called', 'virtual', 'bank', ',', 'this', 'is', 'nancy', 'speaking', '.', 'how', 'may', 'i', 'help', 'you', '?', 'oh', ',', 'i', 'just', 'had', 'withdrawn', 'some', 'cash', 'from', 'the', 'atm', 'machine', 'and', 'atm', 'transaction', 'failed', 'but', 'money', 'got', 'debited', '.', 'can', 'you', 'fix', 'this', 'problem', '?', 'sure', '.', 'what', 'is', 'your', 'account', 'number', '?', 'it', 'is', '111236669', '.', 'just', 'a', 'moment', '…', '.', 'okay', 'and', 'what', 'is', 'your', 'name', 'ma', '’', 'am', '?', 'my', 'name', 'is', 'sandra', 'reed', '.', 'okay', ',', 'miss', 'reed', '.', 'can', 'i', 'have', 'your', 'identify', 'number', '?', 'okay', '.', '5589766523663', '.', 'okay', '.', 'i', 'have', '5589766523663', '.', 'correct', '.', 'where', 'is', 'the', 'atm', 'machine', 'that', 'you', 'had', 'withdraw', 'the', 'cash', '?', 'i', 'do', 'not', 'know', 'where', 'exactly', 'it', 'is', ',', 'but', 'it', 'is', 'in', 'the', 'pattaya', 'beach', '.', 'that', 'is', 'fine', ',', 'we', 'will', 'check', 'your', 'withdrawal', 'transaction', 'and', 'we', 'will', 'refund', 'the', 'money', 'to', 'your', 'account', '.', 'do', 'you', 'want', 'to', 'receive', 'the', 'message', 'when', 'we', 'refunding', 'the', 'money', '?', 'yes', ',', 'please', '.', 'okay', ',', 'what', 'is', 'your', 'phone', 'number', 'ma', '’', 'am', '?', '8779526987', '.', 'okay', ',', 'i', 'have', '8779526987', '.', 'we', 'will', 'send', 'the', 'message', 'when', 'we', 'refunding', 'the', 'money', 'to', 'your', 'account', '.', 'thanks', ',', 'nancy', '.', 'have', 'a', 'good', 'day', 'ma', '’', 'am', '.', 'thank', 'you', '.']\n"
     ]
    }
   ],
   "source": [
    "tokenized_lower = list(map(str.lower, word_tokenize(sentence)))\n",
    "print(tokenized_lower)"
   ]
  },
  {
   "cell_type": "markdown",
   "metadata": {},
   "source": [
    "**Puntuations**"
   ]
  },
  {
   "cell_type": "code",
   "execution_count": 28,
   "metadata": {},
   "outputs": [
    {
     "name": "stdout",
     "output_type": "stream",
     "text": [
      "From string.punctuation: <class 'str'> !\"#$%&'()*+,-./:;<=>?@[\\]^_`{|}~\n"
     ]
    }
   ],
   "source": [
    "print('From string.punctuation:', type(punctuation), punctuation)"
   ]
  },
  {
   "cell_type": "markdown",
   "metadata": {},
   "source": [
    "**Using a stronger/longer list of stopwords**\n",
    "\n",
    "    From the previous output, we have still dangly model verbs (i.e. 'could', 'wont', etc.).\n",
    "\n",
    "    So I will combine the stopwords in NLTK with stopword-json because it has stopwords in 50 languages.\n",
    "\n",
    "Stopwords from: https://github.com/6/stopwords-json"
   ]
  },
  {
   "cell_type": "code",
   "execution_count": 35,
   "metadata": {},
   "outputs": [],
   "source": [
    "# Stopwords from stopwords-json\n",
    "stopwords_json = {\"en\": [\"a\",\"a's\",\"able\",\"about\",\"above\",\"according\",\"accordingly\",\"across\",\"actually\",\"after\",\"afterwards\",\"again\",\"against\",\"ain't\",\"all\",\"allow\",\"allows\",\"almost\",\"alone\",\"along\",\"already\",\"also\",\"although\",\"always\",\"am\",\"among\",\"amongst\",\"an\",\"and\",\"another\",\"any\",\"anybody\",\"anyhow\",\"anyone\",\"anything\",\"anyway\",\"anyways\",\"anywhere\",\"apart\",\"appear\",\"appreciate\",\"appropriate\",\"are\",\"aren't\",\"around\",\"as\",\"aside\",\"ask\",\"asking\",\"associated\",\"at\",\"available\",\"away\",\"awfully\",\"b\",\"be\",\"became\",\"because\",\"become\",\"becomes\",\"becoming\",\"been\",\"before\",\"beforehand\",\"behind\",\"being\",\"believe\",\"below\",\"beside\",\"besides\",\"best\",\"better\",\"between\",\"beyond\",\"both\",\"brief\",\"but\",\"by\",\"c\",\"c'mon\",\"c's\",\"came\",\"can\",\"can't\",\"cannot\",\"cant\",\"cause\",\"causes\",\"certain\",\"certainly\",\"changes\",\"clearly\",\"co\",\"com\",\"come\",\"comes\",\"concerning\",\"consequently\",\"consider\",\"considering\",\"contain\",\"containing\",\"contains\",\"corresponding\",\"could\",\"couldn't\",\"course\",\"currently\",\"d\",\"definitely\",\"described\",\"despite\",\"did\",\"didn't\",\"different\",\"do\",\"does\",\"doesn't\",\"doing\",\"don't\",\"done\",\"down\",\"downwards\",\"during\",\"e\",\"each\",\"edu\",\"eg\",\"eight\",\"either\",\"else\",\"elsewhere\",\"enough\",\"entirely\",\"especially\",\"et\",\"etc\",\"even\",\"ever\",\"every\",\"everybody\",\"everyone\",\"everything\",\"everywhere\",\"ex\",\"exactly\",\"example\",\"except\",\"f\",\"far\",\"few\",\"fifth\",\"first\",\"five\",\"followed\",\"following\",\"follows\",\"for\",\"former\",\"formerly\",\"forth\",\"four\",\"from\",\"further\",\"furthermore\",\"g\",\"get\",\"gets\",\"getting\",\"given\",\"gives\",\"go\",\"goes\",\"going\",\"gone\",\"got\",\"gotten\",\"greetings\",\"h\",\"had\",\"hadn't\",\"happens\",\"hardly\",\"has\",\"hasn't\",\"have\",\"haven't\",\"having\",\"he\",\"he's\",\"hello\",\"help\",\"hence\",\"her\",\"here\",\"here's\",\"hereafter\",\"hereby\",\"herein\",\"hereupon\",\"hers\",\"herself\",\"hi\",\"him\",\"himself\",\"his\",\"hither\",\"hopefully\",\"how\",\"howbeit\",\"however\",\"i\",\"i'd\",\"i'll\",\"i'm\",\"i've\",\"ie\",\"if\",\"ignored\",\"immediate\",\"in\",\"inasmuch\",\"inc\",\"indeed\",\"indicate\",\"indicated\",\"indicates\",\"inner\",\"insofar\",\"instead\",\"into\",\"inward\",\"is\",\"isn't\",\"it\",\"it'd\",\"it'll\",\"it's\",\"its\",\"itself\",\"j\",\"just\",\"k\",\"keep\",\"keeps\",\"kept\",\"know\",\"known\",\"knows\",\"l\",\"last\",\"lately\",\"later\",\"latter\",\"latterly\",\"least\",\"less\",\"lest\",\"let\",\"let's\",\"like\",\"liked\",\"likely\",\"little\",\"look\",\"looking\",\"looks\",\"ltd\",\"m\",\"mainly\",\"many\",\"may\",\"maybe\",\"me\",\"mean\",\"meanwhile\",\"merely\",\"might\",\"more\",\"moreover\",\"most\",\"mostly\",\"much\",\"must\",\"my\",\"myself\",\"n\",\"name\",\"namely\",\"nd\",\"near\",\"nearly\",\"necessary\",\"need\",\"needs\",\"neither\",\"never\",\"nevertheless\",\"new\",\"next\",\"nine\",\"no\",\"nobody\",\"non\",\"none\",\"noone\",\"nor\",\"normally\",\"not\",\"nothing\",\"novel\",\"now\",\"nowhere\",\"o\",\"obviously\",\"of\",\"off\",\"often\",\"oh\",\"ok\",\"okay\",\"old\",\"on\",\"once\",\"one\",\"ones\",\"only\",\"onto\",\"or\",\"other\",\"others\",\"otherwise\",\"ought\",\"our\",\"ours\",\"ourselves\",\"out\",\"outside\",\"over\",\"overall\",\"own\",\"p\",\"particular\",\"particularly\",\"per\",\"perhaps\",\"placed\",\"please\",\"plus\",\"possible\",\"presumably\",\"probably\",\"provides\",\"q\",\"que\",\"quite\",\"qv\",\"r\",\"rather\",\"rd\",\"re\",\"really\",\"reasonably\",\"regarding\",\"regardless\",\"regards\",\"relatively\",\"respectively\",\"right\",\"s\",\"said\",\"same\",\"saw\",\"say\",\"saying\",\"says\",\"second\",\"secondly\",\"see\",\"seeing\",\"seem\",\"seemed\",\"seeming\",\"seems\",\"seen\",\"self\",\"selves\",\"sensible\",\"sent\",\"serious\",\"seriously\",\"seven\",\"several\",\"shall\",\"she\",\"should\",\"shouldn't\",\"since\",\"six\",\"so\",\"some\",\"somebody\",\"somehow\",\"someone\",\"something\",\"sometime\",\"sometimes\",\"somewhat\",\"somewhere\",\"soon\",\"sorry\",\"specified\",\"specify\",\"specifying\",\"still\",\"sub\",\"such\",\"sup\",\"sure\",\"t\",\"t's\",\"take\",\"taken\",\"tell\",\"tends\",\"th\",\"than\",\"thank\",\"thanks\",\"thanx\",\"that\",\"that's\",\"thats\",\"the\",\"their\",\"theirs\",\"them\",\"themselves\",\"then\",\"thence\",\"there\",\"there's\",\"thereafter\",\"thereby\",\"therefore\",\"therein\",\"theres\",\"thereupon\",\"these\",\"they\",\"they'd\",\"they'll\",\"they're\",\"they've\",\"think\",\"third\",\"this\",\"thorough\",\"thoroughly\",\"those\",\"though\",\"three\",\"through\",\"throughout\",\"thru\",\"thus\",\"to\",\"together\",\"too\",\"took\",\"toward\",\"towards\",\"tried\",\"tries\",\"truly\",\"try\",\"trying\",\"twice\",\"two\",\"u\",\"un\",\"under\",\"unfortunately\",\"unless\",\"unlikely\",\"until\",\"unto\",\"up\",\"upon\",\"us\",\"use\",\"used\",\"useful\",\"uses\",\"using\",\"usually\",\"uucp\",\"v\",\"value\",\"various\",\"very\",\"via\",\"viz\",\"vs\",\"w\",\"want\",\"wants\",\"was\",\"wasn't\",\"way\",\"we\",\"we'd\",\"we'll\",\"we're\",\"we've\",\"welcome\",\"well\",\"went\",\"were\",\"weren't\",\"what\",\"what's\",\"whatever\",\"when\",\"whence\",\"whenever\",\"where\",\"where's\",\"whereafter\",\"whereas\",\"whereby\",\"wherein\",\"whereupon\",\"wherever\",\"whether\",\"which\",\"while\",\"whither\",\"who\",\"who's\",\"whoever\",\"whole\",\"whom\",\"whose\",\"why\",\"will\",\"willing\",\"wish\",\"with\",\"within\",\"without\",\"won't\",\"wonder\",\"would\",\"wouldn't\",\"x\",\"y\",\"yes\",\"yet\",\"you\",\"you'd\",\"you'll\",\"you're\",\"you've\",\"your\",\"yours\",\"yourself\",\"yourselves\",\"z\",\"zero\"]}\n",
    "stopwords_json_en = set(stopwords_json['en'])\n",
    "stopwords_nltk_en = set(stopwords.words('english'))\n",
    "stopwords_punct = set(punctuation)\n",
    "\n",
    "# Combine the stopwords.\n",
    "stoplist_combined = set.union(stopwords_json_en, stopwords_nltk_en, stopwords_punct)"
   ]
  },
  {
   "cell_type": "code",
   "execution_count": 46,
   "metadata": {},
   "outputs": [
    {
     "name": "stdout",
     "output_type": "stream",
     "text": [
      "Tokenized Sentence: \n",
      "['hello', ',', 'you', 'have', 'called', 'virtual', 'bank', ',', 'this', 'is', 'nancy', 'speaking', '.', 'how', 'may', 'i', 'help', 'you', '?', 'oh', ',', 'i', 'just', 'had', 'withdrawn', 'some', 'cash', 'from', 'the', 'atm', 'machine', 'and', 'atm', 'transaction', 'failed', 'but', 'money', 'got', 'debited', '.', 'can', 'you', 'fix', 'this', 'problem', '?', 'sure', '.', 'what', 'is', 'your', 'account', 'number', '?', 'it', 'is', '111236669', '.', 'just', 'a', 'moment', '…', '.', 'okay', 'and', 'what', 'is', 'your', 'name', 'ma', '’', 'am', '?', 'my', 'name', 'is', 'sandra', 'reed', '.', 'okay', ',', 'miss', 'reed', '.', 'can', 'i', 'have', 'your', 'identify', 'number', '?', 'okay', '.', '5589766523663', '.', 'okay', '.', 'i', 'have', '5589766523663', '.', 'correct', '.', 'where', 'is', 'the', 'atm', 'machine', 'that', 'you', 'had', 'withdraw', 'the', 'cash', '?', 'i', 'do', 'not', 'know', 'where', 'exactly', 'it', 'is', ',', 'but', 'it', 'is', 'in', 'the', 'pattaya', 'beach', '.', 'that', 'is', 'fine', ',', 'we', 'will', 'check', 'your', 'withdrawal', 'transaction', 'and', 'we', 'will', 'refund', 'the', 'money', 'to', 'your', 'account', '.', 'do', 'you', 'want', 'to', 'receive', 'the', 'message', 'when', 'we', 'refunding', 'the', 'money', '?', 'yes', ',', 'please', '.', 'okay', ',', 'what', 'is', 'your', 'phone', 'number', 'ma', '’', 'am', '?', '8779526987', '.', 'okay', ',', 'i', 'have', '8779526987', '.', 'we', 'will', 'send', 'the', 'message', 'when', 'we', 'refunding', 'the', 'money', 'to', 'your', 'account', '.', 'thanks', ',', 'nancy', '.', 'have', 'a', 'good', 'day', 'ma', '’', 'am', '.', 'thank', 'you', '.'] \n",
      "\n",
      "Filterd Sentence: \n",
      "['called', 'virtual', 'bank', 'nancy', 'speaking', 'withdrawn', 'cash', 'atm', 'machine', 'atm', 'transaction', 'failed', 'money', 'debited', 'fix', 'problem', 'account', 'number', '111236669', 'moment', '…', '’', 'sandra', 'reed', 'miss', 'reed', 'identify', 'number', '5589766523663', '5589766523663', 'correct', 'atm', 'machine', 'withdraw', 'cash', 'pattaya', 'beach', 'fine', 'check', 'withdrawal', 'transaction', 'refund', 'money', 'account', 'receive', 'message', 'refunding', 'money', 'phone', 'number', '’', '8779526987', '8779526987', 'send', 'message', 'refunding', 'money', 'account', 'nancy', 'good', 'day', '’']\n"
     ]
    }
   ],
   "source": [
    "filtered_sent = []\n",
    "\n",
    "for w in tokenized_lower:\n",
    "    if w not in stoplist_combined:\n",
    "        filtered_sent.append(w)\n",
    "\n",
    "print(\"Tokenized Sentence: \")\n",
    "print(tokenized_lower, '\\n')\n",
    "print(\"Filterd Sentence: \")\n",
    "print(filtered_sent)"
   ]
  },
  {
   "cell_type": "markdown",
   "metadata": {},
   "source": [
    "***"
   ]
  },
  {
   "cell_type": "markdown",
   "metadata": {},
   "source": [
    "## Lexicon Normalization\n",
    "\n",
    "    Lexicon normalization considers another type of noise in the text. For example, connection, connected, connecting word reduce to a common word \"connect\". It reduces derivationally related forms of a word to a common root word."
   ]
  },
  {
   "cell_type": "markdown",
   "metadata": {},
   "source": [
    "**Lemmatization:** reduces words to their base word, which is linguistically correct lemmas. It transforms root word with the use of vocabulary and morphological analysis. Lemmatization is usually more sophisticated than stemming. Stemmer works on an individual word without knowledge of the context. For example, The word \"better\" has \"good\" as its lemma. This thing will miss by stemming because it requires a dictionary look-up.\n",
    "\n",
    "* Wordnet Lemmatizer (port of the Morphy: https://wordnet.princeton.edu/man/morphy.7WN.html)\n",
    "\n",
    "By default, the WordNetLemmatizer.lemmatize() function will assume that the word is a Noun if there's no explict POS tag in the input.\n",
    "\n",
    "First you need the pos_tag function to tag a sentence and using the tag convert it into WordNet tagsets and then put it through to the WordNetLemmatizer.\n",
    "\n",
    "Note: Lemmatization won't really work on single words alone without context or knowledge of its POS tag (i.e. we need to know whether the word is a noun, verb, adjective, adverb)"
   ]
  },
  {
   "cell_type": "code",
   "execution_count": 47,
   "metadata": {},
   "outputs": [],
   "source": [
    "wnl = WordNetLemmatizer()\n",
    "\n",
    "# Create new lemmatization function\n",
    "def penn2morphy(penntag):\n",
    "    \"\"\" Converts Penn Treebank tags to WordNet. \"\"\"\n",
    "    morphy_tag = {'NN': 'n', 'JJ': 'a',\n",
    "                  'VB': 'v', 'RB': 'r'}\n",
    "    try:\n",
    "        return morphy_tag[penntag[:2]]\n",
    "    except:\n",
    "        return 'n' # if mapping isn't found, fall back to Noun.\n",
    "    \n",
    "# `pos_tag` takes the tokenized sentence as input, i.e. list of string,\n",
    "# and returns a tuple of (word, tg), i.e. list of tuples of strings\n",
    "# so we need to get the tag from the 2nd element."
   ]
  },
  {
   "cell_type": "code",
   "execution_count": 48,
   "metadata": {},
   "outputs": [],
   "source": [
    "def lemmatize_sent(text): \n",
    "    # Text input is string, returns lowercased strings.\n",
    "    return [wnl.lemmatize(word.lower(), pos = penn2morphy(tag)) \n",
    "            for word, tag in pos_tag(word_tokenize(text))]"
   ]
  },
  {
   "cell_type": "code",
   "execution_count": 53,
   "metadata": {},
   "outputs": [
    {
     "name": "stdout",
     "output_type": "stream",
     "text": [
      "Original Sentence:\n",
      "['Hello, you have called Virtual bank, this is Nancy speaking.', 'How may I help you?', 'Oh, I just had withdrawn some cash from the ATM machine and ATM transaction failed but money got debited.', 'Can you fix this problem?', 'Sure.', 'What is your account number?', 'It is 111236669.', 'Just a moment ….', 'Okay and what is your name ma’am?', 'My name is Sandra Reed.', 'Okay, Miss Reed.', 'Can I have your identify number?', 'Okay.', '5589766523663.', 'Okay.', 'I have 5589766523663.', 'Correct.', 'Where is the ATM machine that you had withdraw the cash?', 'I do not know where exactly it is, but it is in the Pattaya beach.', 'That is fine, we will check your withdrawal transaction and we will refund the money to your account.', 'Do you want to receive the message when we refunding the money?', 'Yes, please.', 'Okay, what is your phone number ma’am?', '8779526987.', 'Okay, I have 8779526987.', 'We will send the message when we refunding the money to your account.', 'Thanks, Nancy.', 'Have a good day ma’am.', 'Thank you.'] \n",
      "\n",
      "Lemmatized and removed stopwords:\n",
      "['call', 'virtual', 'bank', 'nancy', 'speak', 'withdraw', 'cash', 'atm', 'machine', 'atm', 'transaction', 'fail', 'money', 'debit', 'fix', 'problem', 'account', 'number', '111236669', 'moment', '…', '’', 'sandra', 'reed', 'miss', 'reed', 'identify', 'number', '5589766523663', '5589766523663', 'correct', 'atm', 'machine', 'withdraw', 'cash', 'pattaya', 'beach', 'fine', 'check', 'withdrawal', 'transaction', 'refund', 'money', 'account', 'receive', 'message', 'refund', 'money', 'phone', 'number', '’', '8779526987', '8779526987', 'send', 'message', 'refund', 'money', 'account', 'nancy', 'good', 'day', '’']\n"
     ]
    }
   ],
   "source": [
    "# Try lemmatize_sent() and remove stopwords\n",
    "print('Original Sentence:')\n",
    "print(tokenized_sent, '\\n')\n",
    "print('Lemmatized and removed stopwords:')\n",
    "print([word for word in lemmatize_sent(sentence)\n",
    "       if word not in stoplist_combined])"
   ]
  },
  {
   "cell_type": "markdown",
   "metadata": {},
   "source": [
    "#### Combining removing stopwords and lemmatization"
   ]
  },
  {
   "cell_type": "code",
   "execution_count": 54,
   "metadata": {},
   "outputs": [],
   "source": [
    "def preprocess_text(text):\n",
    "    # Input: str, i.e. document/sentence\n",
    "    # Output: list(str) , i.e. list of lemmas\n",
    "    return [word for word in lemmatize_sent(text) \n",
    "            if word not in stoplist_combined]"
   ]
  },
  {
   "cell_type": "markdown",
   "metadata": {},
   "source": [
    "***"
   ]
  },
  {
   "cell_type": "markdown",
   "metadata": {},
   "source": [
    "## POS Tagging\n",
    "\n",
    "    The primary target of Part-of-Speech(POS) tagging is to identify the grammatical group of a given word. Whether it is a NOUN, PRONOUN,\n",
    "    ADJECTIVE, VERB, ADVERBS, etc. based on the context. POS Tagging looks for relationships within the sentence and assigns a corresponding tag\n",
    "    to the word.\n",
    "    \n",
    "Checking pos tag lists at https://pythonprogramming.net/natural-language-toolkit-nltk-part-speech-tagging/"
   ]
  },
  {
   "cell_type": "code",
   "execution_count": 60,
   "metadata": {},
   "outputs": [
    {
     "data": {
      "text/plain": [
       "[('call', 'VB'),\n",
       " ('virtual', 'JJ'),\n",
       " ('bank', 'NN'),\n",
       " ('nancy', 'NN'),\n",
       " ('speak', 'JJ'),\n",
       " ('withdraw', 'JJ'),\n",
       " ('cash', 'NN'),\n",
       " ('atm', 'NN'),\n",
       " ('machine', 'NN'),\n",
       " ('atm', 'JJ'),\n",
       " ('transaction', 'NN'),\n",
       " ('fail', 'VB'),\n",
       " ('money', 'NN'),\n",
       " ('debit', 'NN'),\n",
       " ('fix', 'NN'),\n",
       " ('problem', 'NN'),\n",
       " ('account', 'NN'),\n",
       " ('number', 'NN'),\n",
       " ('111236669', 'CD'),\n",
       " ('moment', 'NN'),\n",
       " ('…', 'NN'),\n",
       " ('’', 'NNP'),\n",
       " ('sandra', 'VBD'),\n",
       " ('reed', 'VB'),\n",
       " ('miss', 'JJ'),\n",
       " ('reed', 'NN'),\n",
       " ('identify', 'VB'),\n",
       " ('number', 'NN'),\n",
       " ('5589766523663', 'CD'),\n",
       " ('5589766523663', 'CD'),\n",
       " ('correct', 'JJ'),\n",
       " ('atm', 'NN'),\n",
       " ('machine', 'NN'),\n",
       " ('withdraw', 'JJ'),\n",
       " ('cash', 'NN'),\n",
       " ('pattaya', 'NN'),\n",
       " ('beach', 'NN'),\n",
       " ('fine', 'JJ'),\n",
       " ('check', 'NN'),\n",
       " ('withdrawal', 'NN'),\n",
       " ('transaction', 'NN'),\n",
       " ('refund', 'VBD'),\n",
       " ('money', 'NN'),\n",
       " ('account', 'NN'),\n",
       " ('receive', 'JJ'),\n",
       " ('message', 'NN'),\n",
       " ('refund', 'VBD'),\n",
       " ('money', 'NN'),\n",
       " ('phone', 'NN'),\n",
       " ('number', 'NN'),\n",
       " ('’', 'VBD'),\n",
       " ('8779526987', 'CD'),\n",
       " ('8779526987', 'CD'),\n",
       " ('send', 'JJ'),\n",
       " ('message', 'NN'),\n",
       " ('refund', 'NN'),\n",
       " ('money', 'NN'),\n",
       " ('account', 'NN'),\n",
       " ('nancy', 'RB'),\n",
       " ('good', 'JJ'),\n",
       " ('day', 'NN'),\n",
       " ('’', 'VB')]"
      ]
     },
     "execution_count": 60,
     "metadata": {},
     "output_type": "execute_result"
    }
   ],
   "source": [
    "nltk.pos_tag([word for word in lemmatize_sent(sentence) \n",
    "            if word not in stoplist_combined])"
   ]
  },
  {
   "cell_type": "code",
   "execution_count": null,
   "metadata": {},
   "outputs": [],
   "source": []
  },
  {
   "cell_type": "markdown",
   "metadata": {},
   "source": [
    "***"
   ]
  },
  {
   "cell_type": "markdown",
   "metadata": {},
   "source": [
    "### NER"
   ]
  },
  {
   "cell_type": "code",
   "execution_count": null,
   "metadata": {},
   "outputs": [],
   "source": [
    "def get_continuous_chunks(text):\n",
    "    chunked = ne_chunk(pos_tag(word_tokenize(text)))\n",
    "    prev = None\n",
    "    continuous_chunk = []\n",
    "    current_chunk = []\n",
    "\n",
    "    for i in chunked:\n",
    "        if type(i) == Tree:\n",
    "            current_chunk.append(\" \".join([token for token, pos in i.leaves()]))\n",
    "        elif current_chunk:\n",
    "            named_entity = \" \".join(current_chunk)\n",
    "            if named_entity not in continuous_chunk:\n",
    "                continuous_chunk.append(named_entity)\n",
    "                current_chunk = []\n",
    "        else:\n",
    "            continue\n",
    "\n",
    "#    if continuous_chunk:\n",
    "#        named_entity = \" \".join(current_chunk)\n",
    "#        if named_entity not in continuous_chunk:\n",
    "#            continuous_chunk.append(named_entity)\n",
    "\n",
    "    return continuous_chunk\n",
    "\n",
    "print(get_continuous_chunks(sentence))"
   ]
  },
  {
   "cell_type": "markdown",
   "metadata": {},
   "source": [
    "GPE means geo-political entities"
   ]
  },
  {
   "cell_type": "code",
   "execution_count": null,
   "metadata": {},
   "outputs": [],
   "source": [
    "for sent in nltk.sent_tokenize(sentence):\n",
    "    for chunk in nltk.ne_chunk(nltk.pos_tag(nltk.word_tokenize(sent))):\n",
    "        if hasattr(chunk, 'label'):\n",
    "            print(chunk.label(), ' '.join(c[0] for c in chunk))"
   ]
  },
  {
   "cell_type": "code",
   "execution_count": null,
   "metadata": {},
   "outputs": [],
   "source": [
    "def ie_preprocess(document):\n",
    "    sentences = nltk.sent_tokenize(document) # sentence segmenter\n",
    "    sentences = [nltk.word_tokenize(sent) for sent in sentences] # word tokenizer\n",
    "    sentences = [nltk.pos_tag(sent) for sent in sentences] # part-of-speech tagger\n",
    "    return sentences"
   ]
  },
  {
   "cell_type": "markdown",
   "metadata": {},
   "source": [
    "***"
   ]
  },
  {
   "cell_type": "code",
   "execution_count": 56,
   "metadata": {},
   "outputs": [
    {
     "name": "stdout",
     "output_type": "stream",
     "text": [
      "(NE Hello/NNP)\n",
      "(NE Virtual/NNP)\n",
      "(NE Nancy/NNP)\n",
      "(NE ATM/NNP)\n",
      "(NE ATM/NNP)\n",
      "(NE Okay/NNP)\n",
      "(NE Sandra/NNP Reed/NNP)\n",
      "(NE Okay/NNP)\n",
      "(NE Miss/NNP Reed/NNP)\n",
      "(NE Okay/NNP)\n",
      "(NE Okay/NNP)\n",
      "(NE Correct/NNP)\n",
      "(NE ATM/NNP)\n",
      "(NE Pattaya/NNP)\n",
      "(NE Okay/NNP)\n",
      "(NE Okay/NNP)\n",
      "(NE Nancy/NNP)\n"
     ]
    }
   ],
   "source": [
    "# Tokenize the article into sentences: sentences\n",
    "senttokenized = sent_tokenize(sentence)\n",
    "\n",
    "# Tokenize each sentence into words: token_sentences\n",
    "token_sentences = [word_tokenize(sent) for sent in senttokenized]\n",
    "\n",
    "# Tag each tokenized sentence into parts of speech: pos_sentences\n",
    "pos_sentences = [nltk.pos_tag(sent) for sent in token_sentences]\n",
    "\n",
    "# Create the named entity chunks: chunked_sentences\n",
    "chunked_sentences = nltk.ne_chunk_sents(pos_sentences, binary = True)\n",
    "\n",
    "# Test for stems of the tree with 'NE' tags\n",
    "for sent in chunked_sentences:\n",
    "    for chunk in sent:\n",
    "        if hasattr(chunk, \"label\") and chunk.label() == 'NE':\n",
    "            print(chunk)"
   ]
  },
  {
   "cell_type": "code",
   "execution_count": 57,
   "metadata": {},
   "outputs": [],
   "source": [
    "chunked_sentences = nltk.ne_chunk_sents(pos_sentences, binary = False)"
   ]
  },
  {
   "cell_type": "code",
   "execution_count": 59,
   "metadata": {},
   "outputs": [
    {
     "data": {
      "image/png": "[encoded data removed]",
      "text/plain": [
       "<Figure size 576x576 with 1 Axes>"
      ]
     },
     "metadata": {},
     "output_type": "display_data"
    }
   ],
   "source": [
    "from collections import defaultdict\n",
    "\n",
    "# Create the defaultdict: ner_categories\n",
    "ner_categories = defaultdict(int)\n",
    "\n",
    "# Create the nested for loop\n",
    "for sent in chunked_sentences:\n",
    "    for chunk in sent:\n",
    "        if hasattr(chunk, 'label'):\n",
    "            ner_categories[chunk.label()] += 1\n",
    "            \n",
    "# Create a list from the dictionary keys for the cart labels: labels\n",
    "labels = list(ner_categories.keys())\n",
    "\n",
    "# Create a list of the values: values\n",
    "values = [ner_categories.get(l) for l in labels]\n",
    "\n",
    "# Create the pie chart\n",
    "fig = plt.figure(figsize=(8, 8))\n",
    "plt.pie(values, labels=labels, autopct='%1.1f%%', startangle=140);"
   ]
  },
  {
   "cell_type": "code",
   "execution_count": null,
   "metadata": {},
   "outputs": [],
   "source": []
  }
 ],
 "metadata": {
  "kernelspec": {
   "display_name": "Python 3",
   "language": "python",
   "name": "python3"
  },
  "language_info": {
   "codemirror_mode": {
    "name": "ipython",
    "version": 3
   },
   "file_extension": ".py",
   "mimetype": "text/x-python",
   "name": "python",
   "nbconvert_exporter": "python",
   "pygments_lexer": "ipython3",
   "version": "3.7.3"
  }
 },
 "nbformat": 4,
 "nbformat_minor": 2
}
