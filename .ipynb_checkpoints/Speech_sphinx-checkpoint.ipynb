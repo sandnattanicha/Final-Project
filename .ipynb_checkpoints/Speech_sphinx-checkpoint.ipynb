{
 "cells": [
  {
   "cell_type": "code",
   "execution_count": 2,
   "metadata": {},
   "outputs": [],
   "source": [
    "import sys\n",
    "import os\n",
    "import speech_recognition as sr\n",
    "from os import path\n",
    "from pydub import AudioSegment\n",
    "import pandas as pd\n",
    "import nltk\n",
    "from nltk.tokenize import word_tokenize\n",
    "from nltk.tag import pos_tag\n",
    "import speech_recognition as sr\n",
    "import pocketsphinx\n",
    "from pocketsphinx import AudioFile, get_model_path, get_data_path"
   ]
  },
  {
   "cell_type": "code",
   "execution_count": 3,
   "metadata": {},
   "outputs": [],
   "source": [
    "src = \"voice_data/Speech1.m4a\"\n",
    "dst = \"voice_data/speech1.wav\""
   ]
  },
  {
   "cell_type": "code",
   "execution_count": 4,
   "metadata": {},
   "outputs": [
    {
     "data": {
      "text/plain": [
       "<_io.BufferedRandom name='voice_data/speech1.wav'>"
      ]
     },
     "execution_count": 4,
     "metadata": {},
     "output_type": "execute_result"
    }
   ],
   "source": [
    "sound = AudioSegment.from_file(src)\n",
    "sound.export(dst, format=\"wav\")"
   ]
  },
  {
   "cell_type": "code",
   "execution_count": null,
   "metadata": {},
   "outputs": [
    {
     "name": "stdout",
     "output_type": "stream",
     "text": [
      "Say something!\n"
     ]
    }
   ],
   "source": [
    "r = sr.Recognizer()  \n",
    "with sr.AudioFile(\"voice_data/speech1.wav\") as source:  \n",
    "    print(\"Say something!\")  \n",
    "    audio = r.listen(source)   \n",
    "# try:  \n",
    "    text = str(r.recognize_sphinx(audio))\n",
    "    print(\"Sphinx thinks you said '\" + text + \"'\")  \n",
    "# except sr.UnknownValueError:  \n",
    "#    print(\"Sphinx could not understand audio\")  \n",
    "# except sr.RequestError as e:  \n",
    "#    print(\"Sphinx error; {0}\".format(e))  "
   ]
  },
  {
   "cell_type": "code",
   "execution_count": null,
   "metadata": {},
   "outputs": [],
   "source": []
  }
 ],
 "metadata": {
  "kernelspec": {
   "display_name": "Python 3",
   "language": "python",
   "name": "python3"
  },
  "language_info": {
   "codemirror_mode": {
    "name": "ipython",
    "version": 3
   },
   "file_extension": ".py",
   "mimetype": "text/x-python",
   "name": "python",
   "nbconvert_exporter": "python",
   "pygments_lexer": "ipython3",
   "version": "3.7.3"
  }
 },
 "nbformat": 4,
 "nbformat_minor": 4
}
