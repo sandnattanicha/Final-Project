{
 "cells": [
  {
   "cell_type": "code",
   "execution_count": 1,
   "metadata": {},
   "outputs": [],
   "source": [
    "from pydub import AudioSegment\n",
    "from pydub.generators import WhiteNoise\n",
    "import pandas as pd\n",
    "from pathlib import Path\n",
    "import numpy as np"
   ]
  },
  {
   "cell_type": "markdown",
   "metadata": {},
   "source": [
    "# White Noise"
   ]
  },
  {
   "cell_type": "code",
   "execution_count": 2,
   "metadata": {},
   "outputs": [],
   "source": [
    "file = pd.read_csv('data/ner_pred/ner_pred_con2.csv', usecols=['start_time', 'end_time'])"
   ]
  },
  {
   "cell_type": "code",
   "execution_count": 3,
   "metadata": {},
   "outputs": [],
   "source": [
    "def white_noise(file, input_path, output_path):\n",
    "    file = pd.read_csv(file, usecols = ['start_time', 'end_time']) #ไฟล์ csv ที่ต้องตัด word นั้นพร้อมระบุเวลา\n",
    "    sound = AudioSegment.from_file(input_path) #ไฟล์เสียงต้นฉบับ\n",
    "    begin = 0\n",
    "    new_sound = sound[0:0]\n",
    "    for start, stop in zip(file['start_time'], file['end_time']):\n",
    "        normal = sound[begin * 1000:start * 1000] # * 1000 เพื่อให้ทำให้เป็น millisec\n",
    "        #noise = sound[start*1000:stop*1000].overlay(noise)\n",
    "        begin = stop\n",
    "        #print(start, stop)\n",
    "        new_sound += (normal + WhiteNoise().to_audio_segment(duration = (stop - start) * 1000).apply_gain(-35))\n",
    "        new_sound.export(out_f = output_path, format = \"wav\")\n",
    "    return new_sound"
   ]
  },
  {
   "cell_type": "code",
   "execution_count": 4,
   "metadata": {},
   "outputs": [],
   "source": [
    "new_sound2 = white_noise(\"data/ner_pred/ner_pred_con2.csv\", \"data/Voice files/conversation 2.wav\", \"Output/conversation 2.wav\")"
   ]
  },
  {
   "cell_type": "code",
   "execution_count": 5,
   "metadata": {},
   "outputs": [],
   "source": [
    "new_sound3 = white_noise(\"data/ner_pred/ner_pred_con3.csv\", \"data/Voice files/conversation 3.wav\", \"Output/conversation 3.wav\")"
   ]
  },
  {
   "cell_type": "code",
   "execution_count": 6,
   "metadata": {},
   "outputs": [],
   "source": [
    "new_sound15 = white_noise(\"data/ner_pred/ner_pred_con15.csv\", \"data/Voice files/conversation 15.wav\", \"Output/conversation 15.wav\")"
   ]
  },
  {
   "cell_type": "code",
   "execution_count": 7,
   "metadata": {},
   "outputs": [],
   "source": [
    "new_sound18 = white_noise(\"data/ner_pred/ner_pred_con18.csv\", \"data/Voice files/conversation 18.wav\", \"Output/conversation 18.wav\")"
   ]
  },
  {
   "cell_type": "code",
   "execution_count": 8,
   "metadata": {},
   "outputs": [],
   "source": [
    "new_sound20 = white_noise(\"data/ner_pred/ner_pred_con20.csv\", \"data/Voice files/conversation 20.wav\", \"Output/conversation 20.wav\")"
   ]
  },
  {
   "cell_type": "code",
   "execution_count": 9,
   "metadata": {},
   "outputs": [],
   "source": [
    "new_sound21 = white_noise(\"data/ner_pred/ner_pred_con21.csv\", \"data/Voice files/conversation 21.wav\", \"Output/conversation 21.wav\")"
   ]
  },
  {
   "cell_type": "code",
   "execution_count": 10,
   "metadata": {},
   "outputs": [],
   "source": [
    "new_sound22 = white_noise(\"data/ner_pred/ner_pred_con22.csv\", \"data/Voice files/conversation 22.wav\", \"Output/conversation 22.wav\")"
   ]
  },
  {
   "cell_type": "code",
   "execution_count": null,
   "metadata": {},
   "outputs": [],
   "source": []
  }
 ],
 "metadata": {
  "kernelspec": {
   "display_name": "Python 3",
   "language": "python",
   "name": "python3"
  },
  "language_info": {
   "codemirror_mode": {
    "name": "ipython",
    "version": 3
   },
   "file_extension": ".py",
   "mimetype": "text/x-python",
   "name": "python",
   "nbconvert_exporter": "python",
   "pygments_lexer": "ipython3",
   "version": "3.7.3"
  }
 },
 "nbformat": 4,
 "nbformat_minor": 4
}
