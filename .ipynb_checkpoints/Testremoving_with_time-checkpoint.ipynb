{
 "cells": [
  {
   "cell_type": "code",
   "execution_count": 24,
   "metadata": {},
   "outputs": [],
   "source": [
    "from pydub import AudioSegment\n",
    "import pandas as pd\n",
    "from pathlib import Path\n",
    "import numpy as np\n",
    "import ffmpeg\n",
    "import whitenoise"
   ]
  },
  {
   "cell_type": "code",
   "execution_count": 19,
   "metadata": {},
   "outputs": [],
   "source": [
    "input_path = \"data/Voice files/conversation 2.wav\"\n",
    "output_path = \"Output/conversation 2.wav\"\n",
    "\n",
    "def trim(input_path, output_path, start= 0, end=30):\n",
    "    input_stream = ffmpeg.input(input_path)\n",
    "\n",
    "    aud = (\n",
    "        input_stream.audio\n",
    "        .filter_('atrim', start=start, end=end)\n",
    "        .filter_('asetpts', 'PTS-STARTPTS')\n",
    "    )\n",
    "\n",
    "    output = ffmpeg.output(aud, output_path)\n",
    "    output.run()"
   ]
  },
  {
   "cell_type": "code",
   "execution_count": 88,
   "metadata": {},
   "outputs": [],
   "source": [
    "def white_noise():\n",
    "    file = pd.read_csv('data/ner_pred/ner_pred_con2.csv', usecols=['start_time', 'end_time'])\n",
    "    st_lst = [X for X in file['start_time']]\n",
    "    end_lst = [I for I in file['end_time']] \n",
    "    lst = []\n",
    "\n",
    "    for i, j in zip(st_lst, end_lst):\n",
    "        lst.append(round(j-i, 2))\n",
    "        return lst\n"
   ]
  },
  {
   "cell_type": "code",
   "execution_count": null,
   "metadata": {},
   "outputs": [],
   "source": []
  }
 ],
 "metadata": {
  "kernelspec": {
   "display_name": "Python 3",
   "language": "python",
   "name": "python3"
  },
  "language_info": {
   "codemirror_mode": {
    "name": "ipython",
    "version": 3
   },
   "file_extension": ".py",
   "mimetype": "text/x-python",
   "name": "python",
   "nbconvert_exporter": "python",
   "pygments_lexer": "ipython3",
   "version": "3.7.3"
  }
 },
 "nbformat": 4,
 "nbformat_minor": 4
}
