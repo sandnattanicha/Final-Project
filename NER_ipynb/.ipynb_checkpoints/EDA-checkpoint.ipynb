{
 "cells": [
  {
   "cell_type": "markdown",
   "metadata": {},
   "source": [
    "# Exploratory data analysis"
   ]
  },
  {
   "cell_type": "code",
   "execution_count": 49,
   "metadata": {
    "jupyter": {
     "source_hidden": true
    }
   },
   "outputs": [],
   "source": [
    "# others libraries\n",
    "import pandas as pd\n",
    "import json\n",
    "from string import punctuation\n",
    "\n",
    "# NLTK and Stanford libraries\n",
    "import nltk, re, os\n",
    "from nltk.corpus import stopwords, state_union\n",
    "from nltk.tokenize import sent_tokenize, word_tokenize, PunktSentenceTokenizer\n",
    "from nltk.probability import FreqDist\n",
    "from nltk.tag.stanford import StanfordNERTagger\n",
    "from nltk import ne_chunk, pos_tag\n",
    "from nltk.tree import Tree\n",
    "from nltk import RegexpParser\n",
    "from nltk.chunk.api import ChunkParserI\n",
    "\n",
    "import matplotlib.pyplot as plt\n",
    "import seaborn as sns\n",
    "sns.set(palette = 'Set2', )\n",
    "%matplotlib inline"
   ]
  },
  {
   "cell_type": "markdown",
   "metadata": {},
   "source": [
    "# Words Analysis"
   ]
  },
  {
   "cell_type": "code",
   "execution_count": 5,
   "metadata": {
    "jupyter": {
     "source_hidden": true
    }
   },
   "outputs": [],
   "source": [
    "text = \"\"\"Hello, you have called Virtual bank, this is Nancy speaking. How may I help you?\n",
    "Oh, I just had withdrawn some cash from the ATM machine and ATM transaction failed but money got debited. Can you fix this problem?\n",
    "Sure. What is your account number?\n",
    "It is 111236669.\n",
    "Just a moment …. Okay and what is your name ma’am?\n",
    "My name is Sandra Reed.\n",
    "Okay, Miss Reed. Can I have your identify number?\n",
    "Okay. 5589766523663.\n",
    "Okay. I have 5589766523663.\n",
    "Correct.\n",
    "Where is the ATM machine that you had withdrawn the cash?\n",
    "I do not know where exactly it is, but it is in the Pattaya beach.\n",
    "That is fine, we will check your withdrawal transaction and we will refund the money to your account. Do you want to receive the message when we refunding the money?\n",
    "Yes, please.\n",
    "Okay, what is your phone number ma’am?\n",
    "8779526987.\n",
    "Okay, I have 8779526987. We will send the message when we refund the money to your account.\n",
    "Thanks, Nancy.\n",
    "Have a good day ma’am. Thank you. \n",
    "Hello, you have called Virtual bank, this is Linda speaking. How may I help you?\n",
    "Hi Linda. I was just at your Ville branch and I think I left my Debit card in the ATM machine.\n",
    "Okay. Do you have your Debit card number?\n",
    "I don’t have.\n",
    "Okay, well do you have the checking account number associated with the Debit\n",
    "card? \n",
    "That I do have. Are you ready? I will give you what I have got. 765456789. \n",
    "Okay. That’s 765456789.\n",
    "Correct.\n",
    "What is your identification number?\n",
    "7745896589665.\n",
    "Okay, I have 7745896589665 and what is your name sir? \n",
    "It is Robert Applebaum.\n",
    "Okay. I have Robert Applebaum.\n",
    "Yes.\n",
    "And what is your date of birth Mr. Applebaum?\n",
    "July 7th, 1974. \n",
    "Okay. July 7th, 1974.\n",
    "Yes.\n",
    "And your phone number?\n",
    "It is 6102651715. \n",
    "Okay. I have 6102651715.\n",
    "Yes.\n",
    "Okay Mr. Applebaum. I have just suspended your card. If it is in the machine, we will contact you and lift the suspension. \n",
    "Oh, thank you.\n",
    "Sure. Thank you.  \n",
    "Conversation: 3\n",
    "Hello, you have called Virtual bank, this is Nancy speaking. How may I help you?\n",
    "Hi. I am a customer of your bank and I have some errors on my account details.\n",
    "What type of errors?\n",
    "Well, I just checked the address on my book bank and my address is wrong, it shows my old address and only reached me because of a redirect.\n",
    "Okay, I can fix that for you, could I have your identification number?\n",
    "32948322898.\n",
    "Okay, 32948322898. And What is your name sir?\n",
    "Lucifer Clarkson. \n",
    "Okay. Mr. Clarkson. What is your date of birth?\n",
    "January 1st, 1975.\n",
    "Okay, now let's go ahead and fix your details. What is your new address, sir?\n",
    "123 Oxford Street, London.\n",
    "Okay, 123 Oxford Street, London. Is that correct?\n",
    "Yes, Nancy.\n",
    "Okay I have replaced your address. Would you like another service sir?\n",
    "No, that’s all. Thanks.\n",
    "Thank you. Have a good day sir.\n",
    "You too.\n",
    "Goodbye.\n",
    "Hello, you have called Virtual bank, this is Helen speaking. How may I help you?\n",
    "Hi Helen. I think I have lost my Debit card.\n",
    "Okay. Do you have your Debit card number?\n",
    "Oh yes, I used to take a picture of my card, wait a minute ......... Okay, that is 8574562111234522.\n",
    "Sorry, can you repeat your Debit card number again please?\n",
    "Sure, it is 8574562111234522.\n",
    "Okay. That is 8574562111234522.\n",
    "That’s right.\n",
    "What is your identification number?\n",
    "1145824598874.\n",
    "Okay, I have 1145824598874. And what is your name ma’am?\n",
    "Laura. My name is Laura Brown.\n",
    "Okay. I have Laura Brown.\n",
    "Yes.\n",
    "Do you want me to permanent suspend your card ma’am?\n",
    "Yes, please. \n",
    "Okay, and your ledger balance in the account is $256,887.69, is that correct?\n",
    "Yes.\n",
    "Okay, I just permanent suspended your card. Thank you for using our service. Have a good day ma’am.\n",
    "Thanks, bye.\n",
    "Goodbye.\n",
    "Hello, you have called Virtual bank, this is Linda speaking. How may I help you?\n",
    "Hello Linda. I would like to merge my wife’s account with mine.\n",
    "Okay sir. Can I have your account number?\n",
    "Wait a second …… Okay, it is 554874521.\n",
    "554874521. Okay, And your name sir?\n",
    "I am Caleb Evan.\n",
    "Okay and Can I have your identification number?\n",
    "Sure. That is 5587485574996.\n",
    "Okay, your information is correct. What’s your wife’s identification number?\n",
    "Oh, sorry I have forgot. Please wait …... Okay here is my wife’s identification number 1140254585556. Her name is Susan White.\n",
    "What is your wife’s account number?\n",
    "888985777.\n",
    "Okay. I have 888985777.\n",
    "Yes.\n",
    "I just merged your wife’s account with you. Would you like another service sir?\n",
    "That is all Thank you.\n",
    "Thank you, goodbye.\n",
    "Hello, you have called Virtual bank, this is Nancy speaking. How may I help you?\n",
    "I would like to cancel the automatic deduction order.\n",
    "What kind of the automatic deduction order sir?\n",
    "SMS banking charge.\n",
    "Okay, could you tell me your account number?\n",
    "999747885.\n",
    "Okay, I have 999747885. What is your identification number?\n",
    "1102500214660.\n",
    "Please wait for a moment … Okay, and what is your name sir?\n",
    "Gabriel Parker.\n",
    "Okay Mr. Parker, and what is your phone number sir?\n",
    "0003659698.\n",
    "Okay, I just canceled the SMS banking charge for you. Would you like another service sir?\n",
    "No, thank you.\n",
    "Have a good day sir, Thank you.\n",
    "Hello, you have called Virtual bank, this is Sarah speaking. How may I help you?\n",
    "Hello. I would like to close my account.\n",
    "Sorry sir. Our service call center could not close the account for customer. You have to go to the branch nearby you and you can close your account.\n",
    "Oh, sorry I do not know. Could you check for the bank branch that nearby me?\n",
    "Sure, what is your address sir?\n",
    "132, Houston Street, New York.\n",
    "Please wait for a moment sir.\n",
    "Okay.\n",
    "You can go to the Houston Street branch. There is nearest to your address.\n",
    "Thank you. Sorry can I ask you a question?\n",
    "Sure sir, you can ask me anything.\n",
    "How long does it take if I close my account at the bank?\n",
    "About 15 minutes.\n",
    "Okay, thanks a lot.\n",
    "Would you like another service sir?\n",
    "No, that is all. Thank you very much.\n",
    "Okay. Have a good day sir.\n",
    "You too. Bye.\n",
    "Goodbye, sir.\n",
    "Hello, you have called Virtual bank, this is Maria speaking. How may I help you?\n",
    "Hello Maria. I have forgotten my banking application password. What should I do?\n",
    "You have to press on forgot password button on the application screen and we will send you a security number to your phone number.\n",
    "Oh, that is bad. I did not use my old phone number anymore but I have not changed my details in the bank information.\n",
    "That is fine. Could I have your account number?\n",
    "That is 111544222.\n",
    "Okay, and what is your identification number?\n",
    "My identification number is 1102569854112.\n",
    "Okay, I have 1102569854112.\n",
    "Yes, that is right.\n",
    "And what is your name ma’am?\n",
    "My name is Amanda Nelson.\n",
    "Okay, Ms. Nelson. What is your phone number ma’am?\n",
    "My phone number is 7719855587.\n",
    "I just replaced your phone number and you can reset your password in the application by press on the forgot password and we will send you a security number to your phone.\n",
    "Thank you.\n",
    "Thank you for using our service Miss Nelson. Have a good day.\n",
    "Hello, you have called Virtual bank, this is Helen speaking. How may I help you?\n",
    "Hi Helen. I think I have lost my account book. I could not find it. What can I do about this?\n",
    "Okay first, could you tell me your name sir?\n",
    "I am Michael Myers.\n",
    "Okay, Mr. Myers. In this case you have to go to the bank nearby you and give your identification card to the bank officer. They will mange about your account book.\n",
    "Oh, Okay I will go to the bank tomorrow. Thank you, Helen.\n",
    "Thank you for using our service. Have a good day sir.\n",
    "Hello, you have called Virtual bank, this is Debra speaking. How may I help you?\n",
    "Hi Debra. I have lost my bank card.\n",
    "Okay. Do you have your card number?\n",
    "Actually. I don’t have it.\n",
    "Okay, then what is your identification number?\n",
    "1200277874441.\n",
    "Okay, I have 1200277874441. What is your name?\n",
    "Laura Velazquez.\n",
    "Okay. I have Laura Velazquez.\n",
    "Yes, that is right.\n",
    "Would you like to permanent suspend your card ma’am?\n",
    "Sure, that is why I call you.\n",
    "Your ledger balance in the account is $5,477,874.66, is that correct?\n",
    "Correctly.\n",
    "Okay, I just permanent suspended your card. Thank you for using our service. Have a good day ma’am.\n",
    "Thank you.\n",
    "Goodbye.\n",
    "Hello, you have called Virtual bank, this is Debra speaking. How may I help you?\n",
    "Hello Debra. I would like to tell you about a change of address.\n",
    "What is your name ma’am?\n",
    "I am Anna Noel.\n",
    "Okay, Ms. Noel. And could I have your identification number?\n",
    "It is 4415985478996.\n",
    "Sorry Ms. Noel, could you tell your identification number again please?\n",
    "Oh, sorry I will speak slowly. It is 4415985478996.\n",
    "Okay, I have 4415985478996. Is that correct?\n",
    "Exactly.\n",
    "And what is your phone number Ms. Noel?\n",
    "8879446640.\n",
    "Okay, so what is your new address ma’am?\n",
    "It is 748, Rose Street. Boston, New York.\n",
    "748, Rose Street. Boston, New York. Is that right?\n",
    "Yes.\n",
    "Please wait for a moment …. Okay I just replaced your address. Would you like another service ma’am?\n",
    "Yes, I would like to apply the bank application but I do not know what to do.\n",
    "You can apply at the ATM machine nearby.\n",
    "Oh, okay that is all I would like to know. Thanks.\n",
    "Have a good day, thank you.\n",
    "Hello, you have called Virtual bank, this is Helen speaking. How may I help you?\n",
    "Hi, I would like a debit card with an insurance and I would like to know about the details.\n",
    "Okay, what is your name sir?\n",
    "My name is Kevin Vann.\n",
    "Okay, Mr. Vann. What kind of insurance would you like?\n",
    "I think I would like life insurance and health insurance.\n",
    "Okay, let me check on the system. Please wait …. Okay, we have 3 kinds of debit card. The first is debit card with life insurance the cost to make this card is 10 dollars, the second is debit card with health insurance the cost is 10 dollars, and the last one is both of life insurance and health insurance, the cost is 25 dollars. If you would like to know about the details of the cards, you have to go to the bank and ask the bank officers. They will help you about this.\n",
    "Okay, thank you very much Helen. You are so helpful.\n",
    "Would you like another service Mr. Vann?\n",
    "No, I am good. Goodbye.\n",
    "Thanks for using our service. Have a good day.\n",
    "Hello, you have called Virtual bank, this is Marie speaking. How may I help you?\n",
    "Hey Marie, could you tell me my balance, please? I do not have bank application.\n",
    "What is your name sir?\n",
    "I am Travis Scott.\n",
    "Could I have your identification number Mr. Scott?\n",
    "Sure. It is 8878998589999.\n",
    "Okay, I have 8878998589999.\n",
    "Correct!\n",
    "And what is your account number sir?\n",
    "888774888.\n",
    "Okay. 888774888 it is.\n",
    "And my account balance is?\n",
    "Your account balance is $10,541,887.9. Would you like another service sir?\n",
    "No, thanks Marie.\n",
    "Thank you for using our service. Have a good day.\n",
    "Hello, you have called Virtual bank, this is Nancy speaking. How may I help you?\n",
    "I had withdrawn some cash from the ATM machine and they debited but I did not receive the money.\n",
    "Okay, what is your account number?\n",
    "It is 222555333.\n",
    "Just a moment …. Okay and what is your name ma’am?\n",
    "My name is Michael Wooten.\n",
    "Okay, Miss Wooten. Can I have your identify number?\n",
    "It is 7447488888775.\n",
    "Okay. I have 7447488888775 and where is the ATM machine that you had withdrawn the cash?\n",
    "Lotus Bangkapi.\n",
    "Okay, we will check your withdrawal transaction and we will refund the money to your account. Do you want to receive the message when we refunding the money?\n",
    "Yes, please.\n",
    "Okay, what is your phone number?\n",
    "8889996666.\n",
    "Okay, we will send the message when we refund the money to your account.\n",
    "Thank you very much.\n",
    "Have a good day. Thank you.\n",
    "Hello, you have called Virtual bank, this is Linda speaking. How may I help you?\n",
    "Hey Linda. I would like to merge my husband’s account with mine.\n",
    "Okay, can I have your account number?\n",
    "Sure, it is 544777888.\n",
    "Okay, I have 544777888. And what is your name ma’am?\n",
    "Ashly McMahon.\n",
    "Okay, I have Ashly McMahon. Can I have your identification number?\n",
    "That is 7741499999859.\n",
    "Your information is correct. What is your husband’s identification number?\n",
    "My husband’s identification number is 5555596841669.\n",
    "Mr. Troy McMahon. Is that right?\n",
    "Right.\n",
    "What is your husband’s account number?\n",
    "512965663.\n",
    "Okay. I have 512965663. Please wait. \n",
    "Okay.\n",
    "I just merged your husband’s account with you. Would you like another service ma’am?\n",
    "No, thank you.\n",
    "Thank you for using our service. Have a good day ma’am.\n",
    "Hello, you have called Virtual bank, this is Marie speaking. How may I help you?\n",
    "Hi, I would like to know about a debit card with an insurance.\n",
    "Okay, what is your name sir?\n",
    "My name is Tyler Valentine.\n",
    "Okay, Mr. Valentine. What kind of insurance would you like?\n",
    "I would like accident insurance, please.\n",
    "Okay, let me check on the system. Please wait …. Okay, the debit card with accident insurance is about 10 dollars and if you would like to know more about the details of the card, you have to go to the bank and ask the bank officers. They will help you about this.\n",
    "Okay, thank you. Bye.\n",
    "Thank you for using our service. Have a good day.\n",
    "Hello, you have called Virtual bank, this is Helen speaking. How may I help you?\n",
    "Hi Helen. I think I have lost my Debit card.\n",
    "Okay. Do you have your Debit card number?\n",
    "It is 7452562111234522.\n",
    "Okay. That is 7452562111234522.\n",
    "That is right.\n",
    "What is your identification number?\n",
    "1145824598888.\n",
    "Okay, I have 1145824598888. And what is your name ma’am?\n",
    "Alice Monet.\n",
    "Okay. Miss Monet.\n",
    "Yes.\n",
    "Do you want me to permanent suspend your card ma’am?\n",
    "Of course. \n",
    "Okay, and your ledger balance in the account is $7,000.25, is that correct?\n",
    "Yes.\n",
    "Okay, I just permanent suspended your card. Thank you for using our service. Have a good day ma’am.\n",
    "Thank you very much. \n",
    "Hello, you have called Virtual bank, this is Helen speaking. How may I help you?\n",
    "Hi Helen. I want to report a lost credit card.\n",
    "Okay. Do you have your Debit card number?\n",
    "Oh yes, that is 8574562111234522.\n",
    "Okay. That is 8574562111234522.\n",
    "Yes.\n",
    "What is your identification number?\n",
    "1145824598874.\n",
    "Okay, I have 1145824598874. And what is your name sir?\n",
    "My name is Sakai Jinn.\n",
    "Okay. Do you want me to permanent suspend your card sir?\n",
    "Yes, please. \n",
    "Okay, and your ledger balance in the account is $56,000, is that correct?\n",
    "Yes.\n",
    "Okay, I just permanent suspended your card. Thank you for using our service. Have a good day sir.\n",
    "Thank you.\n",
    "Hello, you have called Virtual bank, this is Sarah speaking. How may I help you?\n",
    "Hey, Sarah. I would like to refund my money back.\n",
    "Could you tell me why you want to refund your money?\n",
    "I bought something at the shop with my debit card and it debited my money twice.\n",
    "Okay, what is your name ma’am?\n",
    "My name is Amy Goff.\n",
    "Okay, and where did you use the debit card to buy something?\n",
    "I bought a bag at Mega Bangna. It costs $80.\n",
    "We are so sorry. In this case we could not refund your money back. You have to talk with the store that you bought and they will manage this.\n",
    "Oh, really? I do not even know.\n",
    "Yes, ma’am. We are so sorry but we could not fix this problem. The store handles about this.\n",
    "Okay, never mind. Thanks.\n",
    "Would you like another service?\n",
    "That is all. Thanks.\n",
    "Thank you for using our service. Have a good day.\n",
    "Hello, you have called Virtual bank, this is Debra speaking. How may I help you?\n",
    "Hello Debra. I would like to change my phone number.\n",
    "What is your name ma’am?\n",
    "Stephanie Bolton.\n",
    "Okay, Miss Bolton. And could I have your identification number?\n",
    "8544702415996.\n",
    "Okay, I have 8544702415996. Is that correct?\n",
    "Correct.\n",
    "And what is your account number?\n",
    "That is 874525400.\n",
    "Okay, so what is your new phone number?\n",
    "6657854521.\n",
    "Please wait for a moment …. Okay I just replaced your phone number. Would you like another service ma’am?\n",
    "No, Thank you.\n",
    "Have a good day, thank you.\n",
    "Hello, you have called Virtual bank, this is Anna speaking. How may I help you?\n",
    "Good morning Anna. I would like to ask about open a bank account.\n",
    "Sure thing. What kind of account would you like to open? A savings account or a checking account?\n",
    "What's the difference?\n",
    "A checking account is designed to use for everyday transactions. Yet; the money in a savings account is meant to stay in the account and earn interest over time.\n",
    "I see, actually I want to apply for a credit card. That's why I need an account.\n",
    "Okay then, you probably want a checking account.\n",
    "Well, thank you. I'd like that.\n",
    "Sure, what’s your name ma’am?\n",
    "I’m Angelina Joie.\n",
    "How much of a credit limit were you looking for, Miss Jolie?\n",
    "I would like a $10,000 spending limit. \n",
    "Alright, we will see what we can do. We might be able to get you one of our gold cards with a $10,000 spending limit.\n",
    "Wonderful. Will I also collect points when I use the card?\n",
    "Sure, with our gold card you will get 10 reward points for every dollar spent.\n",
    "Perfect, and how much deposit minimum into the account?\n",
    "You just need to deposit a minimum of $250 into your new checking account.\n",
    "Very well, thank you for your help, have a good day.\n",
    "Thank you ma’am, you too.\n",
    "Hello, you have called Virtual bank, this is Anna speaking. How may I help you?\n",
    "Hi Anna. What's the exchange rate of RMB to US dollar today?\n",
    "6.28 yuan to the US dollar madam.\n",
    "It's the same as last week.\n",
    "That's right. The exchange rate here has been quite stable though it's subject to alteration.\n",
    "I know, so If I want to change 1000 US dollars, that will be 6280 yuan. Is that right?\n",
    "Yes madam.\n",
    "Okay, Thank you very much.\n",
    "Would you like another service?\n",
    "No, thank you.\n",
    "Okay, thanks for using our service madam.\n",
    "Hello, you have called Virtual bank, this is Anna speaking. How may I help you?\n",
    "Yes, I want to know my balance.\n",
    "Please speak one more time.\n",
    "Okay, I want to know my balance.\n",
    "I see, could I have your account number?\n",
    "Well, it’s 452698477.\n",
    "And what’s your name sir?\n",
    "I’m Stephen Hawking.\n",
    "Okay, Mr. Hawking, and what’s your identification number?\n",
    "It’s 5547896632004.\n",
    "Please wait a second, Your balance at the bank is $5,000 sir.\n",
    "Okay, thanks.\n",
    "Would you like another service sir?\n",
    "On I’m good, thank you very much.\n",
    "Thank you. Have a good day.\"\"\""
   ]
  },
  {
   "cell_type": "code",
   "execution_count": 14,
   "metadata": {},
   "outputs": [],
   "source": [
    "# Data cleaning\n",
    "def clean_text(text):\n",
    "    # replace . and a space with only a space, then make all words lower case.\n",
    "    text = text.replace(\".\", \" \").replace(\",\", \"\")\n",
    "    # get rid of the . at the end of each line. \n",
    "    cleaned_text = re.sub(\"\\.$\",\"\", text)\n",
    "    \n",
    "    return cleaned_text"
   ]
  },
  {
   "cell_type": "code",
   "execution_count": 45,
   "metadata": {},
   "outputs": [
    {
     "name": "stdout",
     "output_type": "stream",
     "text": [
      "Stoplist that has to remove:  {'up', 'just', 'now', \"you'll\", 've', \"she's\", 'ain', \"mustn't\", 'before', '%', \"haven't\", 'under', 'about', 'was', 'yourselves', 'couldn', \"'\", 'during', 'its', 'over', 'ma', \"you're\", 'o', 'until', 'had', ',', '{', ';', 'himself', 'their', \"should've\", \"you'd\", 'while', 'myself', 'same', '\\\\', 'to', \"it's\", 'by', 'they', \"mightn't\", 'that', 'i', 'out', 'who', ')', ']', 'hadn', 'we', 'have', 'or', \"couldn't\", 'didn', 'll', 'nor', 'weren', '+', 'if', 'there', \"didn't\", 'me', 'our', '/', 'needn', \"shan't\", 'through', \"hasn't\", 'don', 'you', \"weren't\", 'here', 'can', '|', \"isn't\", 'itself', 'should', 'm', 'my', 'this', 'are', 'ours', 'been', '#', '[', 'such', 'shouldn', 'her', 'it', 'what', 'did', 'all', 'some', 'doesn', '!', ':', \"wasn't\", 'only', 'off', \"aren't\", 'won', 'so', 'an', 'own', 'on', 'aren', \"needn't\", 'am', 'doing', 'too', 'again', 'more', 'not', \"shouldn't\", '&', 'where', 'in', '}', 'both', '<', 'she', 'as', 'from', 'below', 'above', 'down', '$', '~', 'after', 'will', 'most', 'your', 'once', '_', 'has', '=', 'being', 'of', 'his', 'those', 'few', 'isn', '-', 'further', 'with', 'he', \"wouldn't\", 'having', 'haven', 'does', 're', 'these', 'themselves', '>', 'a', \"hadn't\", 'ourselves', '*', 'because', 'd', 'mightn', 'which', 'why', 'yourself', 'shan', 'y', 'were', 'than', '`', 'hers', 'wasn', \"you've\", 'is', 'be', 'do', 'the', 'then', '^', 's', '?', \"doesn't\", 'and', 'herself', 'any', 'each', 'very', '(', '\"', 'yours', 'theirs', '.', \"won't\", 'but', 'how', \"don't\", 'them', 'into', '@', 'hasn', 'other', 'when', \"that'll\", 'against', 't', 'mustn', 'whom', 'wouldn', 'for', 'no', 'him', 'between', 'at'}\n"
     ]
    }
   ],
   "source": [
    "stopwords_nltk_en = set(stopwords.words('english'))\n",
    "stopwords_punct = set(punctuation)\n",
    "stoplist_combined = set.union(stopwords_nltk_en, stopwords_punct)\n",
    "print('Stoplist that has to remove: ', stoplist_combined)"
   ]
  },
  {
   "cell_type": "code",
   "execution_count": 16,
   "metadata": {},
   "outputs": [],
   "source": [
    "tokenized_lower = list(map(str.lower, word_tokenize(clean_text(text))))"
   ]
  },
  {
   "cell_type": "code",
   "execution_count": 17,
   "metadata": {},
   "outputs": [],
   "source": [
    "filtered_sent = []\n",
    "\n",
    "for w in tokenized_lower:\n",
    "    if w not in stoplist_combined:\n",
    "        filtered_sent.append(w)"
   ]
  },
  {
   "cell_type": "code",
   "execution_count": 70,
   "metadata": {},
   "outputs": [
    {
     "name": "stdout",
     "output_type": "stream",
     "text": [
      "Total words amount: 4089\n",
      "Average words in one conversation: 177.78\n",
      "\n",
      "Words amount after remove punctuation and stop words:  1742\n",
      "Average words in one conversation after remove punctuation and stop words: 75.74\n"
     ]
    }
   ],
   "source": [
    "print('Total words amount:', len(word_tokenize(text)))\n",
    "print('Average words in one conversation: %.2f' % (len(word_tokenize(text)) / 23))\n",
    "print('\\nWords amount after remove punctuation and stop words: ', len(filtered_sent))\n",
    "print('Average words in one conversation after remove punctuation and stop words: %.2f' % (len(filtered_sent) / 23))"
   ]
  },
  {
   "cell_type": "markdown",
   "metadata": {},
   "source": [
    "***"
   ]
  },
  {
   "cell_type": "code",
   "execution_count": 26,
   "metadata": {},
   "outputs": [
    {
     "name": "stdout",
     "output_type": "stream",
     "text": [
      "<FreqDist with 380 samples and 1742 outcomes>\n"
     ]
    }
   ],
   "source": [
    "# Distinct words\n",
    "fdist = FreqDist(filtered_sent)\n",
    "print(fdist)"
   ]
  },
  {
   "cell_type": "code",
   "execution_count": 27,
   "metadata": {},
   "outputs": [
    {
     "data": {
      "text/plain": [
       "FreqDist({'okay': 214, 'number': 110, '’': 100, 'account': 88, 'bank': 80, 'thank': 80, 'card': 72, 'like': 70, 'would': 68, 'sir': 66, ...})"
      ]
     },
     "execution_count": 27,
     "metadata": {},
     "output_type": "execute_result"
    }
   ],
   "source": [
    "for i in filtered_sent:\n",
    "    fdist[i] += 1\n",
    "fdist"
   ]
  },
  {
   "cell_type": "markdown",
   "metadata": {},
   "source": [
    "## Word Frequencies of All Conversations"
   ]
  },
  {
   "cell_type": "code",
   "execution_count": 92,
   "metadata": {},
   "outputs": [
    {
     "name": "stdout",
     "output_type": "stream",
     "text": [
      "\n",
      "--------------------------Original Text-------------------------\n",
      "\n",
      "Total words amount: 4089\n",
      "Amount of distinct words:  4089 \n",
      "\n",
      "--------------------------Cleaned Text--------------------------\n",
      "\n",
      "Words amount after remove punctuation and stop words:  1742\n",
      "Amount of distinct words:  380\n",
      "\n",
      "----------------------------------------------------------------\n",
      "\n"
     ]
    }
   ],
   "source": [
    "print('\\n--------------------------Original Text-------------------------\\n')\n",
    "print('Total words amount:', len(word_tokenize(text)))\n",
    "print('Amount of distinct words: ' , len(word_tokenize(text)), '\\n')\n",
    "print('--------------------------Cleaned Text--------------------------\\n')\n",
    "print('Words amount after remove punctuation and stop words: ', len(filtered_sent))\n",
    "print('Amount of distinct words: ' , len(fdist))\n",
    "print('\\n----------------------------------------------------------------\\n')"
   ]
  },
  {
   "cell_type": "code",
   "execution_count": 53,
   "metadata": {},
   "outputs": [
    {
     "data": {
      "text/plain": [
       "[('okay', 214),\n",
       " ('number', 110),\n",
       " ('’', 100),\n",
       " ('account', 88),\n",
       " ('bank', 80),\n",
       " ('thank', 80),\n",
       " ('card', 72),\n",
       " ('like', 70),\n",
       " ('would', 68),\n",
       " ('sir', 66),\n",
       " ('name', 60),\n",
       " ('hello', 56),\n",
       " ('help', 52),\n",
       " ('service', 50),\n",
       " ('yes', 48),\n",
       " ('called', 46),\n",
       " ('virtual', 46),\n",
       " ('speaking', 46),\n",
       " ('may', 46),\n",
       " ('good', 46),\n",
       " ('identification', 42),\n",
       " ('day', 40),\n",
       " ('please', 36),\n",
       " ('debit', 34),\n",
       " ('could', 32)]"
      ]
     },
     "execution_count": 53,
     "metadata": {},
     "output_type": "execute_result"
    }
   ],
   "source": [
    "fdist.most_common(25)"
   ]
  },
  {
   "cell_type": "code",
   "execution_count": 51,
   "metadata": {},
   "outputs": [
    {
     "data": {
      "image/png": "[encoded data removed]",
      "text/plain": [
       "<Figure size 1440x504 with 1 Axes>"
      ]
     },
     "metadata": {
      "needs_background": "light"
     },
     "output_type": "display_data"
    }
   ],
   "source": [
    "# Frequency Distribution Plot\n",
    "plt.figure(figsize = (20,7))\n",
    "fdist.plot(30, cumulative = False, color = 'red')\n",
    "plt.show()"
   ]
  },
  {
   "cell_type": "markdown",
   "metadata": {},
   "source": [
    "***"
   ]
  },
  {
   "cell_type": "markdown",
   "metadata": {},
   "source": [
    "# Sentences Analysis\n",
    "**Sentence segmentations of all conversations**"
   ]
  },
  {
   "cell_type": "code",
   "execution_count": 56,
   "metadata": {},
   "outputs": [
    {
     "data": {
      "text/plain": [
       "566"
      ]
     },
     "execution_count": 56,
     "metadata": {},
     "output_type": "execute_result"
    }
   ],
   "source": [
    "tokenized_sent_all = sent_tokenize(text)\n",
    "len(tokenized_sent_all)"
   ]
  },
  {
   "cell_type": "markdown",
   "metadata": {},
   "source": [
    "### Sentences Average number"
   ]
  },
  {
   "cell_type": "code",
   "execution_count": 61,
   "metadata": {},
   "outputs": [
    {
     "name": "stdout",
     "output_type": "stream",
     "text": [
      "Average Sentences = 24.61\n"
     ]
    }
   ],
   "source": [
    "print('Average Sentences = %.2f' % (len(tokenized_sent_all) / 23))"
   ]
  },
  {
   "cell_type": "markdown",
   "metadata": {},
   "source": [
    "***"
   ]
  },
  {
   "cell_type": "markdown",
   "metadata": {},
   "source": [
    "## Summarization"
   ]
  },
  {
   "cell_type": "markdown",
   "metadata": {},
   "source": [
    "### Sentences Analysis"
   ]
  },
  {
   "cell_type": "code",
   "execution_count": 117,
   "metadata": {},
   "outputs": [
    {
     "name": "stdout",
     "output_type": "stream",
     "text": [
      "\n",
      "------------------------------------------- All Conversations -------------------------------------------\n",
      "\n",
      "Amount of all sentences:  566 sentences\n",
      "\n",
      "-------------------------------- Average Sentences per one conversation ---------------------------------\n",
      "\n",
      "Average Sentences:  24.61 sentences\n",
      "\n",
      "---------------------------------------------------------------------------------------------------------\n",
      "\n"
     ]
    }
   ],
   "source": [
    "print('\\n------------------------------------------- All Conversations -------------------------------------------\\n')\n",
    "print('Amount of all sentences: ' , len(tokenized_sent_all), 'sentences')\n",
    "print('\\n-------------------------------- Average Sentences per one conversation ---------------------------------\\n')\n",
    "print('Average Sentences:  %.2f' % (len(tokenized_sent_all) / 23), 'sentences')\n",
    "print('\\n---------------------------------------------------------------------------------------------------------\\n')"
   ]
  },
  {
   "cell_type": "markdown",
   "metadata": {},
   "source": [
    "### Word analysis\n",
    "* All words"
   ]
  },
  {
   "cell_type": "code",
   "execution_count": 90,
   "metadata": {},
   "outputs": [
    {
     "name": "stdout",
     "output_type": "stream",
     "text": [
      "\n",
      "--------------------------------------------- Original Text ---------------------------------------------\n",
      "\n",
      "Total words amount: 4089 words\n",
      "Average words in one conversation: 177.78 words\n",
      "\n",
      "--------------------------------------------- Cleaned Text ----------------------------------------------\n",
      "\n",
      "Words amount after remove punctuation and stop words:  1742 words\n",
      "Average words in one conversation after remove punctuation and stop words: 75.74 words\n",
      "\n",
      "---------------------------------------------------------------------------------------------------------\n",
      "\n"
     ]
    }
   ],
   "source": [
    "print('\\n--------------------------------------------- Original Text ---------------------------------------------\\n')\n",
    "print('Total words amount:', len(word_tokenize(text)), 'words')\n",
    "print('Average words in one conversation: %.2f' % (len(word_tokenize(text)) / 23), 'words')\n",
    "print('\\n--------------------------------------------- Cleaned Text ----------------------------------------------\\n')\n",
    "print('Words amount after remove punctuation and stop words: ', len(filtered_sent), 'words')\n",
    "print('Average words in one conversation after remove punctuation and stop words: %.2f' % (len(filtered_sent) / 23), 'words')\n",
    "print('\\n---------------------------------------------------------------------------------------------------------\\n')"
   ]
  },
  {
   "cell_type": "markdown",
   "metadata": {},
   "source": [
    "* Distinct words"
   ]
  },
  {
   "cell_type": "code",
   "execution_count": 98,
   "metadata": {},
   "outputs": [
    {
     "name": "stdout",
     "output_type": "stream",
     "text": [
      "\n",
      "-------------------------------- Frequency Distribution of Original Text --------------------------------\n",
      "\n",
      "Amount of distinct words:  508 words\n",
      "\n",
      "-------------------------------- Frequency Distribution of Cleaned Text ---------------------------------\n",
      "\n",
      "Amount of distinct words:  380 words\n",
      "\n",
      "---------------------------------------------------------------------------------------------------------\n",
      "\n"
     ]
    }
   ],
   "source": [
    "print('\\n-------------------------------- Frequency Distribution of Original Text --------------------------------\\n')\n",
    "print('Amount of distinct words: ' , len(FreqDist(word_tokenize(text))), 'words')\n",
    "print('\\n-------------------------------- Frequency Distribution of Cleaned Text ---------------------------------\\n')\n",
    "print('Amount of distinct words: ' , len(fdist), 'words')\n",
    "print('\\n---------------------------------------------------------------------------------------------------------\\n')"
   ]
  },
  {
   "cell_type": "code",
   "execution_count": 110,
   "metadata": {},
   "outputs": [
    {
     "data": {
      "image/png": "[encoded data removed]",
      "text/plain": [
       "<Figure size 1440x360 with 1 Axes>"
      ]
     },
     "metadata": {
      "needs_background": "light"
     },
     "output_type": "display_data"
    }
   ],
   "source": [
    "# Frequency Distribution Plot\n",
    "plt.figure(figsize = (20,5))\n",
    "FreqDist(word_tokenize(text)).plot(50, cumulative = False, color = 'red', title = \"Frequency Distribution Words of Original Text\")\n",
    "plt.show()"
   ]
  },
  {
   "cell_type": "code",
   "execution_count": 109,
   "metadata": {},
   "outputs": [
    {
     "data": {
      "image/png": "[encoded data removed]",
      "text/plain": [
       "<Figure size 1440x360 with 1 Axes>"
      ]
     },
     "metadata": {
      "needs_background": "light"
     },
     "output_type": "display_data"
    }
   ],
   "source": [
    "# Frequency Distribution Plot\n",
    "plt.figure(figsize = (20,5))\n",
    "fdist.plot(50, cumulative = False, color = 'red', title = \"Frequency Distribution Words of Cleaned Text\")\n",
    "plt.show()"
   ]
  },
  {
   "cell_type": "code",
   "execution_count": null,
   "metadata": {},
   "outputs": [],
   "source": []
  }
 ],
 "metadata": {
  "kernelspec": {
   "display_name": "Python 3",
   "language": "python",
   "name": "python3"
  },
  "language_info": {
   "codemirror_mode": {
    "name": "ipython",
    "version": 3
   },
   "file_extension": ".py",
   "mimetype": "text/x-python",
   "name": "python",
   "nbconvert_exporter": "python",
   "pygments_lexer": "ipython3",
   "version": "3.8.3"
  }
 },
 "nbformat": 4,
 "nbformat_minor": 4
}
