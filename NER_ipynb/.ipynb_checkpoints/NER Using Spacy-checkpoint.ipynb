{
 "cells": [
  {
   "cell_type": "code",
   "execution_count": 1,
   "metadata": {},
   "outputs": [],
   "source": [
    "import re\n",
    "\n",
    "import pandas as pd\n",
    "\n",
    "import spacy\n",
    "from spacy import displacy"
   ]
  },
  {
   "cell_type": "code",
   "execution_count": 2,
   "metadata": {},
   "outputs": [],
   "source": [
    "nlp = spacy.load(r'C:/Users/Namwater/anaconda3/Lib/site-packages/en_core_web_sm/en_core_web_sm-2.3.1')"
   ]
  },
  {
   "cell_type": "code",
   "execution_count": 3,
   "metadata": {},
   "outputs": [
    {
     "data": {
      "text/plain": [
       "['tagger', 'parser', 'ner']"
      ]
     },
     "execution_count": 3,
     "metadata": {},
     "output_type": "execute_result"
    }
   ],
   "source": [
    "nlp.pipe_names"
   ]
  },
  {
   "cell_type": "code",
   "execution_count": 4,
   "metadata": {},
   "outputs": [],
   "source": [
    "conv = pd.read_csv('D:/DSBA/Project/Final-Project-2/data/Text files/text.csv')"
   ]
  },
  {
   "cell_type": "code",
   "execution_count": 5,
   "metadata": {},
   "outputs": [
    {
     "data": {
      "text/html": [
       "<div>\n",
       "<style scoped>\n",
       "    .dataframe tbody tr th:only-of-type {\n",
       "        vertical-align: middle;\n",
       "    }\n",
       "\n",
       "    .dataframe tbody tr th {\n",
       "        vertical-align: top;\n",
       "    }\n",
       "\n",
       "    .dataframe thead th {\n",
       "        text-align: right;\n",
       "    }\n",
       "</style>\n",
       "<table border=\"1\" class=\"dataframe\">\n",
       "  <thead>\n",
       "    <tr style=\"text-align: right;\">\n",
       "      <th></th>\n",
       "      <th>Sentence</th>\n",
       "    </tr>\n",
       "  </thead>\n",
       "  <tbody>\n",
       "    <tr>\n",
       "      <th>0</th>\n",
       "      <td>Hello, you have called Virtual bank, this is N...</td>\n",
       "    </tr>\n",
       "    <tr>\n",
       "      <th>1</th>\n",
       "      <td>Hello, you have called Virtual bank, this is L...</td>\n",
       "    </tr>\n",
       "    <tr>\n",
       "      <th>2</th>\n",
       "      <td>Hello, you have called Virtual bank, this is M...</td>\n",
       "    </tr>\n",
       "    <tr>\n",
       "      <th>3</th>\n",
       "      <td>Hello, you have called Virtual bank, this is H...</td>\n",
       "    </tr>\n",
       "    <tr>\n",
       "      <th>4</th>\n",
       "      <td>Hello, you have called Virtual bank, this is L...</td>\n",
       "    </tr>\n",
       "  </tbody>\n",
       "</table>\n",
       "</div>"
      ],
      "text/plain": [
       "                                            Sentence\n",
       "0  Hello, you have called Virtual bank, this is N...\n",
       "1  Hello, you have called Virtual bank, this is L...\n",
       "2  Hello, you have called Virtual bank, this is M...\n",
       "3  Hello, you have called Virtual bank, this is H...\n",
       "4  Hello, you have called Virtual bank, this is L..."
      ]
     },
     "execution_count": 5,
     "metadata": {},
     "output_type": "execute_result"
    }
   ],
   "source": [
    "conv.head()"
   ]
  },
  {
   "cell_type": "code",
   "execution_count": 6,
   "metadata": {},
   "outputs": [],
   "source": [
    "gen_pii = pd.read_csv('D:/DSBA/Project/Final-Project-2/data/Text files/train_text_with_pii_2020_10_18_16_36_29_513505.csv')"
   ]
  },
  {
   "cell_type": "code",
   "execution_count": 7,
   "metadata": {},
   "outputs": [
    {
     "data": {
      "text/html": [
       "<div>\n",
       "<style scoped>\n",
       "    .dataframe tbody tr th:only-of-type {\n",
       "        vertical-align: middle;\n",
       "    }\n",
       "\n",
       "    .dataframe tbody tr th {\n",
       "        vertical-align: top;\n",
       "    }\n",
       "\n",
       "    .dataframe thead th {\n",
       "        text-align: right;\n",
       "    }\n",
       "</style>\n",
       "<table border=\"1\" class=\"dataframe\">\n",
       "  <thead>\n",
       "    <tr style=\"text-align: right;\">\n",
       "      <th></th>\n",
       "      <th>Text</th>\n",
       "      <th>Labels</th>\n",
       "      <th>PII</th>\n",
       "    </tr>\n",
       "  </thead>\n",
       "  <tbody>\n",
       "    <tr>\n",
       "      <th>0</th>\n",
       "      <td>Suite 426 Produce education hand statement. St...</td>\n",
       "      <td>Address</td>\n",
       "      <td>Suite 426</td>\n",
       "    </tr>\n",
       "    <tr>\n",
       "      <th>1</th>\n",
       "      <td>252 Kelly Camp Imagine food analysis so. Reall...</td>\n",
       "      <td>Address</td>\n",
       "      <td>252 Kelly Camp</td>\n",
       "    </tr>\n",
       "    <tr>\n",
       "      <th>2</th>\n",
       "      <td>Education poor interview society on nice simpl...</td>\n",
       "      <td>Address</td>\n",
       "      <td>9202 Jennifer Valleys Suite 890 Port Sara, ID ...</td>\n",
       "    </tr>\n",
       "    <tr>\n",
       "      <th>3</th>\n",
       "      <td>Practice enough Apt. 480 learn instead read ro...</td>\n",
       "      <td>Address</td>\n",
       "      <td>Apt. 480</td>\n",
       "    </tr>\n",
       "    <tr>\n",
       "      <th>4</th>\n",
       "      <td>Cause example so serious mention. Reflect Amer...</td>\n",
       "      <td>Address</td>\n",
       "      <td>Suite 072</td>\n",
       "    </tr>\n",
       "  </tbody>\n",
       "</table>\n",
       "</div>"
      ],
      "text/plain": [
       "                                                Text   Labels  \\\n",
       "0  Suite 426 Produce education hand statement. St...  Address   \n",
       "1  252 Kelly Camp Imagine food analysis so. Reall...  Address   \n",
       "2  Education poor interview society on nice simpl...  Address   \n",
       "3  Practice enough Apt. 480 learn instead read ro...  Address   \n",
       "4  Cause example so serious mention. Reflect Amer...  Address   \n",
       "\n",
       "                                                 PII  \n",
       "0                                          Suite 426  \n",
       "1                                     252 Kelly Camp  \n",
       "2  9202 Jennifer Valleys Suite 890 Port Sara, ID ...  \n",
       "3                                           Apt. 480  \n",
       "4                                          Suite 072  "
      ]
     },
     "execution_count": 7,
     "metadata": {},
     "output_type": "execute_result"
    }
   ],
   "source": [
    "gen_pii.head()"
   ]
  },
  {
   "cell_type": "code",
   "execution_count": 6,
   "metadata": {},
   "outputs": [],
   "source": [
    "# Data cleaning\n",
    "def clean_text(text):\n",
    "    # replace . and a space with only a space, then make all words lower case.\n",
    "    text = text.replace(\".\", \" \").replace(\",\", \"\").lower()\n",
    "    # get rid of the . at the end of each line. \n",
    "    cleaned_text = re.sub(\"\\.$\",\"\", text)\n",
    "    \n",
    "    return cleaned_text"
   ]
  },
  {
   "cell_type": "code",
   "execution_count": 29,
   "metadata": {},
   "outputs": [
    {
     "data": {
      "text/plain": [
       "'hello you have called virtual bank this is nancy speaking  how may i help you?\\noh i just had withdrawn some cash from the atm machine and atm transaction failed but money got debited  can you fix this problem?\\nsure  what is your account number?\\nit is 111236669 \\njust a moment …  okay and what is your name ma’am?\\nmy name is sandra reed \\nokay miss reed  can i have your identify number?\\nokay  5589766523663 \\nokay  i have 5589766523663 \\ncorrect \\nwhere is the atm machine that you had withdrawn the cash?\\ni do not know where exactly it is but it is in the pattaya beach \\nthat is fine we will check your withdrawal transaction and we will refund the money to your account  do you want to receive the message when we refunding the money?\\nyes please \\nokay what is your phone number ma’am?\\n8779526987 \\nokay i have 8779526987  we will send the message when we refund the money to your account \\nthanks nancy \\nhave a good day ma’am  thank you '"
      ]
     },
     "execution_count": 29,
     "metadata": {},
     "output_type": "execute_result"
    }
   ],
   "source": [
    "clean_text(conv['Sentence'][0])"
   ]
  },
  {
   "cell_type": "code",
   "execution_count": 8,
   "metadata": {},
   "outputs": [
    {
     "name": "stdout",
     "output_type": "stream",
     "text": [
      "NORP       - American\n",
      "CARDINAL   - 072\n"
     ]
    }
   ],
   "source": [
    "for ent in nlp(gen_pii['Text'][4]).ents:\n",
    "    print(f'{ent.label_.upper():{10}} - {ent.text}')"
   ]
  },
  {
   "cell_type": "code",
   "execution_count": 30,
   "metadata": {},
   "outputs": [
    {
     "name": "stdout",
     "output_type": "stream",
     "text": [
      "new Text-> hello you have called virtual bank this is nancy speaking   how may i help you ? \n",
      " oh i just had withdrawn some cash from the xxxx xxxx and xxxx transaction failed but money got debited   can you fix this problem ? \n",
      " sure   what is your account number ? \n",
      " it is xxxx \n",
      " just a moment …   okay and what is your name ma’am ? \n",
      " my name is xxxx xxxx \n",
      " okay miss reed   can i have your identify number ? \n",
      " okay   xxxx \n",
      " okay   i have xxxx \n",
      " correct \n",
      " where is the xxxx machine that you had withdrawn the cash ? \n",
      " i do not know where exactly it is but it is in the xxxx xxxx \n",
      " that is fine we will check your withdrawal transaction and we will refund the money to your account   do you want to receive the message when we refunding the money ? \n",
      " yes please \n",
      " okay what is your phone number ma’am ? \n",
      " xxxx \n",
      " okay i have xxxx   we will send the message when we refund the money to your account \n",
      " thanks nancy \n",
      " have xxxx xxxx xxxx ma’am   thank you\n"
     ]
    }
   ],
   "source": [
    "inp_text = clean_text(conv['Sentence'][0])\n",
    "doc = nlp(inp_text)\n",
    "\n",
    "# for ent in doc.ents:\n",
    "    # print(ent.text, ent.start_char, ent.end_char, ent.label_)\n",
    "    \n",
    "new_tokens = []\n",
    "\n",
    "for token in doc:\n",
    "    # print(\"Text: \"+ token.text + \" Entity: \"+ token.ent_type_ + token.ent_iob_)\n",
    "    if not token.ent_type_:\n",
    "        new_tokens.append(token.text)\n",
    "    else:\n",
    "        new_tokens.append('xxxx')\n",
    "        \n",
    "new_text = ' '.join(new_tokens)\n",
    "print(\"new Text->\", new_text)"
   ]
  },
  {
   "cell_type": "code",
   "execution_count": null,
   "metadata": {},
   "outputs": [],
   "source": [
    "sent = conv['Sentence'][1]\n",
    "sent"
   ]
  },
  {
   "cell_type": "code",
   "execution_count": 36,
   "metadata": {},
   "outputs": [],
   "source": [
    "from tqdm import tqdm\n",
    "import numpy as np\n",
    "from gensim.models import Word2Vec\n",
    "from gensim.models import FastText\n",
    "from gensim.models.doc2vec import Doc2Vec, TaggedDocument"
   ]
  },
  {
   "cell_type": "markdown",
   "metadata": {},
   "source": [
    "### Sentence Segmentation"
   ]
  },
  {
   "cell_type": "code",
   "execution_count": null,
   "metadata": {},
   "outputs": [],
   "source": [
    "doc = nlp(sent)"
   ]
  },
  {
   "cell_type": "code",
   "execution_count": null,
   "metadata": {},
   "outputs": [],
   "source": [
    "for sent in doc.sents: \n",
    "    print(sent)"
   ]
  },
  {
   "cell_type": "markdown",
   "metadata": {},
   "source": [
    "### Predefined named entities"
   ]
  },
  {
   "cell_type": "code",
   "execution_count": null,
   "metadata": {},
   "outputs": [],
   "source": [
    "for ent in doc.ents:\n",
    "    print(f'{ent.label_.upper():{10}} - {ent.text}')"
   ]
  },
  {
   "cell_type": "code",
   "execution_count": null,
   "metadata": {},
   "outputs": [],
   "source": [
    "# Explanation of all ner\n",
    "print(f'PERSON - {spacy.explain(\"PERSON\")}')\n",
    "print(f'GPE    - {spacy.explain(\"GPE\")}')\n",
    "print(f'DATE   - {spacy.explain(\"DATE\")}')\n",
    "print(f'MONEY  - {spacy.explain(\"MONEY\")}')\n",
    "print(f'ORG  - {spacy.explain(\"ORG\")}')\n",
    "print(f'CARDINAL  - {spacy.explain(\"CARDINAL\")}')"
   ]
  },
  {
   "cell_type": "markdown",
   "metadata": {},
   "source": [
    "More predefined named entites present in spacy: https://spacy.io/api/annotation#named-entities"
   ]
  },
  {
   "cell_type": "code",
   "execution_count": null,
   "metadata": {},
   "outputs": [],
   "source": [
    "# Extracting all PERSON named entities.\n",
    "\n",
    "for ent in doc.ents:\n",
    "    if ent.label_.upper() == 'PERSON':\n",
    "        print(f'{ent.label_.upper():{10}} - {ent.text}')"
   ]
  },
  {
   "cell_type": "code",
   "execution_count": null,
   "metadata": {},
   "outputs": [],
   "source": [
    "for ent in doc.ents:\n",
    "    if ent.label_.upper() == 'ORG':\n",
    "        print(f'{ent.label_.upper():{10}} - {ent.text}')"
   ]
  },
  {
   "cell_type": "markdown",
   "metadata": {},
   "source": [
    "ORG named entities are also labelled incorrect."
   ]
  },
  {
   "cell_type": "code",
   "execution_count": null,
   "metadata": {},
   "outputs": [],
   "source": [
    "displacy.render(doc, style = \"ent\")"
   ]
  },
  {
   "cell_type": "markdown",
   "metadata": {},
   "source": [
    "***"
   ]
  },
  {
   "cell_type": "markdown",
   "metadata": {},
   "source": [
    "### Creating custom NER"
   ]
  },
  {
   "cell_type": "code",
   "execution_count": null,
   "metadata": {},
   "outputs": [],
   "source": [
    "ner = nlp.get_pipe(\"ner\")"
   ]
  },
  {
   "cell_type": "code",
   "execution_count": null,
   "metadata": {},
   "outputs": [],
   "source": [
    "# training data\n",
    "Train_data = [\n",
    "              (\"It is 6102651715\", {\"entities\": [(6, 16, \"CARDINAL\")]}),\n",
    "              (\"That is A-P-P-L-E-B-A-U-M.\", {\"entities\": [(8, 18, \"PERSON\")]}),\n",
    "              (\"C-L-A-R-K-S-O-N.\", {\"entities\": [(0, 16, \"PRODUCT\")]}),\n",
    "              (\"I ordered this from ShopClues\", {\"entities\": [(20,29, \"ORG\")]}),\n",
    "              (\"Fridge can be ordered in Amazon \", {\"entities\": [(0,6, \"PRODUCT\")]}),\n",
    "              (\"I bought a new Washer\", {\"entities\": [(16,22, \"PRODUCT\")]}),\n",
    "              (\"I bought a old table\", {\"entities\": [(16,21, \"PRODUCT\")]}),\n",
    "              (\"I bought a fancy dress\", {\"entities\": [(18,23, \"PRODUCT\")]}),\n",
    "              (\"I rented a camera\", {\"entities\": [(12,18, \"PRODUCT\")]}),\n",
    "              (\"I rented a tent for our trip\", {\"entities\": [(12,16, \"PRODUCT\")]}),\n",
    "              (\"I rented a screwdriver from our neighbour\", {\"entities\": [(12,22, \"PRODUCT\")]}),\n",
    "              (\"I repaired my computer\", {\"entities\": [(15,23, \"PRODUCT\")]}),\n",
    "              (\"I got my clock fixed\", {\"entities\": [(16,21, \"PRODUCT\")]}),\n",
    "              (\"I got my truck fixed\", {\"entities\": [(16,21, \"PRODUCT\")]}),\n",
    "              (\"Flipkart started it's journey from zero\", {\"entities\": [(0,8, \"ORG\")]}),\n",
    "              (\"I recently ordered from Max\", {\"entities\": [(24,27, \"ORG\")]}),\n",
    "              (\"Flipkart is recognized as leader in market\",{\"entities\": [(0,8, \"ORG\")]}),\n",
    "              (\"I recently ordered from Swiggy\", {\"entities\": [(24,29, \"ORG\")]})\n",
    "              ]"
   ]
  },
  {
   "cell_type": "markdown",
   "metadata": {},
   "source": [
    "***"
   ]
  },
  {
   "cell_type": "code",
   "execution_count": 7,
   "metadata": {},
   "outputs": [
    {
     "data": {
      "text/plain": [
       "'hello you have called virtual bank this is nancy speaking  how may i help you?\\noh i just had withdrawn some cash from the atm machine and atm transaction failed but money got debited  can you fix this problem?\\nsure  what is your account number?\\nit is 111236669 \\njust a moment …  okay and what is your name ma’am?\\nmy name is sandra reed \\nokay miss reed  can i have your identify number?\\nokay  5589766523663 \\nokay  i have 5589766523663 \\ncorrect \\nwhere is the atm machine that you had withdrawn the cash?\\ni do not know where exactly it is but it is in the pattaya beach \\nthat is fine we will check your withdrawal transaction and we will refund the money to your account  do you want to receive the message when we refunding the money?\\nyes please \\nokay what is your phone number ma’am?\\n8779526987 \\nokay i have 8779526987  we will send the message when we refund the money to your account \\nthanks nancy \\nhave a good day ma’am  thank you '"
      ]
     },
     "execution_count": 7,
     "metadata": {},
     "output_type": "execute_result"
    }
   ],
   "source": [
    "text = clean_text(conv['Sentence'][0])\n",
    "text"
   ]
  },
  {
   "cell_type": "code",
   "execution_count": 10,
   "metadata": {},
   "outputs": [],
   "source": [
    "import spacy\n",
    "from pprint import pprint\n",
    "from spacy import displacy\n",
    "from collections import Counter\n",
    "import en_core_web_sm\n",
    "nlp = en_core_web_sm.load()"
   ]
  },
  {
   "cell_type": "code",
   "execution_count": 11,
   "metadata": {},
   "outputs": [
    {
     "name": "stdout",
     "output_type": "stream",
     "text": [
      "[('atm machine', 'ORG'),\n",
      " ('atm', 'ORG'),\n",
      " ('111236669', 'DATE'),\n",
      " ('sandra reed', 'PERSON'),\n",
      " ('5589766523663', 'DATE'),\n",
      " ('5589766523663', 'DATE'),\n",
      " ('atm', 'ORG'),\n",
      " ('pattaya beach', 'GPE'),\n",
      " ('8779526987', 'CARDINAL'),\n",
      " ('8779526987', 'CARDINAL'),\n",
      " ('a good day', 'DATE')]\n"
     ]
    }
   ],
   "source": [
    "doc = nlp(text)\n",
    "pprint([(X.text, X.label_) for X in doc.ents])"
   ]
  },
  {
   "cell_type": "code",
   "execution_count": 13,
   "metadata": {},
   "outputs": [
    {
     "name": "stdout",
     "output_type": "stream",
     "text": [
      "[(hello, 'O', ''),\n",
      " (you, 'O', ''),\n",
      " (have, 'O', ''),\n",
      " (called, 'O', ''),\n",
      " (virtual, 'O', ''),\n",
      " (bank, 'O', ''),\n",
      " (this, 'O', ''),\n",
      " (is, 'O', ''),\n",
      " (nancy, 'O', ''),\n",
      " (speaking, 'O', ''),\n",
      " ( , 'O', ''),\n",
      " (how, 'O', ''),\n",
      " (may, 'O', ''),\n",
      " (i, 'O', ''),\n",
      " (help, 'O', ''),\n",
      " (you, 'O', ''),\n",
      " (?, 'O', ''),\n",
      " (\n",
      ", 'O', ''),\n",
      " (oh, 'O', ''),\n",
      " (i, 'O', ''),\n",
      " (just, 'O', ''),\n",
      " (had, 'O', ''),\n",
      " (withdrawn, 'O', ''),\n",
      " (some, 'O', ''),\n",
      " (cash, 'O', ''),\n",
      " (from, 'O', ''),\n",
      " (the, 'O', ''),\n",
      " (atm, 'B', 'ORG'),\n",
      " (machine, 'I', 'ORG'),\n",
      " (and, 'O', ''),\n",
      " (atm, 'B', 'ORG'),\n",
      " (transaction, 'O', ''),\n",
      " (failed, 'O', ''),\n",
      " (but, 'O', ''),\n",
      " (money, 'O', ''),\n",
      " (got, 'O', ''),\n",
      " (debited, 'O', ''),\n",
      " ( , 'O', ''),\n",
      " (can, 'O', ''),\n",
      " (you, 'O', ''),\n",
      " (fix, 'O', ''),\n",
      " (this, 'O', ''),\n",
      " (problem, 'O', ''),\n",
      " (?, 'O', ''),\n",
      " (\n",
      ", 'O', ''),\n",
      " (sure, 'O', ''),\n",
      " ( , 'O', ''),\n",
      " (what, 'O', ''),\n",
      " (is, 'O', ''),\n",
      " (your, 'O', ''),\n",
      " (account, 'O', ''),\n",
      " (number, 'O', ''),\n",
      " (?, 'O', ''),\n",
      " (\n",
      ", 'O', ''),\n",
      " (it, 'O', ''),\n",
      " (is, 'O', ''),\n",
      " (111236669, 'B', 'DATE'),\n",
      " (\n",
      ", 'O', ''),\n",
      " (just, 'O', ''),\n",
      " (a, 'O', ''),\n",
      " (moment, 'O', ''),\n",
      " (…, 'O', ''),\n",
      " ( , 'O', ''),\n",
      " (okay, 'O', ''),\n",
      " (and, 'O', ''),\n",
      " (what, 'O', ''),\n",
      " (is, 'O', ''),\n",
      " (your, 'O', ''),\n",
      " (name, 'O', ''),\n",
      " (ma’am, 'O', ''),\n",
      " (?, 'O', ''),\n",
      " (\n",
      ", 'O', ''),\n",
      " (my, 'O', ''),\n",
      " (name, 'O', ''),\n",
      " (is, 'O', ''),\n",
      " (sandra, 'B', 'PERSON'),\n",
      " (reed, 'I', 'PERSON'),\n",
      " (\n",
      ", 'O', ''),\n",
      " (okay, 'O', ''),\n",
      " (miss, 'O', ''),\n",
      " (reed, 'O', ''),\n",
      " ( , 'O', ''),\n",
      " (can, 'O', ''),\n",
      " (i, 'O', ''),\n",
      " (have, 'O', ''),\n",
      " (your, 'O', ''),\n",
      " (identify, 'O', ''),\n",
      " (number, 'O', ''),\n",
      " (?, 'O', ''),\n",
      " (\n",
      ", 'O', ''),\n",
      " (okay, 'O', ''),\n",
      " ( , 'O', ''),\n",
      " (5589766523663, 'B', 'DATE'),\n",
      " (\n",
      ", 'O', ''),\n",
      " (okay, 'O', ''),\n",
      " ( , 'O', ''),\n",
      " (i, 'O', ''),\n",
      " (have, 'O', ''),\n",
      " (5589766523663, 'B', 'DATE'),\n",
      " (\n",
      ", 'O', ''),\n",
      " (correct, 'O', ''),\n",
      " (\n",
      ", 'O', ''),\n",
      " (where, 'O', ''),\n",
      " (is, 'O', ''),\n",
      " (the, 'O', ''),\n",
      " (atm, 'B', 'ORG'),\n",
      " (machine, 'O', ''),\n",
      " (that, 'O', ''),\n",
      " (you, 'O', ''),\n",
      " (had, 'O', ''),\n",
      " (withdrawn, 'O', ''),\n",
      " (the, 'O', ''),\n",
      " (cash, 'O', ''),\n",
      " (?, 'O', ''),\n",
      " (\n",
      ", 'O', ''),\n",
      " (i, 'O', ''),\n",
      " (do, 'O', ''),\n",
      " (not, 'O', ''),\n",
      " (know, 'O', ''),\n",
      " (where, 'O', ''),\n",
      " (exactly, 'O', ''),\n",
      " (it, 'O', ''),\n",
      " (is, 'O', ''),\n",
      " (but, 'O', ''),\n",
      " (it, 'O', ''),\n",
      " (is, 'O', ''),\n",
      " (in, 'O', ''),\n",
      " (the, 'O', ''),\n",
      " (pattaya, 'B', 'GPE'),\n",
      " (beach, 'I', 'GPE'),\n",
      " (\n",
      ", 'O', ''),\n",
      " (that, 'O', ''),\n",
      " (is, 'O', ''),\n",
      " (fine, 'O', ''),\n",
      " (we, 'O', ''),\n",
      " (will, 'O', ''),\n",
      " (check, 'O', ''),\n",
      " (your, 'O', ''),\n",
      " (withdrawal, 'O', ''),\n",
      " (transaction, 'O', ''),\n",
      " (and, 'O', ''),\n",
      " (we, 'O', ''),\n",
      " (will, 'O', ''),\n",
      " (refund, 'O', ''),\n",
      " (the, 'O', ''),\n",
      " (money, 'O', ''),\n",
      " (to, 'O', ''),\n",
      " (your, 'O', ''),\n",
      " (account, 'O', ''),\n",
      " ( , 'O', ''),\n",
      " (do, 'O', ''),\n",
      " (you, 'O', ''),\n",
      " (want, 'O', ''),\n",
      " (to, 'O', ''),\n",
      " (receive, 'O', ''),\n",
      " (the, 'O', ''),\n",
      " (message, 'O', ''),\n",
      " (when, 'O', ''),\n",
      " (we, 'O', ''),\n",
      " (refunding, 'O', ''),\n",
      " (the, 'O', ''),\n",
      " (money, 'O', ''),\n",
      " (?, 'O', ''),\n",
      " (\n",
      ", 'O', ''),\n",
      " (yes, 'O', ''),\n",
      " (please, 'O', ''),\n",
      " (\n",
      ", 'O', ''),\n",
      " (okay, 'O', ''),\n",
      " (what, 'O', ''),\n",
      " (is, 'O', ''),\n",
      " (your, 'O', ''),\n",
      " (phone, 'O', ''),\n",
      " (number, 'O', ''),\n",
      " (ma’am, 'O', ''),\n",
      " (?, 'O', ''),\n",
      " (\n",
      ", 'O', ''),\n",
      " (8779526987, 'B', 'CARDINAL'),\n",
      " (\n",
      ", 'O', ''),\n",
      " (okay, 'O', ''),\n",
      " (i, 'O', ''),\n",
      " (have, 'O', ''),\n",
      " (8779526987, 'B', 'CARDINAL'),\n",
      " ( , 'O', ''),\n",
      " (we, 'O', ''),\n",
      " (will, 'O', ''),\n",
      " (send, 'O', ''),\n",
      " (the, 'O', ''),\n",
      " (message, 'O', ''),\n",
      " (when, 'O', ''),\n",
      " (we, 'O', ''),\n",
      " (refund, 'O', ''),\n",
      " (the, 'O', ''),\n",
      " (money, 'O', ''),\n",
      " (to, 'O', ''),\n",
      " (your, 'O', ''),\n",
      " (account, 'O', ''),\n",
      " (\n",
      ", 'O', ''),\n",
      " (thanks, 'O', ''),\n",
      " (nancy, 'O', ''),\n",
      " (\n",
      ", 'O', ''),\n",
      " (have, 'O', ''),\n",
      " (a, 'B', 'DATE'),\n",
      " (good, 'I', 'DATE'),\n",
      " (day, 'I', 'DATE'),\n",
      " (ma’am, 'O', ''),\n",
      " ( , 'O', ''),\n",
      " (thank, 'O', ''),\n",
      " (you, 'O', '')]\n"
     ]
    }
   ],
   "source": [
    "# Token\n",
    "pprint([(X, X.ent_iob_, X.ent_type_) for X in doc])"
   ]
  },
  {
   "cell_type": "code",
   "execution_count": 14,
   "metadata": {},
   "outputs": [
    {
     "data": {
      "text/plain": [
       "[('atm', 2), ('5589766523663', 2), ('8779526987', 2)]"
      ]
     },
     "execution_count": 14,
     "metadata": {},
     "output_type": "execute_result"
    }
   ],
   "source": [
    "items = [x.text for x in doc.ents]\n",
    "Counter(items).most_common(3)"
   ]
  },
  {
   "cell_type": "code",
   "execution_count": 24,
   "metadata": {},
   "outputs": [
    {
     "data": {
      "text/plain": [
       "[('hello', 'INTJ', 'hello'),\n",
       " ('called', 'VERB', 'call'),\n",
       " ('virtual', 'ADJ', 'virtual'),\n",
       " ('bank', 'NOUN', 'bank'),\n",
       " ('nancy', 'NOUN', 'nancy'),\n",
       " ('speaking', 'VERB', 'speak'),\n",
       " (' ', 'SPACE', ' '),\n",
       " ('help', 'VERB', 'help'),\n",
       " ('\\n', 'SPACE', '\\n'),\n",
       " ('oh', 'INTJ', 'oh'),\n",
       " ('withdrawn', 'VERB', 'withdraw'),\n",
       " ('cash', 'NOUN', 'cash'),\n",
       " ('atm', 'NOUN', 'atm'),\n",
       " ('machine', 'NOUN', 'machine'),\n",
       " ('atm', 'NOUN', 'atm'),\n",
       " ('transaction', 'NOUN', 'transaction'),\n",
       " ('failed', 'VERB', 'fail'),\n",
       " ('money', 'NOUN', 'money'),\n",
       " ('got', 'VERB', 'get'),\n",
       " ('debited', 'ADJ', 'debited'),\n",
       " (' ', 'SPACE', ' '),\n",
       " ('fix', 'VERB', 'fix'),\n",
       " ('problem', 'NOUN', 'problem'),\n",
       " ('\\n', 'SPACE', '\\n'),\n",
       " ('sure', 'INTJ', 'sure'),\n",
       " (' ', 'SPACE', ' '),\n",
       " ('account', 'NOUN', 'account'),\n",
       " ('number', 'NOUN', 'number'),\n",
       " ('\\n', 'SPACE', '\\n'),\n",
       " ('111236669', 'NUM', '111236669'),\n",
       " ('\\n', 'SPACE', '\\n'),\n",
       " ('moment', 'NOUN', 'moment'),\n",
       " (' ', 'SPACE', ' '),\n",
       " ('okay', 'INTJ', 'okay'),\n",
       " ('ma’am', 'PROPN', 'madam'),\n",
       " ('\\n', 'SPACE', '\\n'),\n",
       " ('sandra', 'PROPN', 'sandra'),\n",
       " ('reed', 'PROPN', 'reed'),\n",
       " ('\\n', 'SPACE', '\\n'),\n",
       " ('okay', 'PROPN', 'okay'),\n",
       " ('miss', 'PROPN', 'miss'),\n",
       " ('reed', 'PROPN', 'reed'),\n",
       " (' ', 'SPACE', ' '),\n",
       " ('identify', 'NOUN', 'identify'),\n",
       " ('number', 'NOUN', 'number'),\n",
       " ('\\n', 'SPACE', '\\n'),\n",
       " ('okay', 'INTJ', 'okay'),\n",
       " (' ', 'SPACE', ' '),\n",
       " ('5589766523663', 'NUM', '5589766523663'),\n",
       " ('\\n', 'SPACE', '\\n'),\n",
       " ('okay', 'INTJ', 'okay'),\n",
       " (' ', 'SPACE', ' '),\n",
       " ('5589766523663', 'NUM', '5589766523663'),\n",
       " ('\\n', 'SPACE', '\\n'),\n",
       " ('correct', 'ADJ', 'correct'),\n",
       " ('\\n', 'SPACE', '\\n'),\n",
       " ('atm', 'NOUN', 'atm'),\n",
       " ('machine', 'NOUN', 'machine'),\n",
       " ('withdrawn', 'VERB', 'withdraw'),\n",
       " ('cash', 'NOUN', 'cash'),\n",
       " ('\\n', 'SPACE', '\\n'),\n",
       " ('know', 'VERB', 'know'),\n",
       " ('exactly', 'ADV', 'exactly'),\n",
       " ('pattaya', 'PROPN', 'pattaya'),\n",
       " ('beach', 'PROPN', 'beach'),\n",
       " ('\\n', 'SPACE', '\\n'),\n",
       " ('fine', 'ADJ', 'fine'),\n",
       " ('check', 'VERB', 'check'),\n",
       " ('withdrawal', 'NOUN', 'withdrawal'),\n",
       " ('transaction', 'NOUN', 'transaction'),\n",
       " ('refund', 'VERB', 'refund'),\n",
       " ('money', 'NOUN', 'money'),\n",
       " ('account', 'NOUN', 'account'),\n",
       " (' ', 'SPACE', ' '),\n",
       " ('want', 'VERB', 'want'),\n",
       " ('receive', 'VERB', 'receive'),\n",
       " ('message', 'NOUN', 'message'),\n",
       " ('refunding', 'VERB', 'refund'),\n",
       " ('money', 'NOUN', 'money'),\n",
       " ('\\n', 'SPACE', '\\n'),\n",
       " ('yes', 'INTJ', 'yes'),\n",
       " ('\\n', 'SPACE', '\\n'),\n",
       " ('okay', 'INTJ', 'okay'),\n",
       " ('phone', 'NOUN', 'phone'),\n",
       " ('number', 'NOUN', 'number'),\n",
       " ('ma’am', 'NOUN', 'madam'),\n",
       " ('\\n', 'SPACE', '\\n'),\n",
       " ('8779526987', 'NUM', '8779526987'),\n",
       " ('\\n', 'SPACE', '\\n'),\n",
       " ('okay', 'INTJ', 'okay'),\n",
       " ('8779526987', 'NUM', '8779526987'),\n",
       " (' ', 'SPACE', ' '),\n",
       " ('send', 'VERB', 'send'),\n",
       " ('message', 'NOUN', 'message'),\n",
       " ('refund', 'VERB', 'refund'),\n",
       " ('money', 'NOUN', 'money'),\n",
       " ('account', 'NOUN', 'account'),\n",
       " ('\\n', 'SPACE', '\\n'),\n",
       " ('thanks', 'INTJ', 'thanks'),\n",
       " ('nancy', 'PROPN', 'nancy'),\n",
       " ('\\n', 'SPACE', '\\n'),\n",
       " ('good', 'ADJ', 'good'),\n",
       " ('day', 'NOUN', 'day'),\n",
       " ('ma’am', 'NOUN', 'madam'),\n",
       " (' ', 'SPACE', ' '),\n",
       " ('thank', 'VERB', 'thank')]"
      ]
     },
     "execution_count": 24,
     "metadata": {},
     "output_type": "execute_result"
    }
   ],
   "source": [
    "# verbatim, extract part-of-speech and lemmatize this sentence.\n",
    "[(x.orth_,x.pos_, x.lemma_) for x in [y for y in nlp(text) if not y.is_stop and y.pos_ != 'PUNCT']]"
   ]
  },
  {
   "cell_type": "code",
   "execution_count": 20,
   "metadata": {},
   "outputs": [
    {
     "data": {
      "text/plain": [
       "{'atm machine': 'ORG',\n",
       " 'atm': 'ORG',\n",
       " '111236669': 'DATE',\n",
       " 'sandra reed': 'PERSON',\n",
       " '5589766523663': 'DATE',\n",
       " 'pattaya beach': 'GPE',\n",
       " '8779526987': 'CARDINAL',\n",
       " 'a good day': 'DATE'}"
      ]
     },
     "execution_count": 20,
     "metadata": {},
     "output_type": "execute_result"
    }
   ],
   "source": [
    "dict([(str(x), x.label_) for x in nlp(text).ents])"
   ]
  },
  {
   "cell_type": "code",
   "execution_count": 23,
   "metadata": {},
   "outputs": [
    {
     "name": "stdout",
     "output_type": "stream",
     "text": [
      "[(hello, 'O', ''),\n",
      " (you, 'O', ''),\n",
      " (have, 'O', ''),\n",
      " (called, 'O', ''),\n",
      " (virtual, 'O', ''),\n",
      " (bank, 'O', ''),\n",
      " (this, 'O', ''),\n",
      " (is, 'O', ''),\n",
      " (nancy, 'O', ''),\n",
      " (speaking, 'O', ''),\n",
      " ( , 'O', ''),\n",
      " (how, 'O', ''),\n",
      " (may, 'O', ''),\n",
      " (i, 'O', ''),\n",
      " (help, 'O', ''),\n",
      " (you, 'O', ''),\n",
      " (?, 'O', ''),\n",
      " (\n",
      ", 'O', ''),\n",
      " (oh, 'O', ''),\n",
      " (i, 'O', ''),\n",
      " (just, 'O', ''),\n",
      " (had, 'O', ''),\n",
      " (withdrawn, 'O', ''),\n",
      " (some, 'O', ''),\n",
      " (cash, 'O', ''),\n",
      " (from, 'O', ''),\n",
      " (the, 'O', ''),\n",
      " (atm, 'B', 'ORG'),\n",
      " (machine, 'I', 'ORG'),\n",
      " (and, 'O', ''),\n",
      " (atm, 'B', 'ORG'),\n",
      " (transaction, 'O', ''),\n",
      " (failed, 'O', ''),\n",
      " (but, 'O', ''),\n",
      " (money, 'O', ''),\n",
      " (got, 'O', ''),\n",
      " (debited, 'O', ''),\n",
      " ( , 'O', ''),\n",
      " (can, 'O', ''),\n",
      " (you, 'O', ''),\n",
      " (fix, 'O', ''),\n",
      " (this, 'O', ''),\n",
      " (problem, 'O', ''),\n",
      " (?, 'O', ''),\n",
      " (\n",
      ", 'O', ''),\n",
      " (sure, 'O', ''),\n",
      " ( , 'O', ''),\n",
      " (what, 'O', ''),\n",
      " (is, 'O', ''),\n",
      " (your, 'O', ''),\n",
      " (account, 'O', ''),\n",
      " (number, 'O', ''),\n",
      " (?, 'O', ''),\n",
      " (\n",
      ", 'O', ''),\n",
      " (it, 'O', ''),\n",
      " (is, 'O', ''),\n",
      " (111236669, 'B', 'DATE'),\n",
      " (\n",
      ", 'O', ''),\n",
      " (just, 'O', ''),\n",
      " (a, 'O', ''),\n",
      " (moment, 'O', ''),\n",
      " (…, 'O', ''),\n",
      " ( , 'O', ''),\n",
      " (okay, 'O', ''),\n",
      " (and, 'O', ''),\n",
      " (what, 'O', ''),\n",
      " (is, 'O', ''),\n",
      " (your, 'O', ''),\n",
      " (name, 'O', ''),\n",
      " (ma’am, 'O', ''),\n",
      " (?, 'O', ''),\n",
      " (\n",
      ", 'O', ''),\n",
      " (my, 'O', ''),\n",
      " (name, 'O', ''),\n",
      " (is, 'O', ''),\n",
      " (sandra, 'B', 'PERSON'),\n",
      " (reed, 'I', 'PERSON'),\n",
      " (\n",
      ", 'O', ''),\n",
      " (okay, 'O', ''),\n",
      " (miss, 'O', ''),\n",
      " (reed, 'O', ''),\n",
      " ( , 'O', ''),\n",
      " (can, 'O', ''),\n",
      " (i, 'O', ''),\n",
      " (have, 'O', ''),\n",
      " (your, 'O', ''),\n",
      " (identify, 'O', ''),\n",
      " (number, 'O', ''),\n",
      " (?, 'O', ''),\n",
      " (\n",
      ", 'O', ''),\n",
      " (okay, 'O', ''),\n",
      " ( , 'O', ''),\n",
      " (5589766523663, 'B', 'DATE'),\n",
      " (\n",
      ", 'O', ''),\n",
      " (okay, 'O', ''),\n",
      " ( , 'O', ''),\n",
      " (i, 'O', ''),\n",
      " (have, 'O', ''),\n",
      " (5589766523663, 'B', 'DATE'),\n",
      " (\n",
      ", 'O', ''),\n",
      " (correct, 'O', ''),\n",
      " (\n",
      ", 'O', ''),\n",
      " (where, 'O', ''),\n",
      " (is, 'O', ''),\n",
      " (the, 'O', ''),\n",
      " (atm, 'B', 'ORG'),\n",
      " (machine, 'O', ''),\n",
      " (that, 'O', ''),\n",
      " (you, 'O', ''),\n",
      " (had, 'O', ''),\n",
      " (withdrawn, 'O', ''),\n",
      " (the, 'O', ''),\n",
      " (cash, 'O', ''),\n",
      " (?, 'O', ''),\n",
      " (\n",
      ", 'O', ''),\n",
      " (i, 'O', ''),\n",
      " (do, 'O', ''),\n",
      " (not, 'O', ''),\n",
      " (know, 'O', ''),\n",
      " (where, 'O', ''),\n",
      " (exactly, 'O', ''),\n",
      " (it, 'O', ''),\n",
      " (is, 'O', ''),\n",
      " (but, 'O', ''),\n",
      " (it, 'O', ''),\n",
      " (is, 'O', ''),\n",
      " (in, 'O', ''),\n",
      " (the, 'O', ''),\n",
      " (pattaya, 'B', 'GPE'),\n",
      " (beach, 'I', 'GPE'),\n",
      " (\n",
      ", 'O', ''),\n",
      " (that, 'O', ''),\n",
      " (is, 'O', ''),\n",
      " (fine, 'O', ''),\n",
      " (we, 'O', ''),\n",
      " (will, 'O', ''),\n",
      " (check, 'O', ''),\n",
      " (your, 'O', ''),\n",
      " (withdrawal, 'O', ''),\n",
      " (transaction, 'O', ''),\n",
      " (and, 'O', ''),\n",
      " (we, 'O', ''),\n",
      " (will, 'O', ''),\n",
      " (refund, 'O', ''),\n",
      " (the, 'O', ''),\n",
      " (money, 'O', ''),\n",
      " (to, 'O', ''),\n",
      " (your, 'O', ''),\n",
      " (account, 'O', ''),\n",
      " ( , 'O', ''),\n",
      " (do, 'O', ''),\n",
      " (you, 'O', ''),\n",
      " (want, 'O', ''),\n",
      " (to, 'O', ''),\n",
      " (receive, 'O', ''),\n",
      " (the, 'O', ''),\n",
      " (message, 'O', ''),\n",
      " (when, 'O', ''),\n",
      " (we, 'O', ''),\n",
      " (refunding, 'O', ''),\n",
      " (the, 'O', ''),\n",
      " (money, 'O', ''),\n",
      " (?, 'O', ''),\n",
      " (\n",
      ", 'O', ''),\n",
      " (yes, 'O', ''),\n",
      " (please, 'O', ''),\n",
      " (\n",
      ", 'O', ''),\n",
      " (okay, 'O', ''),\n",
      " (what, 'O', ''),\n",
      " (is, 'O', ''),\n",
      " (your, 'O', ''),\n",
      " (phone, 'O', ''),\n",
      " (number, 'O', ''),\n",
      " (ma’am, 'O', ''),\n",
      " (?, 'O', ''),\n",
      " (\n",
      ", 'O', ''),\n",
      " (8779526987, 'B', 'CARDINAL'),\n",
      " (\n",
      ", 'O', ''),\n",
      " (okay, 'O', ''),\n",
      " (i, 'O', ''),\n",
      " (have, 'O', ''),\n",
      " (8779526987, 'B', 'CARDINAL'),\n",
      " ( , 'O', ''),\n",
      " (we, 'O', ''),\n",
      " (will, 'O', ''),\n",
      " (send, 'O', ''),\n",
      " (the, 'O', ''),\n",
      " (message, 'O', ''),\n",
      " (when, 'O', ''),\n",
      " (we, 'O', ''),\n",
      " (refund, 'O', ''),\n",
      " (the, 'O', ''),\n",
      " (money, 'O', ''),\n",
      " (to, 'O', ''),\n",
      " (your, 'O', ''),\n",
      " (account, 'O', ''),\n",
      " (\n",
      ", 'O', ''),\n",
      " (thanks, 'O', ''),\n",
      " (nancy, 'O', ''),\n",
      " (\n",
      ", 'O', ''),\n",
      " (have, 'O', ''),\n",
      " (a, 'B', 'DATE'),\n",
      " (good, 'I', 'DATE'),\n",
      " (day, 'I', 'DATE'),\n",
      " (ma’am, 'O', ''),\n",
      " ( , 'O', ''),\n",
      " (thank, 'O', ''),\n",
      " (you, 'O', '')]\n"
     ]
    }
   ],
   "source": [
    "pprint([(x, x.ent_iob_, x.ent_type_) for x in doc])"
   ]
  },
  {
   "cell_type": "code",
   "execution_count": null,
   "metadata": {},
   "outputs": [],
   "source": []
  }
 ],
 "metadata": {
  "kernelspec": {
   "display_name": "Python 3",
   "language": "python",
   "name": "python3"
  },
  "language_info": {
   "codemirror_mode": {
    "name": "ipython",
    "version": 3
   },
   "file_extension": ".py",
   "mimetype": "text/x-python",
   "name": "python",
   "nbconvert_exporter": "python",
   "pygments_lexer": "ipython3",
   "version": "3.8.3"
  }
 },
 "nbformat": 4,
 "nbformat_minor": 4
}
