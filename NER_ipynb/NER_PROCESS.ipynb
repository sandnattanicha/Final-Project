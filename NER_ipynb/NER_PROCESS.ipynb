{
 "cells": [
  {
   "cell_type": "markdown",
   "metadata": {},
   "source": [
    "# NER Using 3 Models and Rules-based"
   ]
  },
  {
   "cell_type": "code",
   "execution_count": 107,
   "metadata": {},
   "outputs": [],
   "source": [
    "# others libraries\n",
    "import pandas as pd\n",
    "import re\n",
    "import json\n",
    "import matplotlib.pyplot as plt\n",
    "import seaborn as sns\n",
    "sns.set(style = 'darkgrid', palette = 'Set2')"
   ]
  },
  {
   "cell_type": "code",
   "execution_count": 4,
   "metadata": {},
   "outputs": [],
   "source": [
    "# NLTK and Stanford libraries\n",
    "import nltk, re, os\n",
    "import nltk.corpus\n",
    "from nltk.tokenize import sent_tokenize, word_tokenize, PunktSentenceTokenizer\n",
    "from nltk.probability import FreqDist\n",
    "from nltk.tag.stanford import StanfordNERTagger\n",
    "from nltk import ne_chunk, pos_tag\n",
    "from nltk.tree import Tree\n",
    "from nltk import RegexpParser\n",
    "from nltk.chunk.api import ChunkParserI"
   ]
  },
  {
   "cell_type": "code",
   "execution_count": 5,
   "metadata": {},
   "outputs": [],
   "source": [
    "# spaCy libraries\n",
    "import spacy\n",
    "from spacy import displacy\n",
    "from collections import Counter\n",
    "import en_core_web_sm"
   ]
  },
  {
   "cell_type": "markdown",
   "metadata": {},
   "source": [
    "## Reading json file and storing in data frame"
   ]
  },
  {
   "cell_type": "code",
   "execution_count": 6,
   "metadata": {},
   "outputs": [],
   "source": [
    "def read_load(path):\n",
    "    # reading json file\n",
    "    with open(path, 'r') as json_file:\n",
    "        f = json.load(json_file)\n",
    "    data = f\n",
    "    \n",
    "    # Collecting index of word, word, start time, and end time\n",
    "    df = pd.DataFrame({'indx': ([X for X in range(len(data['values']['word']))]),\n",
    "                       'word': data['values']['word'], 'start_time': data['values']['start'],\n",
    "                       'end_time': data['values']['end']})\n",
    "    \n",
    "    df = df.set_index('indx')\n",
    "    \n",
    "    return data, df"
   ]
  },
  {
   "cell_type": "markdown",
   "metadata": {},
   "source": [
    "***"
   ]
  },
  {
   "cell_type": "markdown",
   "metadata": {},
   "source": [
    "# Named Entities Recognition Process"
   ]
  },
  {
   "cell_type": "markdown",
   "metadata": {},
   "source": [
    "## Stanford NER Tagger"
   ]
  },
  {
   "cell_type": "markdown",
   "metadata": {
    "jupyter": {
     "source_hidden": true
    }
   },
   "source": [
    "It has 3 models\n",
    "\n",
    "* 3 classes model for recognizing locations, person, and organizations\n",
    "* 4 classes model for recognizing locations, person, organizations, and miscellaneous entities\n",
    "* 7 classes model for recognizing locations, person, organizations, times, money, percents, and dates\n",
    "\n",
    "In this project, we use 7 classes model"
   ]
  },
  {
   "cell_type": "code",
   "execution_count": 7,
   "metadata": {},
   "outputs": [],
   "source": [
    "def Stanford_pred(dictt, df):\n",
    "    \n",
    "    java_path = (\"C:/Program Files/Java/jdk-15.0.1/bin/java.exe\")\n",
    "    os.environ['JAVAHOME'] = java_path\n",
    "    jar = ('D:/Program/stanford-ner-4.0.0/stanford-ner.jar')\n",
    "    model = ('D:/Program/stanford-ner-4.0.0/classifiers/english.muc.7class.distsim.crf.ser') # 7 classes\n",
    "    st = StanfordNERTagger(model, jar, encoding = 'utf-8')\n",
    "    \n",
    "    word_token = word_tokenize(dictt)\n",
    "    classified_text = st.tag(word_token)\n",
    "\n",
    "    wordlst = []\n",
    "    ne_lst = []\n",
    "\n",
    "    for i in range(len(classified_text)):\n",
    "        if str(classified_text[i][1]) != 'O':\n",
    "            if str(classified_text[i][1]) == 'PERSON' or str(classified_text[i][1]) == 'LOCATION' or str(classified_text[i][1]) == 'ORGANIZATION' or str(classified_text[i][1]) == 'MONEY' or str(classified_text[i][1]) == 'DATE':\n",
    "                wordlst.append(str(classified_text[i][0]))\n",
    "                ne_lst.append(str(classified_text[i][1]))\n",
    "                \n",
    "    st_pred = []        \n",
    "    check = 0  \n",
    "\n",
    "    for ww in df['word']:\n",
    "        check = 0\n",
    "        for w, n in zip(wordlst, ne_lst):\n",
    "            if ww.__contains__(w):\n",
    "                check = 1\n",
    "                st_pred.append(str(n))\n",
    "                break\n",
    "        if check == 0:\n",
    "            st_pred.append('O')\n",
    "    \n",
    "    df['stanford_pred'] = st_pred\n",
    "    \n",
    "    return st_pred, df"
   ]
  },
  {
   "cell_type": "markdown",
   "metadata": {},
   "source": [
    "## NLTK"
   ]
  },
  {
   "cell_type": "markdown",
   "metadata": {
    "jupyter": {
     "source_hidden": true
    }
   },
   "source": [
    "**NLTK recognizes the following entities:**\n",
    "* ORGANIZATION - Georgia-Pacific Corp., WHO\n",
    "* PERSON - Eddy Bonte, President Obama\n",
    "* LOCATION - Murray River, Mount Everest\n",
    "* DATE - June, 2008-06-29\n",
    "* TIME - two fifty a m, 1:30 p.m.\n",
    "* MONEY - 175 million Canadian Dollars, GBP 10.40\n",
    "* PERCENT - twenty pct, 18.75 %\n",
    "* FACILITY - Washington Monument, Stonehenge\n",
    "* GPE - South East Asia, Midlothian"
   ]
  },
  {
   "cell_type": "code",
   "execution_count": 8,
   "metadata": {},
   "outputs": [],
   "source": [
    "def NLTK_pred(dictt, df):\n",
    "    \n",
    "    word_token = word_tokenize(dictt)\n",
    "    tagged_words = pos_tag(word_token)\n",
    "    ne_tagged = ne_chunk(tagged_words, binary = False)\n",
    "\n",
    "    lst_word = []\n",
    "    lst_ne = []\n",
    "\n",
    "    for chunk in ne_tagged:\n",
    "        if hasattr(chunk, 'label'):\n",
    "            if chunk.label() == 'PERSON' or chunk.label() == 'LOCATION' or chunk.label() == 'ORG' or chunk.label() == 'GPE' or chunk.label() == 'MONEY' or chunk.label() == 'DATE':\n",
    "                if chunk.label() == 'ORG':\n",
    "                    lst_word.append(chunk[0][0])\n",
    "                    lst_ne.append('ORGANIZATION')\n",
    "                if chunk.label() == 'LOC' or chunk.label() == 'GPE':\n",
    "                    lst_word.append(chunk[0][0])\n",
    "                    lst_ne.append('LOCATION')\n",
    "                else:\n",
    "                    lst_word.append(chunk[0][0])\n",
    "                    lst_ne.append(chunk.label())\n",
    "    \n",
    "    nltk_pred = []        \n",
    "    check = 0  \n",
    "\n",
    "    for ww in df['word']:\n",
    "        check = 0\n",
    "        for w, n in zip(lst_word, lst_ne):\n",
    "            if ww.__contains__(w):\n",
    "                check = 1\n",
    "                nltk_pred.append(str(n))\n",
    "                break\n",
    "        if check == 0:\n",
    "            nltk_pred.append('O')\n",
    "    \n",
    "    df['nltk_pred'] = nltk_pred\n",
    "    \n",
    "    return nltk_pred, df"
   ]
  },
  {
   "cell_type": "markdown",
   "metadata": {},
   "source": [
    "## spaCy"
   ]
  },
  {
   "cell_type": "markdown",
   "metadata": {
    "jupyter": {
     "source_hidden": true
    }
   },
   "source": [
    "**spaCy recognizes the following entities:**\n",
    "* PERSON - People, including fictional.\n",
    "* NORP - Nationalities or religious or political groups.\n",
    "* FAC - Buildings, airports, highways, bridges, etc.\n",
    "* ORG - Companies, agencies, institutions, etc.\n",
    "* GPE - Countries, cities, states.\n",
    "* LOC - Non-GPE locations, mountain ranges, bodies of water.\n",
    "* PRODUCT - Objects, vehicles, foods, etc. (Not services.)\n",
    "* EVENT - Named hurricanes, battles, wars, sports events, etc.\n",
    "* WORK_OF_ART - Titles of books, songs, etc.\n",
    "* LAW - Named documents made into laws.\n",
    "* LANGUAGE - Any named language.\n",
    "* DATE - Absolute or relative dates or periods.\n",
    "* TIME - Times smaller than a day.\n",
    "* PERCENT - Percentage, including ”%“.\n",
    "* MONEY - Monetary values, including unit.\n",
    "* QUANTITY - Measurements, as of weight or distance.\n",
    "* ORDINAL - “first”, “second”, etc.\n",
    "* CARDINAL - Numerals that do not fall under another type."
   ]
  },
  {
   "cell_type": "code",
   "execution_count": 9,
   "metadata": {},
   "outputs": [],
   "source": [
    "def spaCy_pred(dictt, df):\n",
    "    \n",
    "    nlp = en_core_web_sm.load()\n",
    "    # list of words that have named entities\n",
    "    text = ([str(X) for X in nlp(dictt)\n",
    "            if (X.ent_type_ != '' and X.ent_type_ != 'CARDINAL') & (str(X) != 'a') & (str(X) != 'good') & (str(X) != 'day') & (str(X) != '.') & (str(X) != ',')])\n",
    "    # list of named entities\n",
    "    ne = ([X.ent_type_ for X in nlp(dictt)\n",
    "            if (X.ent_type_ != '' and X.ent_type_ != 'CARDINAL') & (str(X) != 'a') & (str(X) != 'good') & (str(X) != 'day') & (str(X) != '.') & (str(X) != ',')])\n",
    "    \n",
    "    sp_pred = []\n",
    "    \n",
    "    for n, i in enumerate(ne):\n",
    "        if i == 'LOC':\n",
    "            ne[n] = 'LOCATION'\n",
    "        if i == 'GPE':\n",
    "            ne[n] = 'LOCATION'\n",
    "        if i == 'ORG':\n",
    "            ne[n] = 'ORGANIZATION'\n",
    "          \n",
    "    check = 0  \n",
    "    \n",
    "    for ww in df['word']:\n",
    "        check = 0\n",
    "        for w, n in zip(text, ne):\n",
    "            if ww.__contains__(w):\n",
    "                check = 1\n",
    "                sp_pred.append(str(n))\n",
    "                break\n",
    "        if check == 0:\n",
    "            sp_pred.append('O')\n",
    "                \n",
    "    df['spacy_pred'] = sp_pred\n",
    "                \n",
    "    return sp_pred, df"
   ]
  },
  {
   "cell_type": "markdown",
   "metadata": {},
   "source": [
    "## Combining Real Named Entities and Regular Expressions"
   ]
  },
  {
   "cell_type": "code",
   "execution_count": 25,
   "metadata": {},
   "outputs": [],
   "source": [
    "def combined_models(df):\n",
    "    \n",
    "    # ------------ Selecting same named entity predictions 2 of 3 models ------------\n",
    "    \n",
    "    i_twooth = []\n",
    "    ne_twooth = []\n",
    "\n",
    "    for i, st, nl, sp in zip(df.index, df['stanford_pred'], df['nltk_pred'], df['spacy_pred']):\n",
    "        # check if stanford and nltk are same named entities\n",
    "        if (st != 'O' and nl != 'O') and (str(st) == str(nl)):\n",
    "            i_twooth.append(i)\n",
    "            ne_twooth.append(str(st))\n",
    "        # check if stanford and spacy are same named entities\n",
    "        elif (st != 'O' and sp != 'O') and (str(st) == str(sp)):\n",
    "            i_twooth.append(i)\n",
    "            ne_twooth.append(str(st))\n",
    "        # check if nltk and spacy are same named entities\n",
    "        elif (nl != 'O' and sp != 'O') and (str(nl) == str(sp)):\n",
    "            i_twooth.append(i)\n",
    "            ne_twooth.append(str(nl))\n",
    "        \n",
    "    combined = []\n",
    "    combined_check = 0\n",
    "        \n",
    "    for i in df.index:\n",
    "        combined_check = 0\n",
    "        for ii, n in zip(i_twooth, ne_twooth):\n",
    "            if i == ii:\n",
    "                combined_check = 1\n",
    "                combined.append(str(n))\n",
    "                break\n",
    "        if combined_check == 0:\n",
    "            combined.append('O')\n",
    "       \n",
    "    # ------------ Regular Expression checking ------------\n",
    "    \n",
    "    pii_index = []\n",
    "    pii_type = []\n",
    "    date_check = 0\n",
    "\n",
    "    for i, num in zip(df.index, df['word']):\n",
    "        date_check = 0\n",
    "        for ii in i_twooth:\n",
    "            if i == ii:\n",
    "                date_check = 1\n",
    "                break\n",
    "        if date_check == 0:\n",
    "            # ID card e.g. +666-666-666-6666\n",
    "            if re.search('(\\+?[0-9]{3,}-?[0-9]{3,}-?[0-9]{3,}-?[0-9]{4,})', num):\n",
    "                pii_index.append(i)\n",
    "                pii_type.append('IDCARD')\n",
    "            # phone number e.g. 666-666-6666\n",
    "            elif re.search('(\\+?[0-9]{3,}-?[0-9]{3,}-?[0-9]{4,})', num):\n",
    "                pii_index.append(i)\n",
    "                pii_type.append('PHONENUM')\n",
    "            # account number e.g. 666-666-666\n",
    "            elif re.search('(\\+?[0-9]{3,}-?[0-9]{3,}-?[0-9]{3,})', num):\n",
    "                pii_index.append(i)\n",
    "                pii_type.append('ACCNUM')\n",
    "            # card number\n",
    "            elif re.search('(\\+?[0-9]{2,}-?[0-9]{3,}-?[0-9]{3,}-?[0-9]+-?[0-9]+)', num):\n",
    "                pii_index.append(i)\n",
    "                pii_type.append('CARDNUM')\n",
    "            # if not has punctuation\n",
    "            elif re.search('\\+?[0-9]{9,}', num):\n",
    "                pii_index.append(i)\n",
    "                pii_type.append('PIINUM')\n",
    "            \n",
    "    regex_lst = []\n",
    "    regex_check = 0\n",
    "        \n",
    "    for i in df.index:\n",
    "        regex_check = 0\n",
    "        for ii, pi in zip(pii_index, pii_type):\n",
    "            if i == ii:\n",
    "                regex_check = 1\n",
    "                regex_lst.append(str(pi))\n",
    "                break\n",
    "        if regex_check == 0:\n",
    "            regex_lst.append('O')\n",
    "\n",
    "    # ------------ Combining real ents and regex ------------\n",
    "            \n",
    "    cb_rg = []\n",
    "\n",
    "    for ent, regex in zip(combined, regex_lst):\n",
    "        if ent != 'O' and regex == 'O':\n",
    "            cb_rg.append(ent)\n",
    "        elif regex != 'O' and ent == 'O':\n",
    "            cb_rg.append(regex)\n",
    "        else:\n",
    "            cb_rg.append('O')\n",
    "            \n",
    "    df['real_ents'] = cb_rg\n",
    "    \n",
    "    return cb_rg, df"
   ]
  },
  {
   "cell_type": "markdown",
   "metadata": {},
   "source": [
    "## Creating New Data Frame to Store Real Entities"
   ]
  },
  {
   "cell_type": "code",
   "execution_count": 14,
   "metadata": {},
   "outputs": [],
   "source": [
    "def filter_ents(df):\n",
    "    \n",
    "    formal_ents = df.drop(['stanford_pred', 'nltk_pred', 'spacy_pred'], axis = 1)\n",
    "    formal_ents = formal_ents[formal_ents['real_ents'] != 'O']\n",
    "    \n",
    "    return formal_ents"
   ]
  },
  {
   "cell_type": "markdown",
   "metadata": {},
   "source": [
    "***"
   ]
  },
  {
   "cell_type": "markdown",
   "metadata": {},
   "source": [
    "## Models Evaluation\n",
    "**Accuracies of all models**"
   ]
  },
  {
   "cell_type": "code",
   "execution_count": 117,
   "metadata": {},
   "outputs": [],
   "source": [
    "from nltk.metrics.scores import accuracy\n",
    "\n",
    "def acc_all(ref, st, nl, sp, re):\n",
    "    \n",
    "    st_acc = accuracy(ref, st)\n",
    "    nltk_acc = accuracy(ref, nl)\n",
    "    spacy_acc = accuracy(ref, sp)\n",
    "    r_ent_acc = accuracy(ref, re)\n",
    "    \n",
    "    print('\\n------------------------------------- Overall Accuracies -------------------------------------------\\n')\n",
    "    print('Stanford Accuracy: %.2f' % (st_acc * 100) + '%')\n",
    "    print('NLTK Accuracy: %.2f' % (nltk_acc * 100) + '%')\n",
    "    print('spaCy Accuracy: %.2f' % (spacy_acc * 100) + '%')\n",
    "    print('\\n** Combined Models and using Regular Expressions Accuracy: %.2f' % (r_ent_acc * 100) + '% **')\n",
    "    print('\\n----------------------------------------------------------------------------------------------------\\n')\n",
    "    \n",
    "    return st_acc, nltk_acc, spacy_acc, r_ent_acc"
   ]
  },
  {
   "cell_type": "markdown",
   "metadata": {},
   "source": [
    "**Specific named entities accuracies evaluation**"
   ]
  },
  {
   "cell_type": "code",
   "execution_count": 11,
   "metadata": {},
   "outputs": [],
   "source": [
    "def only_ENT(ent):\n",
    "    \n",
    "    person = []\n",
    "    org = []\n",
    "    loc = []\n",
    "    date = []\n",
    "    money = []\n",
    "    pii_num = []\n",
    "    \n",
    "    for p in ent:\n",
    "        if p != 'PERSON':\n",
    "            person.append('O')\n",
    "        else:\n",
    "            person.append(str(p))\n",
    "            \n",
    "    for o in ent:\n",
    "        if o != 'ORGANIZATION':\n",
    "            org.append('O')\n",
    "        else:\n",
    "            org.append(str(o))\n",
    "            \n",
    "    for l in ent:\n",
    "        if l != 'LOCATION':\n",
    "            loc.append('O')\n",
    "        else:\n",
    "            loc.append(str(l))\n",
    "            \n",
    "    for d in ent:\n",
    "        if d != 'DATE':\n",
    "            date.append('O')\n",
    "        else:\n",
    "            date.append(str(d))\n",
    "            \n",
    "    for m in ent:\n",
    "        if m != 'MONEY':\n",
    "            money.append('O')\n",
    "        else:\n",
    "            money.append(str(m))\n",
    "            \n",
    "    for pi in ent:\n",
    "        if pi != 'IDCARD' and pi != 'PHONENUM' and pi != 'ACCNUM' and pi != 'PIINUM':\n",
    "            pii_num.append('O')\n",
    "        else:\n",
    "            pii_num.append(str(pi))\n",
    "            \n",
    "    return person, org, loc, date, money, pii_num"
   ]
  },
  {
   "cell_type": "code",
   "execution_count": 98,
   "metadata": {},
   "outputs": [],
   "source": [
    "def acc_each_ENT(r_ps, r_org, r_loc, r_date, r_money, r_num, st_ps, st_org, st_loc, st_date, st_money, st_num, nltk_ps, nltk_org, nltk_loc, nltk_date, nltk_money, nltk_num, sp_ps, sp_org, sp_loc, sp_date, sp_money, sp_num, re_ps, re_org, re_loc, re_date, re_money, re_num):\n",
    "    \n",
    "    print('\\n-------------------------------- PERSON Prediction Accuracies --------------------------------------\\n')\n",
    "    print('Stanford Accuracy: %.2f' % (accuracy(r_ps, st_ps) * 100) + '%')\n",
    "    print('NLTK Accuracy: %.2f' % (accuracy(r_ps, nltk_ps) * 100) + '%')\n",
    "    print('spaCy Accuracy: %.2f' % (accuracy(r_ps, sp_ps) * 100) + '%')\n",
    "    print('\\n** Combined Models and using Regular Expressions Accuracy: %.2f' % (accuracy(r_ps, re_ps) * 100) + '% **')\n",
    "\n",
    "    print('\\n----------------------------- ORGANIZATION Prediction Accuracies -----------------------------------\\n')\n",
    "    print('Stanford Accuracy: %.2f' % (accuracy(r_org, st_org) * 100) + '%')\n",
    "    print('NLTK Accuracy: %.2f' % (accuracy(r_org, nltk_org) * 100) + '%')\n",
    "    print('spaCy Accuracy: %.2f' % (accuracy(r_org, sp_org) * 100) + '%')\n",
    "    print('\\n** Combined Models and using Regular Expressions Accuracy: %.2f' % (accuracy(r_org, re_org) * 100) + '% **')\n",
    "\n",
    "    print('\\n------------------------------- LOCATION Prediction accuracies -------------------------------------\\n')\n",
    "    print('Stanford Accuracy: %.2f' % (accuracy(r_loc, st_loc) * 100) + '%')\n",
    "    print('NLTK Accuracy: %.2f' % (accuracy(r_loc, nltk_loc) * 100) + '%')\n",
    "    print('spaCy Accuracy: %.2f' % (accuracy(r_loc, sp_loc) * 100) + '%')\n",
    "    print('\\n** Combined Models and using Regular Expressions Accuracy: %.2f' % (accuracy(r_loc, re_loc) * 100) + '% **')\n",
    "\n",
    "    print('\\n--------------------------------- DATE Prediction accuracies ---------------------------------------\\n')\n",
    "    print('Stanford Accuracy: %.2f' % (accuracy(r_date, st_date) * 100) + '%')\n",
    "    print('NLTK Accuracy: %.2f' % (accuracy(r_date, nltk_date) * 100) + '%')\n",
    "    print('spaCy Accuracy: %.2f' % (accuracy(r_date, sp_date) * 100) + '%')\n",
    "    print('\\n** Combined Models and using Regular Expressions Accuracy: %.2f' % (accuracy(r_date, re_date) * 100) + '% **')\n",
    "\n",
    "    print('\\n--------------------------------- MONEY Prediction accuracies -------------------------------------\\n')\n",
    "    print('Stanford Accuracy: %.2f' % (accuracy(r_money, st_money) * 100) + '%')\n",
    "    print('NLTK Accuracy: %.2f' % (accuracy(r_money, nltk_money) * 100) + '%')\n",
    "    print('spaCy Accuracy: %.2f' % (accuracy(r_money, sp_money) * 100) + '%')\n",
    "    print('\\n** Combined Models and using Regular Expressions Accuracy: %.2f' % (accuracy(r_money, re_money) * 100) + '% **')\n",
    "    \n",
    "    print('\\n------------------------------ PII NUMBER Prediction accuracies -----------------------------------\\n')\n",
    "    print('Stanford Accuracy: %.2f' % (accuracy(r_num, st_num) * 100) + '%')\n",
    "    print('NLTK Accuracy: %.2f' % (accuracy(r_num, nltk_num) * 100) + '%')\n",
    "    print('spaCy Accuracy: %.2f' % (accuracy(r_num, sp_num) * 100) + '%')\n",
    "    print('\\n** Combined Models and using Regular Expressions Accuracy: %.2f' % (accuracy(r_num, re_num) * 100) + '% **')\n",
    "    print('\\n---------------------------------------------------------------------------------------------------\\n')"
   ]
  },
  {
   "cell_type": "code",
   "execution_count": 137,
   "metadata": {},
   "outputs": [],
   "source": [
    "# Accuracies plot\n",
    "def acc_plot(st_acc, nltk_acc, spacy_acc, r_ent_acc):\n",
    "    \n",
    "    plt.figure(figsize = (8, 5))\n",
    "    plt.style.use('dark_background')\n",
    "    sns.barplot(x = ['Stanford', 'NLTK', 'spaCy', 'Combined'], y = [(st_acc * 100), (nltk_acc * 100), (spacy_acc * 100), (r_ent_acc * 100)])\n",
    "    plt.xlabel('Models')\n",
    "    plt.ylabel('Accuracies (%)')\n",
    "    plt.title('Overall Accuracies', fontsize = 14)\n",
    "    plt.show()\n",
    "    "
   ]
  },
  {
   "cell_type": "markdown",
   "metadata": {},
   "source": [
    "***"
   ]
  },
  {
   "cell_type": "markdown",
   "metadata": {},
   "source": [
    "## Testing more datasets"
   ]
  },
  {
   "cell_type": "markdown",
   "metadata": {},
   "source": [
    "#### Conversation 2"
   ]
  },
  {
   "cell_type": "code",
   "execution_count": 31,
   "metadata": {},
   "outputs": [],
   "source": [
    "# Reading json file and storing in df\n",
    "con2, df2 = read_load('D:/DSBA/Project/Final-Project-2/data/GG_Speech/conversation_2.json')\n",
    "\n",
    "# Stanford named entities prediction\n",
    "st_pred2, df2 = Stanford_pred(con2['transcript'], df2)\n",
    "# NLTK named entities prediction\n",
    "nltk_pred2, df2 = NLTK_pred(con2['transcript'], df2)\n",
    "# spaCy named entities prediction\n",
    "sp_pred2, df2 = spaCy_pred(con2['transcript'], df2)\n",
    "# Selecting same entities (2 of 3 models) and regular expressions (if they're pii num)\n",
    "cb_rg2, df2 = combined_models(df2)\n",
    "# Filtering the words that only have named entities\n",
    "formal_ents2 = filter_ents(df2)"
   ]
  },
  {
   "cell_type": "code",
   "execution_count": 33,
   "metadata": {},
   "outputs": [],
   "source": [
    "# formal_ents2.to_csv('D:/DSBA/Project/Final-Project-2/data/ner_pred/ner_pred_con2.csv')"
   ]
  },
  {
   "cell_type": "code",
   "execution_count": 53,
   "metadata": {},
   "outputs": [],
   "source": [
    "# df2.to_csv('D:/DSBA/Project/Final-Project-2/data/ref_ne_con/ref_con2.csv')"
   ]
  },
  {
   "cell_type": "code",
   "execution_count": 140,
   "metadata": {
    "jupyter": {
     "source_hidden": true
    }
   },
   "outputs": [
    {
     "name": "stdout",
     "output_type": "stream",
     "text": [
      "\n",
      "------------------------------------- Overall Accuracies -------------------------------------------\n",
      "\n",
      "Stanford Accuracy: 88.17%\n",
      "NLTK Accuracy: 84.62%\n",
      "spaCy Accuracy: 94.67%\n",
      "\n",
      "** Combined Models and using Regular Expressions Accuracy: 97.04% **\n",
      "\n",
      "----------------------------------------------------------------------------------------------------\n",
      "\n"
     ]
    },
    {
     "data": {
      "image/png": "[encoded data removed]",
      "text/plain": [
       "<Figure size 576x360 with 1 Axes>"
      ]
     },
     "metadata": {},
     "output_type": "display_data"
    },
    {
     "name": "stdout",
     "output_type": "stream",
     "text": [
      "\n",
      "-------------------------------- PERSON Prediction Accuracies --------------------------------------\n",
      "\n",
      "Stanford Accuracy: 98.82%\n",
      "NLTK Accuracy: 93.49%\n",
      "spaCy Accuracy: 100.00%\n",
      "\n",
      "** Combined Models and using Regular Expressions Accuracy: 100.00% **\n",
      "\n",
      "----------------------------- ORGANIZATION Prediction Accuracies -----------------------------------\n",
      "\n",
      "Stanford Accuracy: 99.41%\n",
      "NLTK Accuracy: 100.00%\n",
      "spaCy Accuracy: 99.41%\n",
      "\n",
      "** Combined Models and using Regular Expressions Accuracy: 99.41% **\n",
      "\n",
      "------------------------------- LOCATION Prediction accuracies -------------------------------------\n",
      "\n",
      "Stanford Accuracy: 98.82%\n",
      "NLTK Accuracy: 99.41%\n",
      "spaCy Accuracy: 100.00%\n",
      "\n",
      "** Combined Models and using Regular Expressions Accuracy: 100.00% **\n",
      "\n",
      "--------------------------------- DATE Prediction accuracies ---------------------------------------\n",
      "\n",
      "Stanford Accuracy: 94.67%\n",
      "NLTK Accuracy: 96.45%\n",
      "spaCy Accuracy: 100.00%\n",
      "\n",
      "** Combined Models and using Regular Expressions Accuracy: 100.00% **\n",
      "\n",
      "--------------------------------- MONEY Prediction accuracies -------------------------------------\n",
      "\n",
      "Stanford Accuracy: 100.00%\n",
      "NLTK Accuracy: 100.00%\n",
      "spaCy Accuracy: 100.00%\n",
      "\n",
      "** Combined Models and using Regular Expressions Accuracy: 100.00% **\n",
      "\n",
      "------------------------------ PII NUMBER Prediction accuracies -----------------------------------\n",
      "\n",
      "Stanford Accuracy: 95.27%\n",
      "NLTK Accuracy: 95.27%\n",
      "spaCy Accuracy: 95.27%\n",
      "\n",
      "** Combined Models and using Regular Expressions Accuracy: 97.63% **\n",
      "\n",
      "---------------------------------------------------------------------------------------------------\n",
      "\n"
     ]
    }
   ],
   "source": [
    "ref2 = pd.read_csv('D:/DSBA/Project/Final-Project-2/data/ref_ne_con/ref_con2.csv')\n",
    "ref2 = [i for i in ref2['label']]\n",
    "\n",
    "# Overall accuracies\n",
    "st2_acc, nltk2_acc, spacy2_acc, r_ent2_acc = acc_all(ref2, st_pred2, nltk_pred2, sp_pred2, cb_rg2)\n",
    "# Accuracies plot\n",
    "acc_plot(st2_acc, nltk2_acc, spacy2_acc, r_ent2_acc)\n",
    "\n",
    "# Specific named entities accuracies\n",
    "r_ps2, r_org2, r_loc2, r_date2, r_money2, r_num2 = only_ENT(ref2)\n",
    "st_ps2, st_org2, st_loc2, st_date2, st_money2, st_num2 = only_ENT(st_pred2)\n",
    "nltk_ps2, nltk_org2, nltk_loc2, nltk_date2, nltk_money2, nltk_num2 = only_ENT(nltk_pred2)\n",
    "sp_ps2, sp_org2, sp_loc2, sp_date2, sp_money2, sp_num2 = only_ENT(sp_pred2)\n",
    "re_ps2, re_org2, re_loc2, re_date2, re_money2, re_num2 = only_ENT(cb_rg2)\n",
    "\n",
    "acc_each_ENT(r_ps2, r_org2, r_loc2, r_date2, r_money2, r_num2, st_ps2, st_org2, st_loc2, st_date2, st_money2, st_num2, nltk_ps2, nltk_org2, nltk_loc2, nltk_date2, nltk_money2, nltk_num2, sp_ps2, sp_org2, sp_loc2, sp_date2, sp_money2, sp_num2, re_ps2, re_org2, re_loc2, re_date2, re_money2, re_num2)"
   ]
  },
  {
   "cell_type": "markdown",
   "metadata": {},
   "source": [
    "#### Conversation 3"
   ]
  },
  {
   "cell_type": "code",
   "execution_count": 34,
   "metadata": {},
   "outputs": [],
   "source": [
    "# Reading json file and storing in df\n",
    "con3, df3 = read_load('D:/DSBA/Project/Final-Project-2/data/GG_Speech/conversation_3.json')\n",
    "\n",
    "# Stanford named entities prediction\n",
    "st_pred3, df3 = Stanford_pred(con3['transcript'], df3)\n",
    "# NLTK named entities prediction\n",
    "nltk_pred3, df3 = NLTK_pred(con3['transcript'], df3)\n",
    "# spaCy named entities prediction\n",
    "sp_pred3, df3 = spaCy_pred(con3['transcript'], df3)\n",
    "# Selecting same entities (2 of 3 models) and regular expressions (if they're pii num)\n",
    "cb_rg3, df3 = combined_models(df3)\n",
    "# Filtering the words that only have named entities\n",
    "formal_ents3 = filter_ents(df3)"
   ]
  },
  {
   "cell_type": "code",
   "execution_count": 36,
   "metadata": {},
   "outputs": [],
   "source": [
    "# formal_ents3.to_csv('D:/DSBA/Project/Final-Project-2/data/ner_pred/ner_pred_con3.csv')"
   ]
  },
  {
   "cell_type": "code",
   "execution_count": 139,
   "metadata": {},
   "outputs": [],
   "source": [
    "# df3.to_csv('D:/DSBA/Project/Final-Project-2/data/ref_ne_con/ref_con3.csv')"
   ]
  },
  {
   "cell_type": "code",
   "execution_count": 141,
   "metadata": {
    "jupyter": {
     "source_hidden": true
    }
   },
   "outputs": [
    {
     "name": "stdout",
     "output_type": "stream",
     "text": [
      "\n",
      "------------------------------------- Overall Accuracies -------------------------------------------\n",
      "\n",
      "Stanford Accuracy: 94.08%\n",
      "NLTK Accuracy: 86.18%\n",
      "spaCy Accuracy: 90.13%\n",
      "\n",
      "** Combined Models and using Regular Expressions Accuracy: 96.71% **\n",
      "\n",
      "----------------------------------------------------------------------------------------------------\n",
      "\n"
     ]
    },
    {
     "data": {
      "image/png": "[encoded data removed]",
      "text/plain": [
       "<Figure size 576x360 with 1 Axes>"
      ]
     },
     "metadata": {},
     "output_type": "display_data"
    },
    {
     "name": "stdout",
     "output_type": "stream",
     "text": [
      "\n",
      "-------------------------------- PERSON Prediction Accuracies --------------------------------------\n",
      "\n",
      "Stanford Accuracy: 98.68%\n",
      "NLTK Accuracy: 94.74%\n",
      "spaCy Accuracy: 99.34%\n",
      "\n",
      "** Combined Models and using Regular Expressions Accuracy: 100.00% **\n",
      "\n",
      "----------------------------- ORGANIZATION Prediction Accuracies -----------------------------------\n",
      "\n",
      "Stanford Accuracy: 98.68%\n",
      "NLTK Accuracy: 98.68%\n",
      "spaCy Accuracy: 98.03%\n",
      "\n",
      "** Combined Models and using Regular Expressions Accuracy: 98.68% **\n",
      "\n",
      "------------------------------- LOCATION Prediction accuracies -------------------------------------\n",
      "\n",
      "Stanford Accuracy: 97.37%\n",
      "NLTK Accuracy: 96.05%\n",
      "spaCy Accuracy: 96.05%\n",
      "\n",
      "** Combined Models and using Regular Expressions Accuracy: 97.37% **\n",
      "\n",
      "--------------------------------- DATE Prediction accuracies ---------------------------------------\n",
      "\n",
      "Stanford Accuracy: 99.34%\n",
      "NLTK Accuracy: 98.03%\n",
      "spaCy Accuracy: 95.39%\n",
      "\n",
      "** Combined Models and using Regular Expressions Accuracy: 99.34% **\n",
      "\n",
      "--------------------------------- MONEY Prediction accuracies -------------------------------------\n",
      "\n",
      "Stanford Accuracy: 100.00%\n",
      "NLTK Accuracy: 100.00%\n",
      "spaCy Accuracy: 100.00%\n",
      "\n",
      "** Combined Models and using Regular Expressions Accuracy: 100.00% **\n",
      "\n",
      "------------------------------ PII NUMBER Prediction accuracies -----------------------------------\n",
      "\n",
      "Stanford Accuracy: 98.68%\n",
      "NLTK Accuracy: 98.68%\n",
      "spaCy Accuracy: 98.68%\n",
      "\n",
      "** Combined Models and using Regular Expressions Accuracy: 100.00% **\n",
      "\n",
      "---------------------------------------------------------------------------------------------------\n",
      "\n"
     ]
    }
   ],
   "source": [
    "ref3 = pd.read_csv('D:/DSBA/Project/Final-Project-2/data/ref_ne_con/ref_con3.csv')\n",
    "ref3 = [i for i in ref3['label']]\n",
    "\n",
    "# Overall accuracies\n",
    "st3_acc, nltk3_acc, spacy3_acc, r_ent3_acc = acc_all(ref3, st_pred3, nltk_pred3, sp_pred3, cb_rg3)\n",
    "# Accuracies plot\n",
    "acc_plot(st3_acc, nltk3_acc, spacy3_acc, r_ent3_acc)\n",
    "\n",
    "# Specific named entities accuracies\n",
    "r_ps3, r_org3, r_loc3, r_date3, r_money3, r_num3 = only_ENT(ref3)\n",
    "st_ps3, st_org3, st_loc3, st_date3, st_money3, st_num3 = only_ENT(st_pred3)\n",
    "nltk_ps3, nltk_org3, nltk_loc3, nltk_date3, nltk_money3, nltk_num3 = only_ENT(nltk_pred3)\n",
    "sp_ps3, sp_org3, sp_loc3, sp_date3, sp_money3, sp_num3 = only_ENT(sp_pred3)\n",
    "re_ps3, re_org3, re_loc3, re_date3, re_money3, re_num3 = only_ENT(cb_rg3)\n",
    "\n",
    "acc_each_ENT(r_ps3, r_org3, r_loc3, r_date3, r_money3, r_num3, st_ps3, st_org3, st_loc3, st_date3, st_money3, st_num3, nltk_ps3, nltk_org3, nltk_loc3, nltk_date3, nltk_money3, nltk_num3, sp_ps3, sp_org3, sp_loc3, sp_date3, sp_money3, sp_num3, re_ps3, re_org3, re_loc3, re_date3, re_money3, re_num3)"
   ]
  },
  {
   "cell_type": "markdown",
   "metadata": {},
   "source": [
    "#### Conversation 15"
   ]
  },
  {
   "cell_type": "code",
   "execution_count": 37,
   "metadata": {},
   "outputs": [],
   "source": [
    "# Reading json file and storing in df\n",
    "con15, df15 = read_load('D:/DSBA/Project/Final-Project-2/data/GG_Speech/conversation_15.json')\n",
    "\n",
    "# Stanford named entities prediction\n",
    "st_pred15, df15 = Stanford_pred(con15['transcript'], df15)\n",
    "# NLTK named entities prediction\n",
    "nltk_pred15, df15 = NLTK_pred(con15['transcript'], df15)\n",
    "# spaCy named entities prediction\n",
    "sp_pred15, df15 = spaCy_pred(con15['transcript'], df15)\n",
    "# Selecting same entities (2 of 3 models) and regular expressions (if they're pii num)\n",
    "cb_rg15, df15 = combined_models(df15)\n",
    "# Filtering the words that only have named entities\n",
    "formal_ents15 = filter_ents(df15)"
   ]
  },
  {
   "cell_type": "code",
   "execution_count": 39,
   "metadata": {},
   "outputs": [],
   "source": [
    "formal_ents15.to_csv('D:/DSBA/Project/Final-Project-2/data/ner_pred/ner_pred_con15.csv')"
   ]
  },
  {
   "cell_type": "markdown",
   "metadata": {},
   "source": [
    "#### Conversation 18"
   ]
  },
  {
   "cell_type": "code",
   "execution_count": 22,
   "metadata": {},
   "outputs": [],
   "source": [
    "# Reading json file and storing in df\n",
    "con18, df18 = read_load('D:/DSBA/Project/Final-Project-2/data/GG_Speech/conversation_18.json')\n",
    "\n",
    "# Stanford named entities prediction\n",
    "st_pred18, df18 = Stanford_pred(con18['transcript'], df18)\n",
    "# NLTK named entities prediction\n",
    "nltk_pred18, df18 = NLTK_pred(con18['transcript'], df18)\n",
    "# spaCy named entities prediction\n",
    "sp_pred18, df18 = spaCy_pred(con18['transcript'], df18)\n",
    "# Selecting same entities (2 of 3 models) and regular expressions (if they're pii num)\n",
    "cb_rg18, df18 = combined_models(df18)\n",
    "# Filtering the words that only have named entities\n",
    "formal_ents18 = filter_ents(df18)"
   ]
  },
  {
   "cell_type": "code",
   "execution_count": 30,
   "metadata": {},
   "outputs": [],
   "source": [
    "formal_ents18.to_csv('D:/DSBA/Project/Final-Project-2/data/ner_pred/ner_pred_con18.csv')"
   ]
  },
  {
   "cell_type": "markdown",
   "metadata": {},
   "source": [
    "#### Conversation 20"
   ]
  },
  {
   "cell_type": "code",
   "execution_count": 44,
   "metadata": {},
   "outputs": [],
   "source": [
    "# Reading json file and storing in df\n",
    "con20, df20 = read_load('D:/DSBA/Project/Final-Project-2/data/GG_Speech/conversation_20.json')\n",
    "\n",
    "# Stanford named entities prediction\n",
    "st_pred20, df20 = Stanford_pred(con20['transcript'], df20)\n",
    "# NLTK named entities prediction\n",
    "nltk_pred20, df20 = NLTK_pred(con20['transcript'], df20)\n",
    "# spaCy named entities prediction\n",
    "sp_pred20, df20 = spaCy_pred(con20['transcript'], df20)\n",
    "# Selecting same entities (2 of 3 models) and regular expressions (if they're pii num)\n",
    "cb_rg20, df20 = combined_models(df20)\n",
    "# Filtering the words that only have named entities\n",
    "formal_ents20 = filter_ents(df20)"
   ]
  },
  {
   "cell_type": "code",
   "execution_count": 45,
   "metadata": {},
   "outputs": [],
   "source": [
    "formal_ents20.to_csv('D:/DSBA/Project/Final-Project-2/data/ner_pred/ner_pred_con20.csv')"
   ]
  },
  {
   "cell_type": "markdown",
   "metadata": {},
   "source": [
    "#### Conversation 21"
   ]
  },
  {
   "cell_type": "code",
   "execution_count": 46,
   "metadata": {},
   "outputs": [],
   "source": [
    "# Reading json file and storing in df\n",
    "con21, df21 = read_load('D:/DSBA/Project/Final-Project-2/data/GG_Speech/conversation_21.json')\n",
    "\n",
    "# Stanford named entities prediction\n",
    "st_pred21, df21 = Stanford_pred(con21['transcript'], df21)\n",
    "# NLTK named entities prediction\n",
    "nltk_pred21, df21 = NLTK_pred(con21['transcript'], df21)\n",
    "# spaCy named entities prediction\n",
    "sp_pred21, df21 = spaCy_pred(con21['transcript'], df21)\n",
    "# Selecting same entities (2 of 3 models) and regular expressions (if they're pii num)\n",
    "cb_rg21, df21 = combined_models(df21)\n",
    "# Filtering the words that only have named entities\n",
    "formal_ents21 = filter_ents(df21)"
   ]
  },
  {
   "cell_type": "code",
   "execution_count": 48,
   "metadata": {},
   "outputs": [],
   "source": [
    "formal_ents21.to_csv('D:/DSBA/Project/Final-Project-2/data/ner_pred/ner_pred_con21.csv')"
   ]
  },
  {
   "cell_type": "markdown",
   "metadata": {},
   "source": [
    "#### Conversation 22"
   ]
  },
  {
   "cell_type": "code",
   "execution_count": 49,
   "metadata": {},
   "outputs": [],
   "source": [
    "# Reading json file and storing in df\n",
    "con22, df22 = read_load('D:/DSBA/Project/Final-Project-2/data/GG_Speech/conversation_22.json')\n",
    "\n",
    "# Stanford named entities prediction\n",
    "st_pred22, df22 = Stanford_pred(con22['transcript'], df22)\n",
    "# NLTK named entities prediction\n",
    "nltk_pred22, df22 = NLTK_pred(con22['transcript'], df22)\n",
    "# spaCy named entities prediction\n",
    "sp_pred22, df22 = spaCy_pred(con22['transcript'], df22)\n",
    "# Selecting same entities (2 of 3 models) and regular expressions (if they're pii num)\n",
    "cb_rg22, df22 = combined_models(df22)\n",
    "# Filtering the words that only have named entities\n",
    "formal_ents22 = filter_ents(df22)"
   ]
  },
  {
   "cell_type": "code",
   "execution_count": 51,
   "metadata": {},
   "outputs": [],
   "source": [
    "formal_ents22.to_csv('D:/DSBA/Project/Final-Project-2/data/ner_pred/ner_pred_con22.csv')"
   ]
  },
  {
   "cell_type": "code",
   "execution_count": null,
   "metadata": {},
   "outputs": [],
   "source": []
  }
 ],
 "metadata": {
  "kernelspec": {
   "display_name": "Python 3",
   "language": "python",
   "name": "python3"
  },
  "language_info": {
   "codemirror_mode": {
    "name": "ipython",
    "version": 3
   },
   "file_extension": ".py",
   "mimetype": "text/x-python",
   "name": "python",
   "nbconvert_exporter": "python",
   "pygments_lexer": "ipython3",
   "version": "3.8.3"
  }
 },
 "nbformat": 4,
 "nbformat_minor": 4
}
