{
 "cells": [
  {
   "cell_type": "code",
   "execution_count": 1,
   "metadata": {},
   "outputs": [],
   "source": [
    "import sys\n",
    "import os\n",
    "import speech_recognition as sr\n",
    "from os import path\n",
    "from pydub import AudioSegment\n",
    "import pandas as pd\n",
    "import nltk\n",
    "from nltk.tokenize import word_tokenize\n",
    "from nltk.tag import pos_tag\n",
    "import speech_recognition as sr\n",
    "import pocketsphinx\n",
    "from pocketsphinx import AudioFile, get_model_path, get_data_path\n",
    "from pathlib import Path"
   ]
  },
  {
   "cell_type": "code",
   "execution_count": 2,
   "metadata": {},
   "outputs": [
    {
     "name": "stdout",
     "output_type": "stream",
     "text": [
      "why what\n",
      "the schools that show that in the face is nearly as speaking\n",
      "how much help you\n",
      "and greedy i forgot i'm i'm thinking it's a case and password which should thank you\n",
      "you have to press on the clubhouse clay pots and only applications green and will send you a security and eighty often and\n",
      "that's that i didn't use my home phone number anymore and i haven't changed my details in the paint information that's fine\n",
      "could have your canada\n",
      "hands on one line fine for four to a huge here\n",
      "okay and what's your identification that\n",
      "okay\n",
      "and\n",
      "let taken the case in number is one one zero two five six million eight five dollars to a thousand eight hundred eleven damage to you\n",
      "okay i have one one zero eighty five six nine eight light pole\n",
      "to nine thousand eight hundred and action scenes yes that's right and what's your name now\n",
      "i'm i mean they've invented nelson\n",
      "okay ms nelson\n",
      "what's your friend on the mound\n",
      "my phone number is seven seven one nine eight five five five feet seven\n",
      "i just in case you've been there and she can reset your palms sweaty the application i personally the clubhouse slanted los angeles security number to find\n",
      "thank you\n",
      "and he sees the house and mrs nelson\n",
      "have a good day\n"
     ]
    }
   ],
   "source": [
    "import os\n",
    "from pocketsphinx import AudioFile, get_model_path, get_data_path\n",
    "\n",
    "model_path = get_model_path()\n",
    "data_path = get_data_path()\n",
    "\n",
    "config = {\n",
    "    'verbose': False,\n",
    "    'audio_file': ('data/Amanda.wav'),\n",
    "    'buffer_size': 2048,\n",
    "    'no_search': False,\n",
    "    'full_utt': False,\n",
    "    'hmm': os.path.join(model_path, 'en-us'),\n",
    "    'lm': os.path.join(model_path, 'en-us.lm.bin'),\n",
    "    'dict': os.path.join(model_path, 'cmudict-en-us.dict')\n",
    "}\n",
    "\n",
    "audio = AudioFile(**config)\n",
    "for phrase in audio:\n",
    "    print(phrase)"
   ]
  },
  {
   "cell_type": "code",
   "execution_count": 3,
   "metadata": {},
   "outputs": [
    {
     "name": "stdout",
     "output_type": "stream",
     "text": [
      "Say something!\n",
      "Sphinx thinks you said 'and you called the actual behind this is an arena speaking how may i help you haven't read and i forgot my painting application password what should i do you have to press on the clubhouse clay pots and hungary applications green and los angeles security and the two phenomena that's that i didn't use my home phone number anymore and i haven't changed my details in the tainted information that's fine could have fewer can the danced on one line fine for four to two to decay at what's your identification that cocaine on the and two vacation number is one one zero to five six million eight pints of water to nine thousand eight hundred eleven dance tune again i have one one zero eighty five six nine a title to nine thousand eight hundred eleven fashion scene yes that's right and what's your name that may mean the cemented nelson again ms nelson what's your friend and i found my phone number is seven seven one nine eight five five varieties that and i just took place you've been great she can reset job house why did the application by press and on housewives in los angeles security the date you'll find things you can see if he's seen how sad this ms nelson have a good day'\n"
     ]
    }
   ],
   "source": [
    "r = sr.Recognizer()\n",
    "with sr.AudioFile('data/Amanda.wav') as source:\n",
    "    print(\"Say something!\")\n",
    "    audio = r.listen(source)\n",
    "# try:  \n",
    "    text = str(r.recognize_sphinx(audio))\n",
    "    print(\"Sphinx thinks you said '\" + text + \"'\")  \n",
    "# except sr.UnknownValueError:  \n",
    "#    print(\"Sphinx could not understand audio\")  \n",
    "# except sr.RequestError as e:  \n",
    "#    print(\"Sphinx error; {0}\".format(e))  "
   ]
  },
  {
   "cell_type": "code",
   "execution_count": 11,
   "metadata": {},
   "outputs": [
    {
     "name": "stdout",
     "output_type": "stream",
     "text": [
      "go forward ten meters\n"
     ]
    }
   ],
   "source": [
    "from pocketsphinx import Pocketsphinx"
   ]
  },
  {
   "cell_type": "code",
   "execution_count": 12,
   "metadata": {},
   "outputs": [
    {
     "name": "stdout",
     "output_type": "stream",
     "text": [
      "    Hypothesis : well you've got a virtue and i just as varied as the game at taliban out here murray now and i've forgotten that banking application passwords like to say to you you have to press a forgot password been on the application screening and we'll send you the security number to your phone number so that's that i didn't use my old phone number anymore but i haven't changed my details in the bank information that's fine but i had your cat number that's one one one five four four two dudes you okay and what's your identification number okay an identification number is one one zero two five six nine eight five for one once you okay i have won one zero two five six nine eight five four one one two yes that's right and what's your name ma'am my name is amanda now send okay ms nelson what's your phone number man my cell number is seven seven one nine eight five five five eight seven i just replace your phone number and you can reset your password in the application by press on the forgot password and we'll send you the security number to your thong thank you thank you for using our service is now sen have a good day\n",
      "\n",
      "    Probability : -2372676\n",
      "    Score : -342132\n",
      "    Confidence 8.791138019692685e-104\n"
     ]
    }
   ],
   "source": [
    "from __future__ import print_function\n",
    "import os\n",
    "from pocketsphinx import Pocketsphinx\n",
    "\n",
    "# model_path = get_model_path()\n",
    "# data_path = get_data_path()\n",
    "\n",
    "config = {\n",
    "    'hmm': os.path.join(model_path, 'en-us'),\n",
    "    'lm': os.path.join(model_path, 'en-us.lm.bin'),\n",
    "    'dict': os.path.join(model_path, 'cmudict-en-us.dict')\n",
    "}\n",
    "\n",
    "ps = Pocketsphinx(**config)\n",
    "ps.decode(\n",
    "    audio_file= ('data/Nelson.wav'),\n",
    "    buffer_size=2048,\n",
    "    no_search=False,\n",
    "    full_utt=False\n",
    ")\n",
    "\n",
    "# print(ps.segments()) # => ['<s>', '<sil>', 'go', 'forward', 'ten', 'meters', '</s>']\n",
    "# print('Detailed segments:', *ps.segments(detailed=True), sep='\\n') # => [\n",
    "#     word, prob, start_frame, end_frame\n",
    "#     ('<s>', 0, 0, 24)\n",
    "#     ('<sil>', -3778, 25, 45)\n",
    "#     ('go', -27, 46, 63)\n",
    "#     ('forward', -38, 64, 116)\n",
    "#     ('ten', -14105, 117, 152)\n",
    "#     ('meters', -2152, 153, 211)\n",
    "#     ('</s>', 0, 212, 260)\n",
    "# ]\n",
    "\n",
    "print('    Hypothesis :', ps.hypothesis() + '\\n')\n",
    "print('    Probability :', ps.probability())\n",
    "print('    Score :', ps.score())\n",
    "print('    Confidence', ps.confidence())"
   ]
  },
  {
   "cell_type": "code",
   "execution_count": null,
   "metadata": {},
   "outputs": [],
   "source": []
  }
 ],
 "metadata": {
  "kernelspec": {
   "display_name": "Python 3",
   "language": "python",
   "name": "python3"
  },
  "language_info": {
   "codemirror_mode": {
    "name": "ipython",
    "version": 3
   },
   "file_extension": ".py",
   "mimetype": "text/x-python",
   "name": "python",
   "nbconvert_exporter": "python",
   "pygments_lexer": "ipython3",
   "version": "3.7.3"
  }
 },
 "nbformat": 4,
 "nbformat_minor": 4
}
