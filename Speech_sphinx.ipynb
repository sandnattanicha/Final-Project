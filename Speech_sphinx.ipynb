{
 "cells": [
  {
   "cell_type": "code",
   "execution_count": 1,
   "metadata": {},
   "outputs": [],
   "source": [
    "import sys\n",
    "import os\n",
    "import speech_recognition as sr\n",
    "from os import path\n",
    "from pydub import AudioSegment\n",
    "import pandas as pd\n",
    "import nltk\n",
    "from nltk.tokenize import word_tokenize\n",
    "from nltk.tag import pos_tag\n",
    "import pocketsphinx\n",
    "from pocketsphinx import AudioFile, get_model_path, get_data_path\n",
    "from pathlib import Path"
   ]
  },
  {
   "cell_type": "code",
   "execution_count": 4,
   "metadata": {},
   "outputs": [
    {
     "name": "stdout",
     "output_type": "stream",
     "text": [
      "hello\n",
      "you've come here to change this is human speaking how may help you\n",
      "hi helen\n",
      "i think i've lost my account book\n",
      "i could find it\n",
      "what can i do but it's okay for years to come to tell me your needs her on michael myers\n",
      "okay\n",
      "mr myers in this case you had to go to the paint on your diet you into your identification card for to a competitor will mean turned out to recount luck hi\n",
      "oh okay i'll go to the bank tomorrow\n",
      "thank you how\n",
      "thank you for using our service have a good day sir\n"
     ]
    }
   ],
   "source": [
    "import os\n",
    "from pocketsphinx import AudioFile, get_model_path, get_data_path\n",
    "\n",
    "model_path = get_model_path()\n",
    "data_path = get_data_path()\n",
    "\n",
    "config = {\n",
    "    'verbose': False,\n",
    "    'audio_file': ('data/Voice files/Michael.wav'),\n",
    "    'buffer_size': 2048,\n",
    "    'no_search': False,\n",
    "    'full_utt': False,\n",
    "    'hmm': os.path.join(model_path, 'en-us'),\n",
    "    'lm': os.path.join(model_path, 'en-us.lm.bin'),\n",
    "    'dict': os.path.join(model_path, 'cmudict-en-us.dict')\n",
    "}\n",
    "\n",
    "audio = AudioFile(**config)\n",
    "for phrase in audio:\n",
    "    print(phrase)"
   ]
  },
  {
   "cell_type": "code",
   "execution_count": null,
   "metadata": {},
   "outputs": [],
   "source": [
    "from pocketsphinx import Pocketsphinx"
   ]
  },
  {
   "cell_type": "code",
   "execution_count": null,
   "metadata": {},
   "outputs": [],
   "source": [
    "from __future__ import print_function\n",
    "import os\n",
    "from pocketsphinx import Pocketsphinx\n",
    "\n",
    "model_path = get_model_path()\n",
    "data_path = get_data_path()\n",
    "\n",
    "config = {\n",
    "    'hmm': ('en-us'),\n",
    "    'lm': ('en-us.lm.bin'),\n",
    "    'dict': ('cmudict-en-us.dict')\n",
    "}\n",
    "\n",
    "ps = Pocketsphinx(**config)\n",
    "ps.decode(\n",
    "    audio_file= ('data/Voice files/Michael.wav'),\n",
    "    buffer_size=2048,\n",
    "    no_search=False,\n",
    "    full_utt=False\n",
    ")\n",
    "\n",
    "# print(ps.segments()) # => ['<s>', '<sil>', 'go', 'forward', 'ten', 'meters', '</s>']\n",
    "# print('Detailed segments:', *ps.segments(detailed=True), sep='\\n') # => [\n",
    "#     word, prob, start_frame, end_frame\n",
    "#     ('<s>', 0, 0, 24)\n",
    "#     ('<sil>', -3778, 25, 45)\n",
    "#     ('go', -27, 46, 63)\n",
    "#     ('forward', -38, 64, 116)\n",
    "#     ('ten', -14105, 117, 152)\n",
    "#     ('meters', -2152, 153, 211)\n",
    "#     ('</s>', 0, 212, 260)\n",
    "# ]\n",
    "\n",
    "print('    Hypothesis :', ps.hypothesis() + '\\n')\n",
    "print('    Probability :', ps.probability())\n",
    "print('    Score :', ps.score())\n",
    "print('    Confidence', ps.confidence())"
   ]
  },
  {
   "cell_type": "code",
   "execution_count": null,
   "metadata": {},
   "outputs": [],
   "source": [
    "text_ori = open(\"data/Michael.txt\", \"r\").read()\n",
    "print(text_ori)"
   ]
  },
  {
   "cell_type": "code",
   "execution_count": 3,
   "metadata": {},
   "outputs": [
    {
     "ename": "NameError",
     "evalue": "name 'text_ori' is not defined",
     "output_type": "error",
     "traceback": [
      "\u001b[0;31m---------------------------------------------------------------------------\u001b[0m",
      "\u001b[0;31mNameError\u001b[0m                                 Traceback (most recent call last)",
      "\u001b[0;32m<ipython-input-3-882a38c0d96f>\u001b[0m in \u001b[0;36m<module>\u001b[0;34m\u001b[0m\n\u001b[1;32m      1\u001b[0m \u001b[0;32mfrom\u001b[0m \u001b[0mjiwer\u001b[0m \u001b[0;32mimport\u001b[0m \u001b[0mwer\u001b[0m\u001b[0;34m\u001b[0m\u001b[0;34m\u001b[0m\u001b[0m\n\u001b[1;32m      2\u001b[0m \u001b[0;34m\u001b[0m\u001b[0m\n\u001b[0;32m----> 3\u001b[0;31m \u001b[0mground_truth\u001b[0m \u001b[0;34m=\u001b[0m \u001b[0mtext_ori\u001b[0m\u001b[0;34m\u001b[0m\u001b[0;34m\u001b[0m\u001b[0m\n\u001b[0m\u001b[1;32m      4\u001b[0m \u001b[0mhyphothesis\u001b[0m \u001b[0;34m=\u001b[0m \u001b[0mtext\u001b[0m\u001b[0;34m\u001b[0m\u001b[0;34m\u001b[0m\u001b[0m\n\u001b[1;32m      5\u001b[0m \u001b[0;34m\u001b[0m\u001b[0m\n",
      "\u001b[0;31mNameError\u001b[0m: name 'text_ori' is not defined"
     ]
    }
   ],
   "source": [
    "from jiwer import wer\n",
    "\n",
    "ground_truth = text_ori\n",
    "hyphothesis = text\n",
    "\n",
    "error = wer(ground_truth, hyphothesis)"
   ]
  },
  {
   "cell_type": "code",
   "execution_count": null,
   "metadata": {},
   "outputs": [],
   "source": [
    "error"
   ]
  },
  {
   "cell_type": "code",
   "execution_count": null,
   "metadata": {},
   "outputs": [],
   "source": []
  },
  {
   "cell_type": "code",
   "execution_count": null,
   "metadata": {},
   "outputs": [],
   "source": []
  }
 ],
 "metadata": {
  "kernelspec": {
   "display_name": "Python 3",
   "language": "python",
   "name": "python3"
  },
  "language_info": {
   "codemirror_mode": {
    "name": "ipython",
    "version": 3
   },
   "file_extension": ".py",
   "mimetype": "text/x-python",
   "name": "python",
   "nbconvert_exporter": "python",
   "pygments_lexer": "ipython3",
   "version": "3.7.3"
  }
 },
 "nbformat": 4,
 "nbformat_minor": 4
}
