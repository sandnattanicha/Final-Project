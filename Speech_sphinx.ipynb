{
 "cells": [
  {
   "cell_type": "code",
   "execution_count": 2,
   "metadata": {},
   "outputs": [],
   "source": [
    "import sys\n",
    "import os\n",
    "import speech_recognition as sr\n",
    "from os import path\n",
    "from pydub import AudioSegment\n",
    "import pandas as pd\n",
    "import nltk\n",
    "from nltk.tokenize import word_tokenize\n",
    "from nltk.tag import pos_tag\n",
    "import speech_recognition as sr\n",
    "import pocketsphinx\n",
    "from pocketsphinx import AudioFile, get_model_path, get_data_path"
   ]
  },
  {
   "cell_type": "code",
   "execution_count": 3,
   "metadata": {},
   "outputs": [],
   "source": [
    "src = \"voice_data/Speech1.m4a\"\n",
    "dst = \"voice_data/speech1.wav\""
   ]
  },
  {
   "cell_type": "code",
   "execution_count": 4,
   "metadata": {},
   "outputs": [
    {
     "data": {
      "text/plain": [
       "<_io.BufferedRandom name='voice_data/speech1.wav'>"
      ]
     },
     "execution_count": 4,
     "metadata": {},
     "output_type": "execute_result"
    }
   ],
   "source": [
    "sound = AudioSegment.from_file(src)\n",
    "sound.export(dst, format=\"wav\")"
   ]
  },
  {
   "cell_type": "code",
   "execution_count": 5,
   "metadata": {},
   "outputs": [
    {
     "name": "stdout",
     "output_type": "stream",
     "text": [
      "Say something!\n",
      "Sphinx thinks you said 'hello you've called virtual hank this is marina speaking how may i help you you hi i'm a customer of your back and i have some errors on my account details what type of errors well my name is spelled incorrectly for starters the spell c. l. a r. k. the us all and it shouldn't have any also can i address is wrong and he chose my old address and only reached me because of her redirect okay i can fix that for you could i interrupt your identification number three to nine for dashing three to two dashing and initiate okay three to nine forty three to two touching on dashing it and what is your name sir lucifer clarkson okay i count lucifer clarkson what is your date of birth january first nineteen seventy five okay now let's go ahead and fix your details what is your new address shirt one hundred twenty three a b. c. street okay one hundred twenty three a b. c. street is that correct yes and i want to change my surname to okay can you spell your sir and again please clerks and steal our case as all can okay i have clarkson steal our case as vulcan yes okay i have for our place to her surname anything else shirt and oh that's all thanks thank you powerful good taste or you to get high'\n"
     ]
    }
   ],
   "source": [
    "r = sr.Recognizer()  \n",
    "with sr.AudioFile(\"voice_data/speech1.wav\") as source:  \n",
    "    print(\"Say something!\")  \n",
    "    audio = r.listen(source)   \n",
    "# try:  \n",
    "    text = str(r.recognize_sphinx(audio))\n",
    "    print(\"Sphinx thinks you said '\" + text + \"'\")  \n",
    "# except sr.UnknownValueError:  \n",
    "#    print(\"Sphinx could not understand audio\")  \n",
    "# except sr.RequestError as e:  \n",
    "#    print(\"Sphinx error; {0}\".format(e))  "
   ]
  },
  {
   "cell_type": "code",
   "execution_count": null,
   "metadata": {},
   "outputs": [],
   "source": []
  }
 ],
 "metadata": {
  "kernelspec": {
   "display_name": "Python 3",
   "language": "python",
   "name": "python3"
  },
  "language_info": {
   "codemirror_mode": {
    "name": "ipython",
    "version": 3
   },
   "file_extension": ".py",
   "mimetype": "text/x-python",
   "name": "python",
   "nbconvert_exporter": "python",
   "pygments_lexer": "ipython3",
   "version": "3.7.3"
  }
 },
 "nbformat": 4,
 "nbformat_minor": 4
}
