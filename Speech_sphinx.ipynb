{
 "cells": [
  {
   "cell_type": "code",
   "execution_count": 6,
   "metadata": {},
   "outputs": [],
   "source": [
    "import sys\n",
    "import os\n",
    "import speech_recognition as sr\n",
    "from os import path\n",
    "from pydub import AudioSegment\n",
    "import pandas as pd\n",
    "import nltk\n",
    "from nltk.tokenize import word_tokenize\n",
    "from nltk.tag import pos_tag\n",
    "import pocketsphinx\n",
    "from pocketsphinx import AudioFile, get_model_path, get_data_path\n",
    "from pathlib import Path"
   ]
  },
  {
   "cell_type": "code",
   "execution_count": 7,
   "metadata": {},
   "outputs": [
    {
     "name": "stdout",
     "output_type": "stream",
     "text": [
      "hello\n",
      "you've come here to change this is human speaking how may help you\n",
      "hi helen\n",
      "i think i've lost my account book\n",
      "i could find it\n",
      "what can i do but it's okay for years to come to tell me your needs her on michael myers\n",
      "okay\n",
      "mr myers in this case you had to go to the paint on your diet you into your identification card for to a competitor will mean turned out to recount luck hi\n",
      "oh okay i'll go to the bank tomorrow\n",
      "thank you how\n",
      "thank you for using our service have a good day sir\n"
     ]
    }
   ],
   "source": [
    "import os\n",
    "from pocketsphinx import AudioFile, get_model_path, get_data_path\n",
    "\n",
    "model_path = get_model_path()\n",
    "data_path = get_data_path()\n",
    "\n",
    "config = {\n",
    "    'verbose': False,\n",
    "    'audio_file': ('data/Michael.wav'),\n",
    "    'buffer_size': 2048,\n",
    "    'no_search': False,\n",
    "    'full_utt': False,\n",
    "    'hmm': os.path.join(model_path, 'en-us'),\n",
    "    'lm': os.path.join(model_path, 'en-us.lm.bin'),\n",
    "    'dict': os.path.join(model_path, 'cmudict-en-us.dict')\n",
    "}\n",
    "\n",
    "audio = AudioFile(**config)\n",
    "for phrase in audio:\n",
    "    print(phrase)"
   ]
  },
  {
   "cell_type": "code",
   "execution_count": 16,
   "metadata": {},
   "outputs": [],
   "source": [
    "from pocketsphinx import Pocketsphinx"
   ]
  },
  {
   "cell_type": "code",
   "execution_count": 8,
   "metadata": {},
   "outputs": [
    {
     "ename": "RuntimeError",
     "evalue": "new_Decoder returned -1",
     "output_type": "error",
     "traceback": [
      "\u001b[0;31m---------------------------------------------------------------------------\u001b[0m",
      "\u001b[0;31mRuntimeError\u001b[0m                              Traceback (most recent call last)",
      "\u001b[0;32m<ipython-input-8-67d65aca734c>\u001b[0m in \u001b[0;36m<module>\u001b[0;34m\u001b[0m\n\u001b[1;32m     12\u001b[0m }\n\u001b[1;32m     13\u001b[0m \u001b[0;34m\u001b[0m\u001b[0m\n\u001b[0;32m---> 14\u001b[0;31m \u001b[0mps\u001b[0m \u001b[0;34m=\u001b[0m \u001b[0mPocketsphinx\u001b[0m\u001b[0;34m(\u001b[0m\u001b[0;34m**\u001b[0m\u001b[0mconfig\u001b[0m\u001b[0;34m)\u001b[0m\u001b[0;34m\u001b[0m\u001b[0;34m\u001b[0m\u001b[0m\n\u001b[0m\u001b[1;32m     15\u001b[0m ps.decode(\n\u001b[1;32m     16\u001b[0m     \u001b[0maudio_file\u001b[0m\u001b[0;34m=\u001b[0m \u001b[0;34m(\u001b[0m\u001b[0;34m'data/Michael.wav'\u001b[0m\u001b[0;34m)\u001b[0m\u001b[0;34m,\u001b[0m\u001b[0;34m\u001b[0m\u001b[0;34m\u001b[0m\u001b[0m\n",
      "\u001b[0;32m/Library/Frameworks/Python.framework/Versions/3.7/lib/python3.7/site-packages/pocketsphinx/__init__.py\u001b[0m in \u001b[0;36m__init__\u001b[0;34m(self, **kwargs)\u001b[0m\n\u001b[1;32m     88\u001b[0m                 \u001b[0mconfig\u001b[0m\u001b[0;34m.\u001b[0m\u001b[0mset_string\u001b[0m\u001b[0;34m(\u001b[0m\u001b[0;34m'-{}'\u001b[0m\u001b[0;34m.\u001b[0m\u001b[0mformat\u001b[0m\u001b[0;34m(\u001b[0m\u001b[0mkey\u001b[0m\u001b[0;34m)\u001b[0m\u001b[0;34m,\u001b[0m \u001b[0mvalue\u001b[0m\u001b[0;34m)\u001b[0m\u001b[0;34m\u001b[0m\u001b[0;34m\u001b[0m\u001b[0m\n\u001b[1;32m     89\u001b[0m \u001b[0;34m\u001b[0m\u001b[0m\n\u001b[0;32m---> 90\u001b[0;31m         \u001b[0msuper\u001b[0m\u001b[0;34m(\u001b[0m\u001b[0mPocketsphinx\u001b[0m\u001b[0;34m,\u001b[0m \u001b[0mself\u001b[0m\u001b[0;34m)\u001b[0m\u001b[0;34m.\u001b[0m\u001b[0m__init__\u001b[0m\u001b[0;34m(\u001b[0m\u001b[0mconfig\u001b[0m\u001b[0;34m)\u001b[0m\u001b[0;34m\u001b[0m\u001b[0;34m\u001b[0m\u001b[0m\n\u001b[0m\u001b[1;32m     91\u001b[0m \u001b[0;34m\u001b[0m\u001b[0m\n\u001b[1;32m     92\u001b[0m     \u001b[0;32mdef\u001b[0m \u001b[0m__str__\u001b[0m\u001b[0;34m(\u001b[0m\u001b[0mself\u001b[0m\u001b[0;34m)\u001b[0m\u001b[0;34m:\u001b[0m\u001b[0;34m\u001b[0m\u001b[0;34m\u001b[0m\u001b[0m\n",
      "\u001b[0;32m/Library/Frameworks/Python.framework/Versions/3.7/lib/python3.7/site-packages/pocketsphinx/pocketsphinx.py\u001b[0m in \u001b[0;36m__init__\u001b[0;34m(self, *args)\u001b[0m\n\u001b[1;32m    208\u001b[0m         \u001b[0m__init__\u001b[0m\u001b[0;34m(\u001b[0m\u001b[0mDecoder\u001b[0m \u001b[0mself\u001b[0m\u001b[0;34m,\u001b[0m \u001b[0mConfig\u001b[0m \u001b[0mconfig\u001b[0m\u001b[0;34m)\u001b[0m \u001b[0;34m->\u001b[0m \u001b[0mDecoder\u001b[0m\u001b[0;34m\u001b[0m\u001b[0;34m\u001b[0m\u001b[0m\n\u001b[1;32m    209\u001b[0m         \"\"\"\n\u001b[0;32m--> 210\u001b[0;31m         \u001b[0m_pocketsphinx\u001b[0m\u001b[0;34m.\u001b[0m\u001b[0mDecoder_swiginit\u001b[0m\u001b[0;34m(\u001b[0m\u001b[0mself\u001b[0m\u001b[0;34m,\u001b[0m \u001b[0m_pocketsphinx\u001b[0m\u001b[0;34m.\u001b[0m\u001b[0mnew_Decoder\u001b[0m\u001b[0;34m(\u001b[0m\u001b[0;34m*\u001b[0m\u001b[0margs\u001b[0m\u001b[0;34m)\u001b[0m\u001b[0;34m)\u001b[0m\u001b[0;34m\u001b[0m\u001b[0;34m\u001b[0m\u001b[0m\n\u001b[0m\u001b[1;32m    211\u001b[0m     \u001b[0m__swig_destroy__\u001b[0m \u001b[0;34m=\u001b[0m \u001b[0m_pocketsphinx\u001b[0m\u001b[0;34m.\u001b[0m\u001b[0mdelete_Decoder\u001b[0m\u001b[0;34m\u001b[0m\u001b[0;34m\u001b[0m\u001b[0m\n\u001b[1;32m    212\u001b[0m \u001b[0;34m\u001b[0m\u001b[0m\n",
      "\u001b[0;31mRuntimeError\u001b[0m: new_Decoder returned -1"
     ]
    }
   ],
   "source": [
    "from __future__ import print_function\n",
    "import os\n",
    "from pocketsphinx import Pocketsphinx\n",
    "\n",
    "model_path = get_model_path()\n",
    "data_path = get_data_path()\n",
    "\n",
    "config = {\n",
    "    'hmm': ('data/en-us'),\n",
    "    'lm': ('data/en-us.lm.bin'),\n",
    "    'dict': ('data/cmudict-en-us.dict')\n",
    "}\n",
    "\n",
    "ps = Pocketsphinx(**config)\n",
    "ps.decode(\n",
    "    audio_file= ('data/Michael.wav'),\n",
    "    buffer_size=2048,\n",
    "    no_search=False,\n",
    "    full_utt=False\n",
    ")\n",
    "\n",
    "# print(ps.segments()) # => ['<s>', '<sil>', 'go', 'forward', 'ten', 'meters', '</s>']\n",
    "# print('Detailed segments:', *ps.segments(detailed=True), sep='\\n') # => [\n",
    "#     word, prob, start_frame, end_frame\n",
    "#     ('<s>', 0, 0, 24)\n",
    "#     ('<sil>', -3778, 25, 45)\n",
    "#     ('go', -27, 46, 63)\n",
    "#     ('forward', -38, 64, 116)\n",
    "#     ('ten', -14105, 117, 152)\n",
    "#     ('meters', -2152, 153, 211)\n",
    "#     ('</s>', 0, 212, 260)\n",
    "# ]\n",
    "\n",
    "print('    Hypothesis :', ps.hypothesis() + '\\n')\n",
    "print('    Probability :', ps.probability())\n",
    "print('    Score :', ps.score())\n",
    "print('    Confidence', ps.confidence())"
   ]
  },
  {
   "cell_type": "code",
   "execution_count": 10,
   "metadata": {},
   "outputs": [
    {
     "name": "stdout",
     "output_type": "stream",
     "text": [
      "hello you have called virtual bank this is helen speaking how may i help you hi helen i think i have lost my account book i could not find it what can i do about this okay first could you tell me your name sir i am michael myers okay mr myers in this case you have to go to the bank nearby you and give your identification card to the bank officer they will mange about your account book oh okay i will go to the bank tomorrow thank you helen thank you for using our service have a good day sir}\n"
     ]
    }
   ],
   "source": [
    "text_ori = open(\"data/Michael.txt\", \"r\").read()\n",
    "print(text_ori)"
   ]
  },
  {
   "cell_type": "code",
   "execution_count": 11,
   "metadata": {},
   "outputs": [],
   "source": [
    "from jiwer import wer\n",
    "\n",
    "ground_truth = text_ori\n",
    "hyphothesis = text\n",
    "\n",
    "error = wer(ground_truth, hyphothesis)"
   ]
  },
  {
   "cell_type": "code",
   "execution_count": 12,
   "metadata": {},
   "outputs": [
    {
     "data": {
      "text/plain": [
       "0.941747572815534"
      ]
     },
     "execution_count": 12,
     "metadata": {},
     "output_type": "execute_result"
    }
   ],
   "source": [
    "error"
   ]
  },
  {
   "cell_type": "code",
   "execution_count": null,
   "metadata": {},
   "outputs": [],
   "source": []
  }
 ],
 "metadata": {
  "kernelspec": {
   "display_name": "Python 3",
   "language": "python",
   "name": "python3"
  },
  "language_info": {
   "codemirror_mode": {
    "name": "ipython",
    "version": 3
   },
   "file_extension": ".py",
   "mimetype": "text/x-python",
   "name": "python",
   "nbconvert_exporter": "python",
   "pygments_lexer": "ipython3",
   "version": "3.7.3"
  }
 },
 "nbformat": 4,
 "nbformat_minor": 4
}
