{
 "cells": [
  {
   "cell_type": "code",
   "execution_count": 5,
   "metadata": {},
   "outputs": [],
   "source": [
    "import sys\n",
    "import os\n",
    "import speech_recognition as sr\n",
    "from pydub import AudioSegment\n",
    "import pandas as pd\n",
    "from pathlib import Path\n",
    "from sklearn.metrics import jaccard_score\n",
    "os.environ[\"GOOGLE_APPLICATION_CREDENTIALS\"]=\"Key/SpeechReg-2b5d8171274a.json\""
   ]
  },
  {
   "cell_type": "code",
   "execution_count": 72,
   "metadata": {},
   "outputs": [
    {
     "name": "stdout",
     "output_type": "stream",
     "text": [
      "--------------------------------------------------------------------------------\n",
      "Transcript: Hello, you called virtual bank. This is Marina speaking. How may I help you? Hello Marina. I forgotten my banking application password. What should I do? You have to press on forgot password button on the application screen and we'll send you a security number to your phone number. So that mad I didn't use my old phone number anymore, but I haven't changed my details in the bank information. That's fine. Could I have your account number? That's 111? 544-2022. Okay, and what's your identification number? Okay.\n",
      "Confidence: 70%\n",
      "  0.400 |   0.900 | Hello,\n",
      "  0.900 |   1.700 | you\n",
      "  1.700 |   1.900 | called\n",
      "  1.900 |   2.500 | virtual\n",
      "  2.500 |   2.800 | bank.\n",
      "  2.800 |   3.700 | This\n",
      "  3.700 |   4.000 | is\n",
      "  4.000 |   4.400 | Marina\n",
      "  4.400 |   4.900 | speaking.\n",
      "  4.900 |   5.900 | How\n",
      "  5.900 |   5.900 | may\n",
      "  5.900 |   6.100 | I\n",
      "  6.100 |   6.300 | help\n",
      "  6.300 |   6.500 | you?\n",
      "  6.500 |   7.700 | Hello\n",
      "  7.700 |   8.500 | Marina.\n",
      "  8.500 |   8.900 | I\n",
      "  8.900 |   9.600 | forgotten\n",
      "  9.600 |   9.800 | my\n",
      "  9.800 |  10.300 | banking\n",
      " 10.300 |  10.600 | application\n",
      " 10.600 |  12.000 | password.\n",
      " 12.200 |  12.600 | What\n",
      " 12.600 |  12.800 | should\n",
      " 12.800 |  12.900 | I\n",
      " 12.900 |  13.000 | do?\n",
      " 13.000 |  14.300 | You\n",
      " 14.300 |  14.400 | have\n",
      " 14.400 |  14.600 | to\n",
      " 14.600 |  14.800 | press\n",
      " 14.800 |  15.100 | on\n",
      " 15.100 |  15.500 | forgot\n",
      " 15.500 |  15.600 | password\n",
      " 15.600 |  16.700 | button\n",
      " 16.700 |  16.900 | on\n",
      " 16.900 |  17.100 | the\n",
      " 17.100 |  17.500 | application\n",
      " 17.500 |  18.200 | screen\n",
      " 18.200 |  18.400 | and\n",
      " 18.400 |  18.500 | we'll\n",
      " 18.500 |  18.800 | send\n",
      " 18.800 |  18.900 | you\n",
      " 18.900 |  19.000 | a\n",
      " 19.000 |  19.700 | security\n",
      " 19.700 |  20.100 | number\n",
      " 20.100 |  20.300 | to\n",
      " 20.300 |  20.400 | your\n",
      " 20.400 |  20.500 | phone\n",
      " 20.500 |  20.900 | number.\n",
      " 20.900 |  21.800 | So\n",
      " 21.800 |  22.500 | that\n",
      " 22.500 |  23.100 | mad\n",
      " 23.100 |  23.300 | I\n",
      " 23.300 |  24.100 | didn't\n",
      " 24.100 |  24.500 | use\n",
      " 24.500 |  24.700 | my\n",
      " 24.700 |  25.000 | old\n",
      " 25.000 |  25.400 | phone\n",
      " 25.400 |  25.800 | number\n",
      " 25.800 |  26.200 | anymore,\n",
      " 26.200 |  26.500 | but\n",
      " 26.500 |  26.700 | I\n",
      " 26.700 |  27.100 | haven't\n",
      " 27.100 |  27.600 | changed\n",
      " 27.600 |  27.800 | my\n",
      " 27.800 |  28.500 | details\n",
      " 28.500 |  28.600 | in\n",
      " 28.600 |  28.800 | the\n",
      " 28.800 |  29.100 | bank\n",
      " 29.100 |  29.400 | information.\n",
      " 29.400 |  30.700 | That's\n",
      " 30.700 |  30.900 | fine.\n",
      " 30.900 |  31.900 | Could\n",
      " 31.900 |  32.000 | I\n",
      " 32.000 |  32.100 | have\n",
      " 32.100 |  32.400 | your\n",
      " 32.400 |  32.800 | account\n",
      " 32.800 |  33.000 | number?\n",
      " 33.000 |  34.300 | That's\n",
      " 34.300 |  35.200 | 111?\n",
      " 35.200 |  38.200 | 544-2022.\n",
      " 38.200 |  39.000 | Okay,\n",
      " 39.000 |  39.800 | and\n",
      " 39.800 |  40.100 | what's\n",
      " 40.100 |  40.200 | your\n",
      " 40.200 |  40.900 | identification\n",
      " 40.900 |  41.600 | number?\n",
      " 41.600 |  42.700 | Okay.\n",
      "--------------------------------------------------------------------------------\n",
      "Transcript: Money identification number is 11025. 698-542-9811 Dash 2.\n",
      "Confidence: 76%\n",
      " 44.500 |  45.000 | Money\n",
      " 45.000 |  45.800 | identification\n",
      " 45.800 |  46.600 | number\n",
      " 46.600 |  46.900 | is\n",
      " 46.900 |  48.800 | 11025.\n",
      " 48.800 |  54.200 | 698-542-9811\n",
      " 54.200 |  54.400 | Dash\n",
      " 54.400 |  54.700 | 2.\n",
      "--------------------------------------------------------------------------------\n",
      "Transcript:  Okay, I have 110. +256-980-542-9811 - 2 yes, that's right. And what's your name? My name is Amanda Nelson. Okay, Ms. Nelson. What's your phone number now? My phone number is 771-985-5587.\n",
      "Confidence: 70%\n",
      " 56.100 |  56.700 | Okay,\n",
      " 56.700 |  57.300 | I\n",
      " 57.300 |  57.500 | have\n",
      " 57.500 |  58.500 | 110.\n",
      " 58.500 |  64.100 | +256-980-542-9811\n",
      " 64.100 |  64.400 | -\n",
      " 64.400 |  64.700 | 2\n",
      " 65.500 |  65.700 | yes,\n",
      " 65.700 |  66.300 | that's\n",
      " 66.300 |  66.600 | right.\n",
      " 66.600 |  67.700 | And\n",
      " 67.700 |  68.000 | what's\n",
      " 68.000 |  68.100 | your\n",
      " 68.100 |  68.200 | name?\n",
      " 68.200 |  69.400 | My\n",
      " 69.400 |  69.600 | name\n",
      " 69.600 |  70.100 | is\n",
      " 70.100 |  70.600 | Amanda\n",
      " 70.600 |  70.900 | Nelson.\n",
      " 71.400 |  72.200 | Okay,\n",
      " 72.200 |  72.900 | Ms.\n",
      " 72.900 |  73.100 | Nelson.\n",
      " 73.100 |  74.400 | What's\n",
      " 74.400 |  74.700 | your\n",
      " 74.700 |  74.900 | phone\n",
      " 74.900 |  75.100 | number\n",
      " 75.100 |  75.500 | now?\n",
      " 76.400 |  76.500 | My\n",
      " 76.500 |  76.800 | phone\n",
      " 76.800 |  77.300 | number\n",
      " 77.300 |  77.500 | is\n",
      " 77.500 |  82.400 | 771-985-5587.\n",
      "--------------------------------------------------------------------------------\n",
      "Transcript:  I just replied to phone number and you can reset your password in the application by press Alyssa. Go ahead and we'll send you a security number to your phone. Thank you. Thank you for using our service Ms. Nelson. Have a good day.\n",
      "Confidence: 67%\n",
      " 83.400 |  83.500 | I\n",
      " 83.500 |  84.200 | just\n",
      " 84.200 |  84.600 | replied\n",
      " 84.600 |  84.900 | to\n",
      " 84.900 |  85.100 | phone\n",
      " 85.100 |  85.500 | number\n",
      " 85.500 |  85.700 | and\n",
      " 85.700 |  85.800 | you\n",
      " 85.800 |  86.000 | can\n",
      " 86.000 |  86.400 | reset\n",
      " 86.400 |  86.500 | your\n",
      " 86.500 |  86.700 | password\n",
      " 86.700 |  87.400 | in\n",
      " 87.400 |  87.500 | the\n",
      " 87.500 |  88.200 | application\n",
      " 88.200 |  88.400 | by\n",
      " 88.400 |  88.700 | press\n",
      " 88.700 |  89.100 | Alyssa.\n",
      " 89.100 |  89.400 | Go\n",
      " 89.400 |  89.800 | ahead\n",
      " 89.800 |  90.300 | and\n",
      " 90.300 |  90.500 | we'll\n",
      " 90.500 |  90.700 | send\n",
      " 90.700 |  90.800 | you\n",
      " 90.800 |  91.000 | a\n",
      " 91.000 |  91.700 | security\n",
      " 91.700 |  92.000 | number\n",
      " 92.000 |  92.200 | to\n",
      " 92.200 |  92.300 | your\n",
      " 92.300 |  92.500 | phone.\n",
      " 92.500 |  93.400 | Thank\n",
      " 93.400 |  93.500 | you.\n",
      " 93.500 |  94.900 | Thank\n",
      " 94.900 |  95.000 | you\n",
      " 95.000 |  95.200 | for\n",
      " 95.200 |  95.400 | using\n",
      " 95.400 |  95.600 | our\n",
      " 95.600 |  96.200 | service\n",
      " 96.200 |  96.400 | Ms.\n",
      " 96.400 |  96.700 | Nelson.\n",
      " 96.700 |  98.000 | Have\n",
      " 98.000 |  98.100 | a\n",
      " 98.100 |  98.300 | good\n",
      " 98.300 |  98.400 | day.\n"
     ]
    }
   ],
   "source": [
    "from google.cloud import speech\n",
    "\n",
    "audio = speech.RecognitionAudio(uri=\"gs://voicedata_speech/Voice/Amanda.wav\")\n",
    "config = speech.RecognitionConfig(\n",
    "            #sample_rate_hertz=16000,\n",
    "            language_code=\"en-US\",\n",
    "            enable_automatic_punctuation=True,\n",
    "            enable_word_time_offsets=True,\n",
    "            model=\"phone_call\")\n",
    "\n",
    "data = []\n",
    "start_all = []\n",
    "end_all = []\n",
    "word_all = []\n",
    "\n",
    "\n",
    "def speech_to_text(config, audio):\n",
    "    client = speech.SpeechClient()\n",
    "    operation = client.long_running_recognize(config=config, audio=audio)\n",
    "    response = operation.result(timeout=90)\n",
    "    return print_sentences(response)\n",
    "\n",
    "#     print(\"Waiting for operation to complete...\")\n",
    "\n",
    "def print_sentences(response):\n",
    "    for result in response.results:\n",
    "        best_alternative = result.alternatives[0]\n",
    "        transcript = best_alternative.transcript\n",
    "        confidence = best_alternative.confidence\n",
    "        data.append(transcript)\n",
    "        print(\"-\" * 80)\n",
    "        print(f\"Transcript: {transcript}\")\n",
    "        print(f\"Confidence: {confidence:.0%}\")\n",
    "        print_word_offsets(best_alternative)\n",
    "        \n",
    "\n",
    "def print_word_offsets(alternative):\n",
    "    start,end,words = [],[],[]\n",
    "    for word in alternative.words:\n",
    "        start_s = word.start_time.total_seconds()\n",
    "        start.append(start_s)\n",
    "        end_s = word.end_time.total_seconds()\n",
    "        end.append(end_s)\n",
    "        word = word.word\n",
    "        words.append(word)\n",
    "        print(f\"{start_s:>7.3f} | {end_s:>7.3f} | {word}\")\n",
    "        \n",
    "        start_all.append(start_s)\n",
    "        end_all.append(end_s)\n",
    "        word_all.append(word)\n",
    "    return resultdict\n",
    "speech_to_text(config, audio)"
   ]
  },
  {
   "cell_type": "code",
   "execution_count": 73,
   "metadata": {},
   "outputs": [],
   "source": [
    "trans = ''.join(data)\n",
    "resultdict = {'transcript':trans,'values':{'start':start_all,'end':end_all,'word':word_all}}"
   ]
  },
  {
   "cell_type": "code",
   "execution_count": 74,
   "metadata": {},
   "outputs": [
    {
     "data": {
      "text/plain": [
       "\"Hello, you called virtual bank. This is Marina speaking. How may I help you? Hello Marina. I forgotten my banking application password. What should I do? You have to press on forgot password button on the application screen and we'll send you a security number to your phone number. So that mad I didn't use my old phone number anymore, but I haven't changed my details in the bank information. That's fine. Could I have your account number? That's 111? 544-2022. Okay, and what's your identification number? Okay.Money identification number is 11025. 698-542-9811 Dash 2. Okay, I have 110. +256-980-542-9811 - 2 yes, that's right. And what's your name? My name is Amanda Nelson. Okay, Ms. Nelson. What's your phone number now? My phone number is 771-985-5587. I just replied to phone number and you can reset your password in the application by press Alyssa. Go ahead and we'll send you a security number to your phone. Thank you. Thank you for using our service Ms. Nelson. Have a good day.\""
      ]
     },
     "execution_count": 74,
     "metadata": {},
     "output_type": "execute_result"
    }
   ],
   "source": [
    "dict_ = resultdict['transcript']\n",
    "dict_"
   ]
  },
  {
   "cell_type": "code",
   "execution_count": 75,
   "metadata": {},
   "outputs": [
    {
     "data": {
      "text/plain": [
       "'hello you have called virtual bank this is marina speaking how may i help you hello marina i have forgotten my banking application password what should i doyou have to press on forgot password button on the application screen and we will send you a security number to your phone numberoh that is bad i did not use my old phone number anymore but i have not changed my details in the bank information that is fine could i have your account number that is 111 544 222 okay and what is your identification number okay umm my identification number is 11025 69854 11 2 okay i have 11025 69854 11 2 yes that is right and what is your name madam my name is amanda nelson okay miss nelson what is your phone number madam my phone number is 771 985 5587 i just replaced your phone number and you can reset your password in the application by press on the forgot password and we will send you a security number to your phone thank you thank you for using our service ms nelson have a good day'"
      ]
     },
     "execution_count": 75,
     "metadata": {},
     "output_type": "execute_result"
    }
   ],
   "source": [
    "ori_text = open('data/Amanda.txt').read()\n",
    "ori_text"
   ]
  },
  {
   "cell_type": "code",
   "execution_count": 76,
   "metadata": {},
   "outputs": [],
   "source": [
    "def Jaccard_Similarity(doc1, doc2): \n",
    "    \n",
    "    words_doc1 = set(doc1.lower().split()) \n",
    "    words_doc2 = set(doc2.lower().split())\n",
    "    \n",
    "    intersection = set(words_doc1).intersection(set(words_doc2))\n",
    "    union = words_doc1.union(words_doc2)\n",
    "        \n",
    "    return float(len(intersection)) / len(union)"
   ]
  },
  {
   "cell_type": "code",
   "execution_count": 77,
   "metadata": {},
   "outputs": [
    {
     "data": {
      "text/plain": [
       "0.4351145038167939"
      ]
     },
     "execution_count": 77,
     "metadata": {},
     "output_type": "execute_result"
    }
   ],
   "source": [
    "Jaccard_Similarity(dict_, ori_text)"
   ]
  },
  {
   "cell_type": "code",
   "execution_count": 53,
   "metadata": {},
   "outputs": [],
   "source": [
    "import json\n",
    "with open('Amanda.json', 'w') as outfile:\n",
    "    json.dump(resultdict, outfile)"
   ]
  },
  {
   "cell_type": "markdown",
   "metadata": {},
   "source": [
    "# Test2"
   ]
  },
  {
   "cell_type": "code",
   "execution_count": null,
   "metadata": {},
   "outputs": [],
   "source": [
    "from google.cloud import speech\n",
    "\n",
    "audio = speech.RecognitionAudio(uri=\"gs://voicedata_speech/Voice/conversation 3.wav\")\n",
    "config = speech.RecognitionConfig(\n",
    "            #sample_rate_hertz=16000,\n",
    "            language_code=\"en-US\",\n",
    "            enable_automatic_punctuation=True,\n",
    "            enable_word_time_offsets=True,\n",
    "            model=\"phone_call\")\n",
    "\n",
    "data = []\n",
    "start_all = []\n",
    "end_all = []\n",
    "word_all = []\n",
    "\n",
    "\n",
    "def speech_to_text(config, audio):\n",
    "    client = speech.SpeechClient()\n",
    "    operation = client.long_running_recognize(config=config, audio=audio)\n",
    "    response = operation.result(timeout=90)\n",
    "    return print_sentences(response)\n",
    "\n",
    "#     print(\"Waiting for operation to complete...\")\n",
    "\n",
    "def print_sentences(response):\n",
    "    for result in response.results:\n",
    "        best_alternative = result.alternatives[0]\n",
    "        transcript = best_alternative.transcript\n",
    "        confidence = best_alternative.confidence\n",
    "        data.append(transcript)\n",
    "        print(\"-\" * 80)\n",
    "        print(f\"Transcript: {transcript}\")\n",
    "        print(f\"Confidence: {confidence:.0%}\")\n",
    "        print_word_offsets(best_alternative)\n",
    "        \n",
    "\n",
    "def print_word_offsets(alternative):\n",
    "    start,end,words = [],[],[]\n",
    "    for word in alternative.words:\n",
    "        start_s = word.start_time.total_seconds()\n",
    "        start.append(start_s)\n",
    "        end_s = word.end_time.total_seconds()\n",
    "        end.append(end_s)\n",
    "        word = word.word\n",
    "        words.append(word)\n",
    "        print(f\"{start_s:>7.3f} | {end_s:>7.3f} | {word}\")\n",
    "        \n",
    "        start_all.append(start_s)\n",
    "        end_all.append(end_s)\n",
    "        word_all.append(word)\n",
    "    return resultdict\n",
    "speech_to_text(config, audio)"
   ]
  },
  {
   "cell_type": "code",
   "execution_count": null,
   "metadata": {},
   "outputs": [],
   "source": [
    "trans = ''.join(data)\n",
    "resultdict = {'transcript':trans,'values':{'start':start_all,'end':end_all,'word':word_all}}"
   ]
  },
  {
   "cell_type": "code",
   "execution_count": null,
   "metadata": {},
   "outputs": [],
   "source": [
    "dict_ = resultdict['transcript']"
   ]
  },
  {
   "cell_type": "code",
   "execution_count": null,
   "metadata": {},
   "outputs": [],
   "source": [
    "import json\n",
    "with open('data/GG_Speech/conversation 3.json', 'w') as outfile:\n",
    "    json.dump(resultdict, outfile)"
   ]
  },
  {
   "cell_type": "code",
   "execution_count": 98,
   "metadata": {},
   "outputs": [
    {
     "data": {
      "text/plain": [
       "'Hello, you have called Virtual bank, this is Nancy speaking. How may I help you? Oh, I just had withdrawn some cash from the ATM machine and ATM transaction failed but money got debited. Can you fix this problem? Sure. What is your account number? It is 111236669. Just a moment …. Okay and what is your name ma’am? My name is Sandra Reed. And what is your birthday ma’am? July 7th, 1974. Okay, what is your address? 132, My Street, Kingston, New York. Okay, Miss Reed. Can I have your identify number? Okay. 5589766523663. Okay. I have 5589766523663. Correct. Where is the ATM machine that you had withdrawn the cash? I do not know where exactly it is, it’s somewhere on My Street. That is fine, we will check your withdrawal transaction and we will refund the money to your account. Do you want to receive the message when we refunding the money? Yes, please. Okay, what is your phone number ma’am? 8779526987. Okay, I have 8779526987. We will send the message when we refund the money to your account. Thanks, Nancy. Have a good day ma’am. Thank you.'"
      ]
     },
     "execution_count": 98,
     "metadata": {},
     "output_type": "execute_result"
    }
   ],
   "source": [
    "ori_text = open('data/Text files/Nancy-Sandra.txt').read()\n",
    "ori_text"
   ]
  },
  {
   "cell_type": "code",
   "execution_count": 84,
   "metadata": {},
   "outputs": [],
   "source": [
    "def Jaccard_Similarity(doc1, doc2): \n",
    "    \n",
    "    words_doc1 = set(doc1.lower().split()) \n",
    "    words_doc2 = set(doc2.lower().split())\n",
    "    \n",
    "    intersection = set(words_doc1).intersection(set(words_doc2))\n",
    "    union = words_doc1.union(words_doc2)\n",
    "        \n",
    "    return float(len(intersection)) / len(union)"
   ]
  },
  {
   "cell_type": "code",
   "execution_count": 85,
   "metadata": {},
   "outputs": [
    {
     "data": {
      "text/plain": [
       "0.704"
      ]
     },
     "execution_count": 85,
     "metadata": {},
     "output_type": "execute_result"
    }
   ],
   "source": [
    "Jaccard_Similarity(dict_, ori_text)"
   ]
  }
 ],
 "metadata": {
  "kernelspec": {
   "display_name": "Python 3",
   "language": "python",
   "name": "python3"
  },
  "language_info": {
   "codemirror_mode": {
    "name": "ipython",
    "version": 3
   },
   "file_extension": ".py",
   "mimetype": "text/x-python",
   "name": "python",
   "nbconvert_exporter": "python",
   "pygments_lexer": "ipython3",
   "version": "3.7.3"
  }
 },
 "nbformat": 4,
 "nbformat_minor": 4
}
